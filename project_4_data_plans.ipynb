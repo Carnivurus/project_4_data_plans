{
 "cells": [
  {
   "cell_type": "markdown",
   "metadata": {},
   "source": [
    "# ¡Hola, Juan Manuel!  \n",
    "\n",
    "Mi nombre es Carlos Ortiz, soy code reviewer de TripleTen y voy a revisar el proyecto que acabas de desarrollar.\n",
    "\n",
    "Cuando vea un error la primera vez, lo señalaré. Deberás encontrarlo y arreglarlo. La intención es que te prepares para un espacio real de trabajo. En un trabajo, el líder de tu equipo hará lo mismo. Si no puedes solucionar el error, te daré más información en la próxima ocasión. \n",
    "\n",
    "Encontrarás mis comentarios más abajo - **por favor, no los muevas, no los modifiques ni los borres**.\n",
    "\n",
    "¿Cómo lo voy a hacer? Voy a leer detenidamente cada una de las implementaciones que has llevado a cabo para cumplir con lo solicitado. Verás los comentarios de esta forma:\n",
    "\n",
    "<div class=\"alert alert-block alert-success\">\n",
    "<b>Comentario del revisor</b> <a class=\"tocSkip\"></a>\n",
    "    \n",
    "Si todo está perfecto.\n",
    "</div>\n",
    "\n",
    "\n",
    "<div class=\"alert alert-block alert-warning\">\n",
    "<b>Comentario del revisor</b> <a class=\"tocSkip\"></a>\n",
    "    \n",
    "Si tu código está bien pero se puede mejorar o hay algún detalle que le hace falta.\n",
    "</div>\n",
    "\n",
    "\n",
    "<div class=\"alert alert-block alert-danger\">\n",
    "    \n",
    "<b>Comentario del revisor</b> <a class=\"tocSkip\"></a>\n",
    "    \n",
    "    \n",
    "Si de pronto hace falta algo o existe algún problema con tu código o conclusiones.\n",
    "</div>\n",
    "\n",
    "\n",
    "Puedes responderme de esta forma: \n",
    "\n",
    "\n",
    "<div class=\"alert alert-block alert-info\">\n",
    "<b>Respuesta del estudiante</b> <a class=\"tocSkip\"></a>\n",
    "</div>\n",
    "¡Empecemos!"
   ]
  },
  {
   "cell_type": "markdown",
   "metadata": {
    "id": "3rYiDeEH0q0f"
   },
   "source": [
    "# ¿Cuál es la mejor tarifa?\n",
    "\n",
    "Trabajas como analista para el operador de telecomunicaciones Megaline. La empresa ofrece a sus clientes dos tarifas de prepago, Surf y Ultimate. El departamento comercial quiere saber cuál de las tarifas genera más ingresos para poder ajustar el presupuesto de publicidad.\n",
    "\n",
    "Vas a realizar un análisis preliminar de las tarifas basado en una selección de clientes relativamente pequeña. Tendrás los datos de 500 clientes de Megaline: quiénes son los clientes, de dónde son, qué tarifa usan, así como la cantidad de llamadas que hicieron y los mensajes de texto que enviaron en 2018. Tu trabajo es analizar el comportamiento de los clientes y determinar qué tarifa de prepago genera más ingresos."
   ]
  },
  {
   "cell_type": "markdown",
   "metadata": {},
   "source": [
    "En el siguiente documento podran observar un proceso para la manipulación de datos del proyecto, el objetivo principal es identificar la información clave que pueda ser relevante para la empresa Megaline, por lo que será necesario:\n",
    "\n",
    "- Cargar los datos\n",
    "- Procesarlos (Limpieza, corrección y formateo de datos)\n",
    "- Generar información relevante para la empresa.\n",
    "- Crear graficos que enriquezcan los datos.\n",
    "- Analizar los resultados obtenidos\n",
    "- Crear hipotesis"
   ]
  },
  {
   "cell_type": "markdown",
   "metadata": {
    "id": "MQi4IPy70q0y"
   },
   "source": [
    "## Inicialización"
   ]
  },
  {
   "cell_type": "code",
   "execution_count": 1,
   "metadata": {
    "id": "MtYIuBxu0q0z"
   },
   "outputs": [],
   "source": [
    "# Cargaremos todas las librerias necesarias para el proyecto\n",
    "\n",
    "import pandas as pd\n",
    "import scipy.stats as st\n",
    "import numpy as np\n",
    "import math \n",
    "import matplotlib.pyplot as plt\n",
    "import seaborn as sns \n",
    "import scipy.stats as st"
   ]
  },
  {
   "cell_type": "markdown",
   "metadata": {
    "id": "4ysWWC5i0q00"
   },
   "source": [
    "## Cargar datos"
   ]
  },
  {
   "cell_type": "code",
   "execution_count": 2,
   "metadata": {
    "id": "CCqPW7rS0q01"
   },
   "outputs": [],
   "source": [
    "#Para version local\n",
    "\n",
    "# Carga los archivos de datos en diferentes DataFrames\n",
    "\n",
    "# m_calls = pd.read_csv(\"D:/Ejercicios/Python_Tripleten/TripleTen/Projects/Project3/megaline_calls.csv\") #datos sobre llamadas\n",
    "# m_internet = pd.read_csv(\"D:/Ejercicios/Python_Tripleten/TripleTen/Projects/Project3/megaline_internet.csv\") #datos sobre sesiones web\n",
    "# m_messages = pd.read_csv(\"D:/Ejercicios/Python_Tripleten/TripleTen/Projects/Project3/megaline_messages.csv\") #datos sobre sms\n",
    "# m_plans = pd.read_csv(\"D:/Ejercicios/Python_Tripleten/TripleTen/Projects/Project3/megaline_plans.csv\") #datos sobre tarifas\n",
    "# m_users = pd.read_csv(\"D:/Ejercicios/Python_Tripleten/TripleTen/Projects/Project3/megaline_users.csv\") #datos sobre usuarios"
   ]
  },
  {
   "cell_type": "code",
   "execution_count": 3,
   "metadata": {},
   "outputs": [],
   "source": [
    "m_calls = pd.read_csv(\"/datasets/megaline_calls.csv\") #datos sobre llamadas\n",
    "m_internet = pd.read_csv(\"/datasets/megaline_internet.csv\") #datos sobre sesiones web\n",
    "m_messages = pd.read_csv(\"/datasets/megaline_messages.csv\") #datos sobre sms\n",
    "m_plans = pd.read_csv(\"/datasets/megaline_plans.csv\") #datos sobre tarifas\n",
    "m_users = pd.read_csv(\"/datasets/megaline_users.csv\") #datos sobre usuarios"
   ]
  },
  {
   "cell_type": "markdown",
   "metadata": {},
   "source": [
    "<div class=\"alert alert-block alert-info\">\n",
    "<b>Respuesta del estudiante</b> <a class=\"tocSkip\"></a>\n",
    "Muchas gracias, ya lo he corregido\n",
    "</div>"
   ]
  },
  {
   "cell_type": "markdown",
   "metadata": {
    "id": "69qqoJ3r0q01"
   },
   "source": [
    "## Preparar los datos"
   ]
  },
  {
   "cell_type": "markdown",
   "metadata": {},
   "source": [
    "Para cada una de las bases procederemos a realizar los pasos antes mencionados limpieza, corrección y formateo de datos"
   ]
  },
  {
   "cell_type": "markdown",
   "metadata": {
    "id": "1n2X6WXf0q04"
   },
   "source": [
    "## Tarifas"
   ]
  },
  {
   "cell_type": "code",
   "execution_count": 4,
   "metadata": {
    "id": "2NgjWFqx0q05"
   },
   "outputs": [
    {
     "name": "stdout",
     "output_type": "stream",
     "text": [
      "<class 'pandas.core.frame.DataFrame'>\n",
      "RangeIndex: 2 entries, 0 to 1\n",
      "Data columns (total 8 columns):\n",
      " #   Column                 Non-Null Count  Dtype  \n",
      "---  ------                 --------------  -----  \n",
      " 0   messages_included      2 non-null      int64  \n",
      " 1   mb_per_month_included  2 non-null      int64  \n",
      " 2   minutes_included       2 non-null      int64  \n",
      " 3   usd_monthly_pay        2 non-null      int64  \n",
      " 4   usd_per_gb             2 non-null      int64  \n",
      " 5   usd_per_message        2 non-null      float64\n",
      " 6   usd_per_minute         2 non-null      float64\n",
      " 7   plan_name              2 non-null      object \n",
      "dtypes: float64(2), int64(5), object(1)\n",
      "memory usage: 256.0+ bytes\n"
     ]
    }
   ],
   "source": [
    "m_plans.info()"
   ]
  },
  {
   "cell_type": "code",
   "execution_count": 5,
   "metadata": {
    "id": "1IN1L9uh0q05"
   },
   "outputs": [
    {
     "data": {
      "text/html": [
       "<div>\n",
       "<style scoped>\n",
       "    .dataframe tbody tr th:only-of-type {\n",
       "        vertical-align: middle;\n",
       "    }\n",
       "\n",
       "    .dataframe tbody tr th {\n",
       "        vertical-align: top;\n",
       "    }\n",
       "\n",
       "    .dataframe thead th {\n",
       "        text-align: right;\n",
       "    }\n",
       "</style>\n",
       "<table border=\"1\" class=\"dataframe\">\n",
       "  <thead>\n",
       "    <tr style=\"text-align: right;\">\n",
       "      <th></th>\n",
       "      <th>messages_included</th>\n",
       "      <th>mb_per_month_included</th>\n",
       "      <th>minutes_included</th>\n",
       "      <th>usd_monthly_pay</th>\n",
       "      <th>usd_per_gb</th>\n",
       "      <th>usd_per_message</th>\n",
       "      <th>usd_per_minute</th>\n",
       "      <th>plan_name</th>\n",
       "    </tr>\n",
       "  </thead>\n",
       "  <tbody>\n",
       "    <tr>\n",
       "      <th>0</th>\n",
       "      <td>50</td>\n",
       "      <td>15360</td>\n",
       "      <td>500</td>\n",
       "      <td>20</td>\n",
       "      <td>10</td>\n",
       "      <td>0.03</td>\n",
       "      <td>0.03</td>\n",
       "      <td>surf</td>\n",
       "    </tr>\n",
       "    <tr>\n",
       "      <th>1</th>\n",
       "      <td>1000</td>\n",
       "      <td>30720</td>\n",
       "      <td>3000</td>\n",
       "      <td>70</td>\n",
       "      <td>7</td>\n",
       "      <td>0.01</td>\n",
       "      <td>0.01</td>\n",
       "      <td>ultimate</td>\n",
       "    </tr>\n",
       "  </tbody>\n",
       "</table>\n",
       "</div>"
      ],
      "text/plain": [
       "   messages_included  mb_per_month_included  minutes_included  \\\n",
       "0                 50                  15360               500   \n",
       "1               1000                  30720              3000   \n",
       "\n",
       "   usd_monthly_pay  usd_per_gb  usd_per_message  usd_per_minute plan_name  \n",
       "0               20          10             0.03            0.03      surf  \n",
       "1               70           7             0.01            0.01  ultimate  "
      ]
     },
     "execution_count": 5,
     "metadata": {},
     "output_type": "execute_result"
    }
   ],
   "source": [
    "m_plans.head()"
   ]
  },
  {
   "cell_type": "markdown",
   "metadata": {
    "id": "dCZoUq4f0q06"
   },
   "source": [
    "La información es correcta, sin embargo se manipulará la columna **mb_per_month_included** para poder trabajarla en Gigas"
   ]
  },
  {
   "cell_type": "markdown",
   "metadata": {
    "id": "BX5FQh_I0q06"
   },
   "source": [
    "### Corregir los datos"
   ]
  },
  {
   "cell_type": "markdown",
   "metadata": {},
   "source": [
    "Se transforman los megas a GB para poder usar el comparativo como lo piden en el proyecto"
   ]
  },
  {
   "cell_type": "code",
   "execution_count": 6,
   "metadata": {},
   "outputs": [],
   "source": [
    "m_plans[\"mb_per_month_included\"] = m_plans[\"mb_per_month_included\"].astype(float)\n",
    "m_plans[\"mb_per_month_included\"] = m_plans[\"mb_per_month_included\"].apply(lambda x: math.floor(x/1024))"
   ]
  },
  {
   "cell_type": "code",
   "execution_count": 7,
   "metadata": {},
   "outputs": [
    {
     "data": {
      "text/html": [
       "<div>\n",
       "<style scoped>\n",
       "    .dataframe tbody tr th:only-of-type {\n",
       "        vertical-align: middle;\n",
       "    }\n",
       "\n",
       "    .dataframe tbody tr th {\n",
       "        vertical-align: top;\n",
       "    }\n",
       "\n",
       "    .dataframe thead th {\n",
       "        text-align: right;\n",
       "    }\n",
       "</style>\n",
       "<table border=\"1\" class=\"dataframe\">\n",
       "  <thead>\n",
       "    <tr style=\"text-align: right;\">\n",
       "      <th></th>\n",
       "      <th>messages_included</th>\n",
       "      <th>mb_per_month_included</th>\n",
       "      <th>minutes_included</th>\n",
       "      <th>usd_monthly_pay</th>\n",
       "      <th>usd_per_gb</th>\n",
       "      <th>usd_per_message</th>\n",
       "      <th>usd_per_minute</th>\n",
       "      <th>plan_name</th>\n",
       "    </tr>\n",
       "  </thead>\n",
       "  <tbody>\n",
       "    <tr>\n",
       "      <th>0</th>\n",
       "      <td>50</td>\n",
       "      <td>15</td>\n",
       "      <td>500</td>\n",
       "      <td>20</td>\n",
       "      <td>10</td>\n",
       "      <td>0.03</td>\n",
       "      <td>0.03</td>\n",
       "      <td>surf</td>\n",
       "    </tr>\n",
       "    <tr>\n",
       "      <th>1</th>\n",
       "      <td>1000</td>\n",
       "      <td>30</td>\n",
       "      <td>3000</td>\n",
       "      <td>70</td>\n",
       "      <td>7</td>\n",
       "      <td>0.01</td>\n",
       "      <td>0.01</td>\n",
       "      <td>ultimate</td>\n",
       "    </tr>\n",
       "  </tbody>\n",
       "</table>\n",
       "</div>"
      ],
      "text/plain": [
       "   messages_included  mb_per_month_included  minutes_included  \\\n",
       "0                 50                     15               500   \n",
       "1               1000                     30              3000   \n",
       "\n",
       "   usd_monthly_pay  usd_per_gb  usd_per_message  usd_per_minute plan_name  \n",
       "0               20          10             0.03            0.03      surf  \n",
       "1               70           7             0.01            0.01  ultimate  "
      ]
     },
     "execution_count": 7,
     "metadata": {},
     "output_type": "execute_result"
    }
   ],
   "source": [
    "m_plans[\"mb_per_month_included\"] = m_plans[\"mb_per_month_included\"].astype(int)\n",
    "m_plans"
   ]
  },
  {
   "cell_type": "markdown",
   "metadata": {},
   "source": [
    "<div class=\"alert alert-block alert-success\">\n",
    "<b>Comentario del revisor</b> <a class=\"tocSkip\"></a>\n",
    "    \n",
    "Buen trabajo.\n",
    "</div>"
   ]
  },
  {
   "cell_type": "markdown",
   "metadata": {
    "id": "ycwuARJp0q07"
   },
   "source": [
    "### Enriquecer los datos"
   ]
  },
  {
   "cell_type": "markdown",
   "metadata": {
    "id": "96NIh4CJ0q08"
   },
   "source": [
    "Podemos pasar el plan name a dtype=Category"
   ]
  },
  {
   "cell_type": "code",
   "execution_count": 8,
   "metadata": {},
   "outputs": [
    {
     "name": "stdout",
     "output_type": "stream",
     "text": [
      "<class 'pandas.core.frame.DataFrame'>\n",
      "RangeIndex: 2 entries, 0 to 1\n",
      "Data columns (total 8 columns):\n",
      " #   Column                 Non-Null Count  Dtype   \n",
      "---  ------                 --------------  -----   \n",
      " 0   messages_included      2 non-null      int64   \n",
      " 1   mb_per_month_included  2 non-null      int64   \n",
      " 2   minutes_included       2 non-null      int64   \n",
      " 3   usd_monthly_pay        2 non-null      int64   \n",
      " 4   usd_per_gb             2 non-null      int64   \n",
      " 5   usd_per_message        2 non-null      float64 \n",
      " 6   usd_per_minute         2 non-null      float64 \n",
      " 7   plan_name              2 non-null      category\n",
      "dtypes: category(1), float64(2), int64(5)\n",
      "memory usage: 366.0 bytes\n"
     ]
    }
   ],
   "source": [
    "m_plans[\"plan_name\"]= m_plans[\"plan_name\"].astype(\"category\") \n",
    "m_plans.info()"
   ]
  },
  {
   "cell_type": "markdown",
   "metadata": {},
   "source": [
    "## Usuarios/as"
   ]
  },
  {
   "cell_type": "code",
   "execution_count": 9,
   "metadata": {},
   "outputs": [
    {
     "name": "stdout",
     "output_type": "stream",
     "text": [
      "<class 'pandas.core.frame.DataFrame'>\n",
      "RangeIndex: 500 entries, 0 to 499\n",
      "Data columns (total 8 columns):\n",
      " #   Column      Non-Null Count  Dtype \n",
      "---  ------      --------------  ----- \n",
      " 0   user_id     500 non-null    int64 \n",
      " 1   first_name  500 non-null    object\n",
      " 2   last_name   500 non-null    object\n",
      " 3   age         500 non-null    int64 \n",
      " 4   city        500 non-null    object\n",
      " 5   reg_date    500 non-null    object\n",
      " 6   plan        500 non-null    object\n",
      " 7   churn_date  34 non-null     object\n",
      "dtypes: int64(2), object(6)\n",
      "memory usage: 31.4+ KB\n"
     ]
    }
   ],
   "source": [
    "m_users.info()"
   ]
  },
  {
   "cell_type": "markdown",
   "metadata": {},
   "source": [
    "Identificamos que la base cuenta con 500 filas, en donde churn_date tiene valores nulos, de acuerdo con la documentación previa al proyecto, estos valores nulos hacen referencia a que los usuarios siguen activos, no puedo rellenar esos valores debido a que deberían de encontrarse en un formato de datetime."
   ]
  },
  {
   "cell_type": "code",
   "execution_count": 10,
   "metadata": {},
   "outputs": [
    {
     "data": {
      "text/html": [
       "<div>\n",
       "<style scoped>\n",
       "    .dataframe tbody tr th:only-of-type {\n",
       "        vertical-align: middle;\n",
       "    }\n",
       "\n",
       "    .dataframe tbody tr th {\n",
       "        vertical-align: top;\n",
       "    }\n",
       "\n",
       "    .dataframe thead th {\n",
       "        text-align: right;\n",
       "    }\n",
       "</style>\n",
       "<table border=\"1\" class=\"dataframe\">\n",
       "  <thead>\n",
       "    <tr style=\"text-align: right;\">\n",
       "      <th></th>\n",
       "      <th>user_id</th>\n",
       "      <th>first_name</th>\n",
       "      <th>last_name</th>\n",
       "      <th>age</th>\n",
       "      <th>city</th>\n",
       "      <th>reg_date</th>\n",
       "      <th>plan</th>\n",
       "      <th>churn_date</th>\n",
       "    </tr>\n",
       "  </thead>\n",
       "  <tbody>\n",
       "    <tr>\n",
       "      <th>132</th>\n",
       "      <td>1132</td>\n",
       "      <td>Edward</td>\n",
       "      <td>Roberts</td>\n",
       "      <td>39</td>\n",
       "      <td>San Francisco-Oakland-Berkeley, CA MSA</td>\n",
       "      <td>2018-04-14</td>\n",
       "      <td>ultimate</td>\n",
       "      <td>NaN</td>\n",
       "    </tr>\n",
       "    <tr>\n",
       "      <th>22</th>\n",
       "      <td>1022</td>\n",
       "      <td>Bo</td>\n",
       "      <td>Snow</td>\n",
       "      <td>73</td>\n",
       "      <td>New York-Newark-Jersey City, NY-NJ-PA MSA</td>\n",
       "      <td>2018-04-20</td>\n",
       "      <td>surf</td>\n",
       "      <td>2018-09-07</td>\n",
       "    </tr>\n",
       "    <tr>\n",
       "      <th>231</th>\n",
       "      <td>1231</td>\n",
       "      <td>Gaylord</td>\n",
       "      <td>Witt</td>\n",
       "      <td>57</td>\n",
       "      <td>San Jose-Sunnyvale-Santa Clara, CA MSA</td>\n",
       "      <td>2018-01-19</td>\n",
       "      <td>ultimate</td>\n",
       "      <td>NaN</td>\n",
       "    </tr>\n",
       "    <tr>\n",
       "      <th>310</th>\n",
       "      <td>1310</td>\n",
       "      <td>Vincent</td>\n",
       "      <td>Fry</td>\n",
       "      <td>73</td>\n",
       "      <td>Portland-Vancouver-Hillsboro, OR-WA MSA</td>\n",
       "      <td>2018-11-29</td>\n",
       "      <td>surf</td>\n",
       "      <td>NaN</td>\n",
       "    </tr>\n",
       "    <tr>\n",
       "      <th>267</th>\n",
       "      <td>1267</td>\n",
       "      <td>Gia</td>\n",
       "      <td>Parker</td>\n",
       "      <td>53</td>\n",
       "      <td>St. Louis, MO-IL MSA</td>\n",
       "      <td>2018-03-12</td>\n",
       "      <td>surf</td>\n",
       "      <td>NaN</td>\n",
       "    </tr>\n",
       "  </tbody>\n",
       "</table>\n",
       "</div>"
      ],
      "text/plain": [
       "     user_id first_name last_name  age  \\\n",
       "132     1132     Edward   Roberts   39   \n",
       "22      1022         Bo      Snow   73   \n",
       "231     1231    Gaylord      Witt   57   \n",
       "310     1310    Vincent       Fry   73   \n",
       "267     1267        Gia    Parker   53   \n",
       "\n",
       "                                          city    reg_date      plan  \\\n",
       "132     San Francisco-Oakland-Berkeley, CA MSA  2018-04-14  ultimate   \n",
       "22   New York-Newark-Jersey City, NY-NJ-PA MSA  2018-04-20      surf   \n",
       "231     San Jose-Sunnyvale-Santa Clara, CA MSA  2018-01-19  ultimate   \n",
       "310    Portland-Vancouver-Hillsboro, OR-WA MSA  2018-11-29      surf   \n",
       "267                       St. Louis, MO-IL MSA  2018-03-12      surf   \n",
       "\n",
       "     churn_date  \n",
       "132         NaN  \n",
       "22   2018-09-07  \n",
       "231         NaN  \n",
       "310         NaN  \n",
       "267         NaN  "
      ]
     },
     "execution_count": 10,
     "metadata": {},
     "output_type": "execute_result"
    }
   ],
   "source": [
    "m_users.sample(5)"
   ]
  },
  {
   "cell_type": "markdown",
   "metadata": {},
   "source": [
    "La columna reg_date debe cambiarse a formato datetime, procederé a corroborar:\n",
    "\n",
    "- Los id's son únicos :  **Aprobado**\n",
    "- Valores minimos y maximos de las edades : **Aprobado (18 a 75)**\n",
    "- Agrupar por ciudades y visualizar posibles repeticiones por sintaxis: **Todo en orden**\n",
    "- Modificar el reg_date a datetime y verificar coherencia de fechas (maximo, mínimo): **Los datos corresponden al periodo de ene-dic 2018**\n",
    "- Verificar que solo existen dos planes (unique): **Comprobado**\n",
    "<!-- - Informarme si es mejor dejar la fecha como null y solo filtrar por diferentes de null: **Decidí crear otra columna donde los usuarios se divirán en las categorías \"Active\" y \"Inactive\"** |No es funcional -->"
   ]
  },
  {
   "cell_type": "markdown",
   "metadata": {},
   "source": [
    "## Corregir datos"
   ]
  },
  {
   "cell_type": "code",
   "execution_count": 11,
   "metadata": {},
   "outputs": [
    {
     "data": {
      "text/html": [
       "<div>\n",
       "<style scoped>\n",
       "    .dataframe tbody tr th:only-of-type {\n",
       "        vertical-align: middle;\n",
       "    }\n",
       "\n",
       "    .dataframe tbody tr th {\n",
       "        vertical-align: top;\n",
       "    }\n",
       "\n",
       "    .dataframe thead th {\n",
       "        text-align: right;\n",
       "    }\n",
       "</style>\n",
       "<table border=\"1\" class=\"dataframe\">\n",
       "  <thead>\n",
       "    <tr style=\"text-align: right;\">\n",
       "      <th></th>\n",
       "      <th>user_id</th>\n",
       "      <th>first_name</th>\n",
       "      <th>last_name</th>\n",
       "      <th>age</th>\n",
       "      <th>city</th>\n",
       "      <th>reg_date</th>\n",
       "      <th>plan</th>\n",
       "      <th>churn_date</th>\n",
       "    </tr>\n",
       "  </thead>\n",
       "  <tbody>\n",
       "    <tr>\n",
       "      <th>0</th>\n",
       "      <td>1000</td>\n",
       "      <td>Anamaria</td>\n",
       "      <td>Bauer</td>\n",
       "      <td>45</td>\n",
       "      <td>Atlanta-Sandy Springs-Roswell, GA MSA</td>\n",
       "      <td>2018-12-24</td>\n",
       "      <td>ultimate</td>\n",
       "      <td>NaT</td>\n",
       "    </tr>\n",
       "    <tr>\n",
       "      <th>1</th>\n",
       "      <td>1001</td>\n",
       "      <td>Mickey</td>\n",
       "      <td>Wilkerson</td>\n",
       "      <td>28</td>\n",
       "      <td>Seattle-Tacoma-Bellevue, WA MSA</td>\n",
       "      <td>2018-08-13</td>\n",
       "      <td>surf</td>\n",
       "      <td>NaT</td>\n",
       "    </tr>\n",
       "    <tr>\n",
       "      <th>2</th>\n",
       "      <td>1002</td>\n",
       "      <td>Carlee</td>\n",
       "      <td>Hoffman</td>\n",
       "      <td>36</td>\n",
       "      <td>Las Vegas-Henderson-Paradise, NV MSA</td>\n",
       "      <td>2018-10-21</td>\n",
       "      <td>surf</td>\n",
       "      <td>NaT</td>\n",
       "    </tr>\n",
       "    <tr>\n",
       "      <th>3</th>\n",
       "      <td>1003</td>\n",
       "      <td>Reynaldo</td>\n",
       "      <td>Jenkins</td>\n",
       "      <td>52</td>\n",
       "      <td>Tulsa, OK MSA</td>\n",
       "      <td>2018-01-28</td>\n",
       "      <td>surf</td>\n",
       "      <td>NaT</td>\n",
       "    </tr>\n",
       "    <tr>\n",
       "      <th>4</th>\n",
       "      <td>1004</td>\n",
       "      <td>Leonila</td>\n",
       "      <td>Thompson</td>\n",
       "      <td>40</td>\n",
       "      <td>Seattle-Tacoma-Bellevue, WA MSA</td>\n",
       "      <td>2018-05-23</td>\n",
       "      <td>surf</td>\n",
       "      <td>NaT</td>\n",
       "    </tr>\n",
       "    <tr>\n",
       "      <th>...</th>\n",
       "      <td>...</td>\n",
       "      <td>...</td>\n",
       "      <td>...</td>\n",
       "      <td>...</td>\n",
       "      <td>...</td>\n",
       "      <td>...</td>\n",
       "      <td>...</td>\n",
       "      <td>...</td>\n",
       "    </tr>\n",
       "    <tr>\n",
       "      <th>495</th>\n",
       "      <td>1495</td>\n",
       "      <td>Fidel</td>\n",
       "      <td>Sharpe</td>\n",
       "      <td>67</td>\n",
       "      <td>New York-Newark-Jersey City, NY-NJ-PA MSA</td>\n",
       "      <td>2018-09-04</td>\n",
       "      <td>surf</td>\n",
       "      <td>NaT</td>\n",
       "    </tr>\n",
       "    <tr>\n",
       "      <th>496</th>\n",
       "      <td>1496</td>\n",
       "      <td>Ariel</td>\n",
       "      <td>Shepherd</td>\n",
       "      <td>49</td>\n",
       "      <td>New Orleans-Metairie, LA MSA</td>\n",
       "      <td>2018-02-20</td>\n",
       "      <td>surf</td>\n",
       "      <td>NaT</td>\n",
       "    </tr>\n",
       "    <tr>\n",
       "      <th>497</th>\n",
       "      <td>1497</td>\n",
       "      <td>Donte</td>\n",
       "      <td>Barrera</td>\n",
       "      <td>49</td>\n",
       "      <td>Los Angeles-Long Beach-Anaheim, CA MSA</td>\n",
       "      <td>2018-12-10</td>\n",
       "      <td>ultimate</td>\n",
       "      <td>NaT</td>\n",
       "    </tr>\n",
       "    <tr>\n",
       "      <th>498</th>\n",
       "      <td>1498</td>\n",
       "      <td>Scot</td>\n",
       "      <td>Williamson</td>\n",
       "      <td>51</td>\n",
       "      <td>New York-Newark-Jersey City, NY-NJ-PA MSA</td>\n",
       "      <td>2018-02-04</td>\n",
       "      <td>surf</td>\n",
       "      <td>NaT</td>\n",
       "    </tr>\n",
       "    <tr>\n",
       "      <th>499</th>\n",
       "      <td>1499</td>\n",
       "      <td>Shena</td>\n",
       "      <td>Dickson</td>\n",
       "      <td>37</td>\n",
       "      <td>Orlando-Kissimmee-Sanford, FL MSA</td>\n",
       "      <td>2018-05-06</td>\n",
       "      <td>surf</td>\n",
       "      <td>NaT</td>\n",
       "    </tr>\n",
       "  </tbody>\n",
       "</table>\n",
       "<p>500 rows × 8 columns</p>\n",
       "</div>"
      ],
      "text/plain": [
       "     user_id first_name   last_name  age  \\\n",
       "0       1000   Anamaria       Bauer   45   \n",
       "1       1001     Mickey   Wilkerson   28   \n",
       "2       1002     Carlee     Hoffman   36   \n",
       "3       1003   Reynaldo     Jenkins   52   \n",
       "4       1004    Leonila    Thompson   40   \n",
       "..       ...        ...         ...  ...   \n",
       "495     1495      Fidel      Sharpe   67   \n",
       "496     1496      Ariel    Shepherd   49   \n",
       "497     1497      Donte     Barrera   49   \n",
       "498     1498       Scot  Williamson   51   \n",
       "499     1499      Shena     Dickson   37   \n",
       "\n",
       "                                          city   reg_date      plan churn_date  \n",
       "0        Atlanta-Sandy Springs-Roswell, GA MSA 2018-12-24  ultimate        NaT  \n",
       "1              Seattle-Tacoma-Bellevue, WA MSA 2018-08-13      surf        NaT  \n",
       "2         Las Vegas-Henderson-Paradise, NV MSA 2018-10-21      surf        NaT  \n",
       "3                                Tulsa, OK MSA 2018-01-28      surf        NaT  \n",
       "4              Seattle-Tacoma-Bellevue, WA MSA 2018-05-23      surf        NaT  \n",
       "..                                         ...        ...       ...        ...  \n",
       "495  New York-Newark-Jersey City, NY-NJ-PA MSA 2018-09-04      surf        NaT  \n",
       "496               New Orleans-Metairie, LA MSA 2018-02-20      surf        NaT  \n",
       "497     Los Angeles-Long Beach-Anaheim, CA MSA 2018-12-10  ultimate        NaT  \n",
       "498  New York-Newark-Jersey City, NY-NJ-PA MSA 2018-02-04      surf        NaT  \n",
       "499          Orlando-Kissimmee-Sanford, FL MSA 2018-05-06      surf        NaT  \n",
       "\n",
       "[500 rows x 8 columns]"
      ]
     },
     "execution_count": 11,
     "metadata": {},
     "output_type": "execute_result"
    }
   ],
   "source": [
    "m_users.duplicated().sum() #No hay duplicados generales (a total fila)\n",
    "m_users[\"user_id\"].nunique()  #Confirmamos que no hay errores de duplicidad\n",
    "m_users[\"age\"].min() #Valor minimo 18\n",
    "m_users[\"age\"].max() #Valor máximo 75\n",
    "\n",
    "#Agruparé para corroborar que las ciudades estan OK\n",
    "temp_df = m_users.groupby(\"city\")[\"user_id\"].count().reset_index().sort_values(by=\"city\")\n",
    "temp_df.head(60)\n",
    "temp_df.tail(60)\n",
    "\n",
    "#Modificamos el tipo de dato de reg_date\n",
    "m_users[\"reg_date\"]= pd.to_datetime(m_users[\"reg_date\"], format=\"%Y-%m-%d\")\n",
    "# m_users.info() #Cambio realizado correctamente\n",
    "m_users[\"reg_date\"].min() #2018-01-01\n",
    "m_users[\"reg_date\"].max() #2018-12-31\n",
    "m_users[\"plan\"].unique() #Solo 2 planes\n",
    "\n",
    "#Modificamos el tipo de dato de reg_date\n",
    "m_users[\"churn_date\"] = pd.to_datetime(m_users[\"churn_date\"], format= \"%Y-%m-%d\")\n",
    "\n",
    "m_users"
   ]
  },
  {
   "cell_type": "markdown",
   "metadata": {},
   "source": [
    "El siguiente bloque fue documentado ya que no represento funcionalidad a la hora de la realización de analisis. Se mantiene por un posible futuro uso."
   ]
  },
  {
   "cell_type": "code",
   "execution_count": 12,
   "metadata": {},
   "outputs": [],
   "source": [
    "# #Creo una funcion para apply\n",
    "# def rellenar(x):\n",
    "#  if pd.isnull(x):\n",
    "#     return \"Active\"\n",
    "#  else:\n",
    "#     return \"Inactive\"  \n",
    "# \n",
    "#Segunda forma de hacerlo (mediante lambda)\n",
    "# m_users[\"status\"] = m_users[\"churn_date\"].apply(lambda x: \"Active\" if pd.isnull(x) else \"Inactive\")\n",
    "# m_users.groupby(\"status\").count() #466 Active clients\n"
   ]
  },
  {
   "cell_type": "code",
   "execution_count": 13,
   "metadata": {},
   "outputs": [
    {
     "data": {
      "text/plain": [
       "466"
      ]
     },
     "execution_count": 13,
     "metadata": {},
     "output_type": "execute_result"
    }
   ],
   "source": [
    "m_users[\"churn_date\"].isnull().sum() #corroboro con la base original 466 null (usuarios que todavía no dejaban el serivicio)"
   ]
  },
  {
   "cell_type": "markdown",
   "metadata": {},
   "source": [
    "## Enriquecer los datos"
   ]
  },
  {
   "cell_type": "markdown",
   "metadata": {},
   "source": [
    "Cambiaremos plan pasará al tipo \"category\""
   ]
  },
  {
   "cell_type": "code",
   "execution_count": 14,
   "metadata": {},
   "outputs": [
    {
     "name": "stdout",
     "output_type": "stream",
     "text": [
      "<class 'pandas.core.frame.DataFrame'>\n",
      "RangeIndex: 500 entries, 0 to 499\n",
      "Data columns (total 8 columns):\n",
      " #   Column      Non-Null Count  Dtype         \n",
      "---  ------      --------------  -----         \n",
      " 0   user_id     500 non-null    int64         \n",
      " 1   first_name  500 non-null    object        \n",
      " 2   last_name   500 non-null    object        \n",
      " 3   age         500 non-null    int64         \n",
      " 4   city        500 non-null    object        \n",
      " 5   reg_date    500 non-null    datetime64[ns]\n",
      " 6   plan        500 non-null    category      \n",
      " 7   churn_date  34 non-null     datetime64[ns]\n",
      "dtypes: category(1), datetime64[ns](2), int64(2), object(3)\n",
      "memory usage: 28.1+ KB\n"
     ]
    }
   ],
   "source": [
    "m_users[\"plan\"]= m_users[\"plan\"].astype(\"category\")\n",
    "m_users.info()"
   ]
  },
  {
   "cell_type": "markdown",
   "metadata": {
    "id": "o7MeKCid0q08"
   },
   "source": [
    "## Llamadas"
   ]
  },
  {
   "cell_type": "code",
   "execution_count": 15,
   "metadata": {
    "id": "6dDlnoDm0q08"
   },
   "outputs": [
    {
     "name": "stdout",
     "output_type": "stream",
     "text": [
      "<class 'pandas.core.frame.DataFrame'>\n",
      "RangeIndex: 137735 entries, 0 to 137734\n",
      "Data columns (total 4 columns):\n",
      " #   Column     Non-Null Count   Dtype  \n",
      "---  ------     --------------   -----  \n",
      " 0   id         137735 non-null  object \n",
      " 1   user_id    137735 non-null  int64  \n",
      " 2   call_date  137735 non-null  object \n",
      " 3   duration   137735 non-null  float64\n",
      "dtypes: float64(1), int64(1), object(2)\n",
      "memory usage: 4.2+ MB\n"
     ]
    }
   ],
   "source": [
    "m_calls.info()"
   ]
  },
  {
   "cell_type": "code",
   "execution_count": 16,
   "metadata": {
    "id": "kuh1vlNB0q09"
   },
   "outputs": [
    {
     "data": {
      "text/html": [
       "<div>\n",
       "<style scoped>\n",
       "    .dataframe tbody tr th:only-of-type {\n",
       "        vertical-align: middle;\n",
       "    }\n",
       "\n",
       "    .dataframe tbody tr th {\n",
       "        vertical-align: top;\n",
       "    }\n",
       "\n",
       "    .dataframe thead th {\n",
       "        text-align: right;\n",
       "    }\n",
       "</style>\n",
       "<table border=\"1\" class=\"dataframe\">\n",
       "  <thead>\n",
       "    <tr style=\"text-align: right;\">\n",
       "      <th></th>\n",
       "      <th>id</th>\n",
       "      <th>user_id</th>\n",
       "      <th>call_date</th>\n",
       "      <th>duration</th>\n",
       "    </tr>\n",
       "  </thead>\n",
       "  <tbody>\n",
       "    <tr>\n",
       "      <th>37978</th>\n",
       "      <td>1142_147</td>\n",
       "      <td>1142</td>\n",
       "      <td>2018-11-12</td>\n",
       "      <td>14.11</td>\n",
       "    </tr>\n",
       "    <tr>\n",
       "      <th>14868</th>\n",
       "      <td>1060_250</td>\n",
       "      <td>1060</td>\n",
       "      <td>2018-10-20</td>\n",
       "      <td>4.31</td>\n",
       "    </tr>\n",
       "    <tr>\n",
       "      <th>93689</th>\n",
       "      <td>1334_1057</td>\n",
       "      <td>1334</td>\n",
       "      <td>2018-05-01</td>\n",
       "      <td>2.23</td>\n",
       "    </tr>\n",
       "    <tr>\n",
       "      <th>117165</th>\n",
       "      <td>1409_227</td>\n",
       "      <td>1409</td>\n",
       "      <td>2018-10-21</td>\n",
       "      <td>0.00</td>\n",
       "    </tr>\n",
       "    <tr>\n",
       "      <th>111365</th>\n",
       "      <td>1391_113</td>\n",
       "      <td>1391</td>\n",
       "      <td>2018-11-10</td>\n",
       "      <td>11.26</td>\n",
       "    </tr>\n",
       "    <tr>\n",
       "      <th>25340</th>\n",
       "      <td>1098_4</td>\n",
       "      <td>1098</td>\n",
       "      <td>2018-11-21</td>\n",
       "      <td>0.00</td>\n",
       "    </tr>\n",
       "    <tr>\n",
       "      <th>75973</th>\n",
       "      <td>1268_477</td>\n",
       "      <td>1268</td>\n",
       "      <td>2018-11-05</td>\n",
       "      <td>16.08</td>\n",
       "    </tr>\n",
       "    <tr>\n",
       "      <th>9466</th>\n",
       "      <td>1042_397</td>\n",
       "      <td>1042</td>\n",
       "      <td>2018-08-23</td>\n",
       "      <td>23.66</td>\n",
       "    </tr>\n",
       "    <tr>\n",
       "      <th>94520</th>\n",
       "      <td>1336_393</td>\n",
       "      <td>1336</td>\n",
       "      <td>2018-10-29</td>\n",
       "      <td>11.02</td>\n",
       "    </tr>\n",
       "    <tr>\n",
       "      <th>94994</th>\n",
       "      <td>1336_947</td>\n",
       "      <td>1336</td>\n",
       "      <td>2018-06-22</td>\n",
       "      <td>7.09</td>\n",
       "    </tr>\n",
       "  </tbody>\n",
       "</table>\n",
       "</div>"
      ],
      "text/plain": [
       "               id  user_id   call_date  duration\n",
       "37978    1142_147     1142  2018-11-12     14.11\n",
       "14868    1060_250     1060  2018-10-20      4.31\n",
       "93689   1334_1057     1334  2018-05-01      2.23\n",
       "117165   1409_227     1409  2018-10-21      0.00\n",
       "111365   1391_113     1391  2018-11-10     11.26\n",
       "25340      1098_4     1098  2018-11-21      0.00\n",
       "75973    1268_477     1268  2018-11-05     16.08\n",
       "9466     1042_397     1042  2018-08-23     23.66\n",
       "94520    1336_393     1336  2018-10-29     11.02\n",
       "94994    1336_947     1336  2018-06-22      7.09"
      ]
     },
     "execution_count": 16,
     "metadata": {},
     "output_type": "execute_result"
    }
   ],
   "source": [
    "m_calls.sample(10)"
   ]
  },
  {
   "cell_type": "markdown",
   "metadata": {
    "id": "DOAxYJSx0q09"
   },
   "source": [
    "Los datos parecen correctos, no hay valores nulos, y parece que la única modificación sería cambiar el tipo de dato de la serie call_date, sin embargo, procederé a: \n",
    "\n",
    "- Verificar que los id's de llamada sean únicos: **Confirmado**\n",
    "- Verificar si se repiten user_id: **Confirmado**, hay valores repedidos, pero son esperados\n",
    "- Pasar call_date a date_time: **Hecho**\n",
    "- Verificar la duracion minima y maxima de la llamada: **min= 0 y max= 37.6**\n",
    "- Redondear duration con ceiling() (Megaline redondea los segundos a minutos): **Hecho**"
   ]
  },
  {
   "cell_type": "markdown",
   "metadata": {
    "id": "S7hzxmbX0q0-"
   },
   "source": [
    "### Corregir los datos"
   ]
  },
  {
   "cell_type": "code",
   "execution_count": 17,
   "metadata": {
    "id": "S2r8xA4f0q0-"
   },
   "outputs": [
    {
     "name": "stdout",
     "output_type": "stream",
     "text": [
      "<class 'pandas.core.frame.DataFrame'>\n",
      "RangeIndex: 137735 entries, 0 to 137734\n",
      "Data columns (total 4 columns):\n",
      " #   Column     Non-Null Count   Dtype         \n",
      "---  ------     --------------   -----         \n",
      " 0   id         137735 non-null  object        \n",
      " 1   user_id    137735 non-null  int64         \n",
      " 2   call_date  137735 non-null  datetime64[ns]\n",
      " 3   duration   137735 non-null  float64       \n",
      "dtypes: datetime64[ns](1), float64(1), int64(1), object(1)\n",
      "memory usage: 4.2+ MB\n"
     ]
    },
    {
     "data": {
      "text/plain": [
       "37.6"
      ]
     },
     "execution_count": 17,
     "metadata": {},
     "output_type": "execute_result"
    }
   ],
   "source": [
    "m_calls[\"id\"].nunique() #Todos los valores son únicos.\n",
    "m_calls[\"user_id\"].nunique() #Hay valores repedidos, pero son esperados\n",
    "\n",
    "#Cambiamos call_date a tipo fecha\n",
    "m_calls[\"call_date\"]= pd.to_datetime(m_calls[\"call_date\"], format=\"%Y-%m-%d\")\n",
    "m_calls.info() \n",
    "\n",
    "m_calls[\"duration\"].min() #0\n",
    "m_calls[\"duration\"].max() #37.6"
   ]
  },
  {
   "cell_type": "markdown",
   "metadata": {
    "id": "KrMgTrlG0q0_"
   },
   "source": [
    "### Enriquecer los datos"
   ]
  },
  {
   "cell_type": "markdown",
   "metadata": {},
   "source": [
    "Se procede a redondear hacia arriba \"ceil()\" la duración de la llamada. (Megaline redondea los segundos a minutos)"
   ]
  },
  {
   "cell_type": "code",
   "execution_count": 18,
   "metadata": {},
   "outputs": [
    {
     "data": {
      "text/html": [
       "<div>\n",
       "<style scoped>\n",
       "    .dataframe tbody tr th:only-of-type {\n",
       "        vertical-align: middle;\n",
       "    }\n",
       "\n",
       "    .dataframe tbody tr th {\n",
       "        vertical-align: top;\n",
       "    }\n",
       "\n",
       "    .dataframe thead th {\n",
       "        text-align: right;\n",
       "    }\n",
       "</style>\n",
       "<table border=\"1\" class=\"dataframe\">\n",
       "  <thead>\n",
       "    <tr style=\"text-align: right;\">\n",
       "      <th></th>\n",
       "      <th>id</th>\n",
       "      <th>user_id</th>\n",
       "      <th>call_date</th>\n",
       "      <th>duration</th>\n",
       "    </tr>\n",
       "  </thead>\n",
       "  <tbody>\n",
       "    <tr>\n",
       "      <th>0</th>\n",
       "      <td>1000_93</td>\n",
       "      <td>1000</td>\n",
       "      <td>2018-12-27</td>\n",
       "      <td>9.0</td>\n",
       "    </tr>\n",
       "    <tr>\n",
       "      <th>1</th>\n",
       "      <td>1000_145</td>\n",
       "      <td>1000</td>\n",
       "      <td>2018-12-27</td>\n",
       "      <td>14.0</td>\n",
       "    </tr>\n",
       "    <tr>\n",
       "      <th>2</th>\n",
       "      <td>1000_247</td>\n",
       "      <td>1000</td>\n",
       "      <td>2018-12-27</td>\n",
       "      <td>15.0</td>\n",
       "    </tr>\n",
       "    <tr>\n",
       "      <th>3</th>\n",
       "      <td>1000_309</td>\n",
       "      <td>1000</td>\n",
       "      <td>2018-12-28</td>\n",
       "      <td>6.0</td>\n",
       "    </tr>\n",
       "    <tr>\n",
       "      <th>4</th>\n",
       "      <td>1000_380</td>\n",
       "      <td>1000</td>\n",
       "      <td>2018-12-30</td>\n",
       "      <td>5.0</td>\n",
       "    </tr>\n",
       "    <tr>\n",
       "      <th>...</th>\n",
       "      <td>...</td>\n",
       "      <td>...</td>\n",
       "      <td>...</td>\n",
       "      <td>...</td>\n",
       "    </tr>\n",
       "    <tr>\n",
       "      <th>137730</th>\n",
       "      <td>1499_199</td>\n",
       "      <td>1499</td>\n",
       "      <td>2018-11-21</td>\n",
       "      <td>9.0</td>\n",
       "    </tr>\n",
       "    <tr>\n",
       "      <th>137731</th>\n",
       "      <td>1499_200</td>\n",
       "      <td>1499</td>\n",
       "      <td>2018-10-20</td>\n",
       "      <td>11.0</td>\n",
       "    </tr>\n",
       "    <tr>\n",
       "      <th>137732</th>\n",
       "      <td>1499_201</td>\n",
       "      <td>1499</td>\n",
       "      <td>2018-09-21</td>\n",
       "      <td>9.0</td>\n",
       "    </tr>\n",
       "    <tr>\n",
       "      <th>137733</th>\n",
       "      <td>1499_202</td>\n",
       "      <td>1499</td>\n",
       "      <td>2018-10-10</td>\n",
       "      <td>1.0</td>\n",
       "    </tr>\n",
       "    <tr>\n",
       "      <th>137734</th>\n",
       "      <td>1499_203</td>\n",
       "      <td>1499</td>\n",
       "      <td>2018-12-29</td>\n",
       "      <td>14.0</td>\n",
       "    </tr>\n",
       "  </tbody>\n",
       "</table>\n",
       "<p>137735 rows × 4 columns</p>\n",
       "</div>"
      ],
      "text/plain": [
       "              id  user_id  call_date  duration\n",
       "0        1000_93     1000 2018-12-27       9.0\n",
       "1       1000_145     1000 2018-12-27      14.0\n",
       "2       1000_247     1000 2018-12-27      15.0\n",
       "3       1000_309     1000 2018-12-28       6.0\n",
       "4       1000_380     1000 2018-12-30       5.0\n",
       "...          ...      ...        ...       ...\n",
       "137730  1499_199     1499 2018-11-21       9.0\n",
       "137731  1499_200     1499 2018-10-20      11.0\n",
       "137732  1499_201     1499 2018-09-21       9.0\n",
       "137733  1499_202     1499 2018-10-10       1.0\n",
       "137734  1499_203     1499 2018-12-29      14.0\n",
       "\n",
       "[137735 rows x 4 columns]"
      ]
     },
     "execution_count": 18,
     "metadata": {},
     "output_type": "execute_result"
    }
   ],
   "source": [
    "m_calls[\"duration\"] = np.ceil(m_calls[\"duration\"])\n",
    "m_calls"
   ]
  },
  {
   "cell_type": "markdown",
   "metadata": {},
   "source": [
    "<div class=\"alert alert-block alert-info\">\n",
    "<b>Respuesta del estudiante</b> <a class=\"tocSkip\"></a>\n",
    "Corregido\n",
    "</div>"
   ]
  },
  {
   "cell_type": "markdown",
   "metadata": {},
   "source": [
    "El siguiente bloque extra se creó para verificar la coherencia de un código más abajo, la entrega mensual de duración incrementa por mes, pero quería descartar que el tema fuera un error de acumulación de datos. (Se descarta error)"
   ]
  },
  {
   "cell_type": "code",
   "execution_count": 19,
   "metadata": {},
   "outputs": [],
   "source": [
    "# m_calls[\"month\"] = m_calls[\"call_date\"]\n",
    "# m_calls[\"month\"] = pd.to_datetime(m_calls[\"month\"]).dt.month\n",
    "# join = m_calls.merge(m_users,how=\"left\", on=\"user_id\")\n",
    "# join.groupby([\"plan\",'month'] , observed=False)[\"duration\"].sum().reset_index()"
   ]
  },
  {
   "cell_type": "markdown",
   "metadata": {},
   "source": [
    "Conclusion: Me resulta muy extraño que el comportamiento mensual de la duración de las llamadas se incremente con més, sin embargo parece que es lo esperado"
   ]
  },
  {
   "cell_type": "markdown",
   "metadata": {
    "id": "mOUZSi180q0_"
   },
   "source": [
    "## Mensajes"
   ]
  },
  {
   "cell_type": "code",
   "execution_count": 20,
   "metadata": {
    "id": "R-bYJpdV0q1A"
   },
   "outputs": [
    {
     "name": "stdout",
     "output_type": "stream",
     "text": [
      "<class 'pandas.core.frame.DataFrame'>\n",
      "RangeIndex: 76051 entries, 0 to 76050\n",
      "Data columns (total 3 columns):\n",
      " #   Column        Non-Null Count  Dtype \n",
      "---  ------        --------------  ----- \n",
      " 0   id            76051 non-null  object\n",
      " 1   user_id       76051 non-null  int64 \n",
      " 2   message_date  76051 non-null  object\n",
      "dtypes: int64(1), object(2)\n",
      "memory usage: 1.7+ MB\n"
     ]
    }
   ],
   "source": [
    "m_messages.info()"
   ]
  },
  {
   "cell_type": "code",
   "execution_count": 21,
   "metadata": {
    "id": "mCEl2iGE0q1A"
   },
   "outputs": [
    {
     "data": {
      "text/html": [
       "<div>\n",
       "<style scoped>\n",
       "    .dataframe tbody tr th:only-of-type {\n",
       "        vertical-align: middle;\n",
       "    }\n",
       "\n",
       "    .dataframe tbody tr th {\n",
       "        vertical-align: top;\n",
       "    }\n",
       "\n",
       "    .dataframe thead th {\n",
       "        text-align: right;\n",
       "    }\n",
       "</style>\n",
       "<table border=\"1\" class=\"dataframe\">\n",
       "  <thead>\n",
       "    <tr style=\"text-align: right;\">\n",
       "      <th></th>\n",
       "      <th>id</th>\n",
       "      <th>user_id</th>\n",
       "      <th>message_date</th>\n",
       "    </tr>\n",
       "  </thead>\n",
       "  <tbody>\n",
       "    <tr>\n",
       "      <th>33615</th>\n",
       "      <td>1211_291</td>\n",
       "      <td>1211</td>\n",
       "      <td>2018-10-02</td>\n",
       "    </tr>\n",
       "    <tr>\n",
       "      <th>39444</th>\n",
       "      <td>1256_260</td>\n",
       "      <td>1256</td>\n",
       "      <td>2018-11-26</td>\n",
       "    </tr>\n",
       "    <tr>\n",
       "      <th>36176</th>\n",
       "      <td>1240_57</td>\n",
       "      <td>1240</td>\n",
       "      <td>2018-11-17</td>\n",
       "    </tr>\n",
       "    <tr>\n",
       "      <th>70397</th>\n",
       "      <td>1458_30</td>\n",
       "      <td>1458</td>\n",
       "      <td>2018-12-16</td>\n",
       "    </tr>\n",
       "    <tr>\n",
       "      <th>60776</th>\n",
       "      <td>1382_491</td>\n",
       "      <td>1382</td>\n",
       "      <td>2018-09-02</td>\n",
       "    </tr>\n",
       "    <tr>\n",
       "      <th>19386</th>\n",
       "      <td>1126_0</td>\n",
       "      <td>1126</td>\n",
       "      <td>2018-09-29</td>\n",
       "    </tr>\n",
       "    <tr>\n",
       "      <th>9029</th>\n",
       "      <td>1066_202</td>\n",
       "      <td>1066</td>\n",
       "      <td>2018-04-07</td>\n",
       "    </tr>\n",
       "    <tr>\n",
       "      <th>50244</th>\n",
       "      <td>1328_1202</td>\n",
       "      <td>1328</td>\n",
       "      <td>2018-12-05</td>\n",
       "    </tr>\n",
       "    <tr>\n",
       "      <th>12159</th>\n",
       "      <td>1080_162</td>\n",
       "      <td>1080</td>\n",
       "      <td>2018-10-29</td>\n",
       "    </tr>\n",
       "    <tr>\n",
       "      <th>71888</th>\n",
       "      <td>1467_220</td>\n",
       "      <td>1467</td>\n",
       "      <td>2018-06-07</td>\n",
       "    </tr>\n",
       "  </tbody>\n",
       "</table>\n",
       "</div>"
      ],
      "text/plain": [
       "              id  user_id message_date\n",
       "33615   1211_291     1211   2018-10-02\n",
       "39444   1256_260     1256   2018-11-26\n",
       "36176    1240_57     1240   2018-11-17\n",
       "70397    1458_30     1458   2018-12-16\n",
       "60776   1382_491     1382   2018-09-02\n",
       "19386     1126_0     1126   2018-09-29\n",
       "9029    1066_202     1066   2018-04-07\n",
       "50244  1328_1202     1328   2018-12-05\n",
       "12159   1080_162     1080   2018-10-29\n",
       "71888   1467_220     1467   2018-06-07"
      ]
     },
     "execution_count": 21,
     "metadata": {},
     "output_type": "execute_result"
    }
   ],
   "source": [
    "m_messages.sample(10)"
   ]
  },
  {
   "cell_type": "markdown",
   "metadata": {
    "id": "04xDj7KH0q1A"
   },
   "source": [
    "No hay valores ausentes, sin embargo necesitaremos cambiar la serie message_date a tipo datetime"
   ]
  },
  {
   "cell_type": "markdown",
   "metadata": {
    "id": "Sprfak900q1B"
   },
   "source": [
    "### Corregir los datos"
   ]
  },
  {
   "cell_type": "code",
   "execution_count": 22,
   "metadata": {
    "id": "vsllvkoa0q1B"
   },
   "outputs": [
    {
     "name": "stdout",
     "output_type": "stream",
     "text": [
      "<class 'pandas.core.frame.DataFrame'>\n",
      "RangeIndex: 76051 entries, 0 to 76050\n",
      "Data columns (total 3 columns):\n",
      " #   Column        Non-Null Count  Dtype         \n",
      "---  ------        --------------  -----         \n",
      " 0   id            76051 non-null  object        \n",
      " 1   user_id       76051 non-null  int64         \n",
      " 2   message_date  76051 non-null  datetime64[ns]\n",
      "dtypes: datetime64[ns](1), int64(1), object(1)\n",
      "memory usage: 1.7+ MB\n"
     ]
    }
   ],
   "source": [
    "m_messages[\"message_date\"]= pd.to_datetime(m_messages[\"message_date\"], format= \"%Y-%m-%d\")\n",
    "m_messages.info()"
   ]
  },
  {
   "cell_type": "markdown",
   "metadata": {
    "id": "HvLid7iD0q1B"
   },
   "source": [
    "### Enriquecer los datos"
   ]
  },
  {
   "cell_type": "markdown",
   "metadata": {},
   "source": [
    "No hay valores para enriquecer los datos por ahora"
   ]
  },
  {
   "cell_type": "markdown",
   "metadata": {
    "id": "bStkaxn40q1C"
   },
   "source": [
    "## Internet"
   ]
  },
  {
   "cell_type": "code",
   "execution_count": 23,
   "metadata": {
    "id": "e-Uz5qyn0q1C"
   },
   "outputs": [
    {
     "name": "stdout",
     "output_type": "stream",
     "text": [
      "<class 'pandas.core.frame.DataFrame'>\n",
      "RangeIndex: 104825 entries, 0 to 104824\n",
      "Data columns (total 4 columns):\n",
      " #   Column        Non-Null Count   Dtype  \n",
      "---  ------        --------------   -----  \n",
      " 0   id            104825 non-null  object \n",
      " 1   user_id       104825 non-null  int64  \n",
      " 2   session_date  104825 non-null  object \n",
      " 3   mb_used       104825 non-null  float64\n",
      "dtypes: float64(1), int64(1), object(2)\n",
      "memory usage: 3.2+ MB\n"
     ]
    }
   ],
   "source": [
    "m_internet.info()"
   ]
  },
  {
   "cell_type": "code",
   "execution_count": 24,
   "metadata": {
    "id": "9r3x_XLw0q1C"
   },
   "outputs": [
    {
     "data": {
      "text/html": [
       "<div>\n",
       "<style scoped>\n",
       "    .dataframe tbody tr th:only-of-type {\n",
       "        vertical-align: middle;\n",
       "    }\n",
       "\n",
       "    .dataframe tbody tr th {\n",
       "        vertical-align: top;\n",
       "    }\n",
       "\n",
       "    .dataframe thead th {\n",
       "        text-align: right;\n",
       "    }\n",
       "</style>\n",
       "<table border=\"1\" class=\"dataframe\">\n",
       "  <thead>\n",
       "    <tr style=\"text-align: right;\">\n",
       "      <th></th>\n",
       "      <th>id</th>\n",
       "      <th>user_id</th>\n",
       "      <th>session_date</th>\n",
       "      <th>mb_used</th>\n",
       "    </tr>\n",
       "  </thead>\n",
       "  <tbody>\n",
       "    <tr>\n",
       "      <th>23052</th>\n",
       "      <td>1106_315</td>\n",
       "      <td>1106</td>\n",
       "      <td>2018-10-15</td>\n",
       "      <td>0.00</td>\n",
       "    </tr>\n",
       "    <tr>\n",
       "      <th>30122</th>\n",
       "      <td>1138_355</td>\n",
       "      <td>1138</td>\n",
       "      <td>2018-04-19</td>\n",
       "      <td>80.83</td>\n",
       "    </tr>\n",
       "    <tr>\n",
       "      <th>53408</th>\n",
       "      <td>1240_380</td>\n",
       "      <td>1240</td>\n",
       "      <td>2018-10-31</td>\n",
       "      <td>349.28</td>\n",
       "    </tr>\n",
       "    <tr>\n",
       "      <th>68566</th>\n",
       "      <td>1320_230</td>\n",
       "      <td>1320</td>\n",
       "      <td>2018-04-26</td>\n",
       "      <td>739.42</td>\n",
       "    </tr>\n",
       "    <tr>\n",
       "      <th>19596</th>\n",
       "      <td>1088_402</td>\n",
       "      <td>1088</td>\n",
       "      <td>2018-07-25</td>\n",
       "      <td>35.16</td>\n",
       "    </tr>\n",
       "    <tr>\n",
       "      <th>42307</th>\n",
       "      <td>1187_484</td>\n",
       "      <td>1187</td>\n",
       "      <td>2018-06-10</td>\n",
       "      <td>645.38</td>\n",
       "    </tr>\n",
       "    <tr>\n",
       "      <th>31568</th>\n",
       "      <td>1144_300</td>\n",
       "      <td>1144</td>\n",
       "      <td>2018-11-04</td>\n",
       "      <td>29.46</td>\n",
       "    </tr>\n",
       "    <tr>\n",
       "      <th>5794</th>\n",
       "      <td>1031_472</td>\n",
       "      <td>1031</td>\n",
       "      <td>2018-10-14</td>\n",
       "      <td>38.98</td>\n",
       "    </tr>\n",
       "    <tr>\n",
       "      <th>78492</th>\n",
       "      <td>1366_181</td>\n",
       "      <td>1366</td>\n",
       "      <td>2018-12-14</td>\n",
       "      <td>777.22</td>\n",
       "    </tr>\n",
       "    <tr>\n",
       "      <th>76493</th>\n",
       "      <td>1359_174</td>\n",
       "      <td>1359</td>\n",
       "      <td>2018-04-29</td>\n",
       "      <td>226.09</td>\n",
       "    </tr>\n",
       "  </tbody>\n",
       "</table>\n",
       "</div>"
      ],
      "text/plain": [
       "             id  user_id session_date  mb_used\n",
       "23052  1106_315     1106   2018-10-15     0.00\n",
       "30122  1138_355     1138   2018-04-19    80.83\n",
       "53408  1240_380     1240   2018-10-31   349.28\n",
       "68566  1320_230     1320   2018-04-26   739.42\n",
       "19596  1088_402     1088   2018-07-25    35.16\n",
       "42307  1187_484     1187   2018-06-10   645.38\n",
       "31568  1144_300     1144   2018-11-04    29.46\n",
       "5794   1031_472     1031   2018-10-14    38.98\n",
       "78492  1366_181     1366   2018-12-14   777.22\n",
       "76493  1359_174     1359   2018-04-29   226.09"
      ]
     },
     "execution_count": 24,
     "metadata": {},
     "output_type": "execute_result"
    }
   ],
   "source": [
    "m_internet.sample(10)"
   ]
  },
  {
   "cell_type": "markdown",
   "metadata": {
    "id": "EzOG5ik30q1D"
   },
   "source": [
    "Los datos estan en orden, pero la serie **session_date** no esta categorizada correctamente el tipo correcto, lo pasaremos a **datetime**"
   ]
  },
  {
   "cell_type": "markdown",
   "metadata": {
    "id": "yA0tkPFg0q1D"
   },
   "source": [
    "### Corregir los datos"
   ]
  },
  {
   "cell_type": "code",
   "execution_count": 25,
   "metadata": {
    "id": "zVeanzdd0q1E"
   },
   "outputs": [
    {
     "name": "stdout",
     "output_type": "stream",
     "text": [
      "<class 'pandas.core.frame.DataFrame'>\n",
      "RangeIndex: 104825 entries, 0 to 104824\n",
      "Data columns (total 4 columns):\n",
      " #   Column        Non-Null Count   Dtype         \n",
      "---  ------        --------------   -----         \n",
      " 0   id            104825 non-null  object        \n",
      " 1   user_id       104825 non-null  int64         \n",
      " 2   session_date  104825 non-null  datetime64[ns]\n",
      " 3   mb_used       104825 non-null  float64       \n",
      "dtypes: datetime64[ns](1), float64(1), int64(1), object(1)\n",
      "memory usage: 3.2+ MB\n"
     ]
    }
   ],
   "source": [
    "m_internet[\"session_date\"] = pd.to_datetime(m_internet[\"session_date\"], format=\"%Y-%m-%d\")\n",
    "m_internet.info()"
   ]
  },
  {
   "cell_type": "markdown",
   "metadata": {
    "id": "e8_mLF4a0q1E"
   },
   "source": [
    "### Enriquecer los datos"
   ]
  },
  {
   "cell_type": "markdown",
   "metadata": {
    "id": "xhNdn2tE0q1E"
   },
   "source": [
    "No hay factores por agregar ahora"
   ]
  },
  {
   "cell_type": "markdown",
   "metadata": {
    "id": "3UA2cqIW0q1E"
   },
   "source": [
    "## Estudiar las condiciones de las tarifas"
   ]
  },
  {
   "cell_type": "code",
   "execution_count": 26,
   "metadata": {
    "id": "i409op8p0q1F"
   },
   "outputs": [
    {
     "data": {
      "text/html": [
       "<div>\n",
       "<style scoped>\n",
       "    .dataframe tbody tr th:only-of-type {\n",
       "        vertical-align: middle;\n",
       "    }\n",
       "\n",
       "    .dataframe tbody tr th {\n",
       "        vertical-align: top;\n",
       "    }\n",
       "\n",
       "    .dataframe thead th {\n",
       "        text-align: right;\n",
       "    }\n",
       "</style>\n",
       "<table border=\"1\" class=\"dataframe\">\n",
       "  <thead>\n",
       "    <tr style=\"text-align: right;\">\n",
       "      <th></th>\n",
       "      <th>messages_included</th>\n",
       "      <th>mb_per_month_included</th>\n",
       "      <th>minutes_included</th>\n",
       "      <th>usd_monthly_pay</th>\n",
       "      <th>usd_per_gb</th>\n",
       "      <th>usd_per_message</th>\n",
       "      <th>usd_per_minute</th>\n",
       "      <th>plan_name</th>\n",
       "    </tr>\n",
       "  </thead>\n",
       "  <tbody>\n",
       "    <tr>\n",
       "      <th>0</th>\n",
       "      <td>50</td>\n",
       "      <td>15</td>\n",
       "      <td>500</td>\n",
       "      <td>20</td>\n",
       "      <td>10</td>\n",
       "      <td>0.03</td>\n",
       "      <td>0.03</td>\n",
       "      <td>surf</td>\n",
       "    </tr>\n",
       "    <tr>\n",
       "      <th>1</th>\n",
       "      <td>1000</td>\n",
       "      <td>30</td>\n",
       "      <td>3000</td>\n",
       "      <td>70</td>\n",
       "      <td>7</td>\n",
       "      <td>0.01</td>\n",
       "      <td>0.01</td>\n",
       "      <td>ultimate</td>\n",
       "    </tr>\n",
       "  </tbody>\n",
       "</table>\n",
       "</div>"
      ],
      "text/plain": [
       "   messages_included  mb_per_month_included  minutes_included  \\\n",
       "0                 50                     15               500   \n",
       "1               1000                     30              3000   \n",
       "\n",
       "   usd_monthly_pay  usd_per_gb  usd_per_message  usd_per_minute plan_name  \n",
       "0               20          10             0.03            0.03      surf  \n",
       "1               70           7             0.01            0.01  ultimate  "
      ]
     },
     "execution_count": 26,
     "metadata": {},
     "output_type": "execute_result"
    }
   ],
   "source": [
    "m_plans"
   ]
  },
  {
   "cell_type": "markdown",
   "metadata": {
    "id": "hMR1tP5d0q1F"
   },
   "source": [
    "## Agregar datos por usuario"
   ]
  },
  {
   "cell_type": "markdown",
   "metadata": {},
   "source": [
    "Procederemos a calcular el número de llamadas hechas por cada usuario al mes"
   ]
  },
  {
   "cell_type": "code",
   "execution_count": 27,
   "metadata": {
    "id": "A332cedB0q1G"
   },
   "outputs": [
    {
     "data": {
      "text/html": [
       "<div>\n",
       "<style scoped>\n",
       "    .dataframe tbody tr th:only-of-type {\n",
       "        vertical-align: middle;\n",
       "    }\n",
       "\n",
       "    .dataframe tbody tr th {\n",
       "        vertical-align: top;\n",
       "    }\n",
       "\n",
       "    .dataframe thead th {\n",
       "        text-align: right;\n",
       "    }\n",
       "</style>\n",
       "<table border=\"1\" class=\"dataframe\">\n",
       "  <thead>\n",
       "    <tr style=\"text-align: right;\">\n",
       "      <th></th>\n",
       "      <th>user_id</th>\n",
       "      <th>month</th>\n",
       "      <th>calls</th>\n",
       "    </tr>\n",
       "  </thead>\n",
       "  <tbody>\n",
       "    <tr>\n",
       "      <th>0</th>\n",
       "      <td>1000</td>\n",
       "      <td>12</td>\n",
       "      <td>16</td>\n",
       "    </tr>\n",
       "    <tr>\n",
       "      <th>1</th>\n",
       "      <td>1001</td>\n",
       "      <td>8</td>\n",
       "      <td>27</td>\n",
       "    </tr>\n",
       "    <tr>\n",
       "      <th>2</th>\n",
       "      <td>1001</td>\n",
       "      <td>9</td>\n",
       "      <td>49</td>\n",
       "    </tr>\n",
       "    <tr>\n",
       "      <th>3</th>\n",
       "      <td>1001</td>\n",
       "      <td>10</td>\n",
       "      <td>65</td>\n",
       "    </tr>\n",
       "    <tr>\n",
       "      <th>4</th>\n",
       "      <td>1001</td>\n",
       "      <td>11</td>\n",
       "      <td>64</td>\n",
       "    </tr>\n",
       "    <tr>\n",
       "      <th>5</th>\n",
       "      <td>1001</td>\n",
       "      <td>12</td>\n",
       "      <td>56</td>\n",
       "    </tr>\n",
       "    <tr>\n",
       "      <th>6</th>\n",
       "      <td>1002</td>\n",
       "      <td>10</td>\n",
       "      <td>11</td>\n",
       "    </tr>\n",
       "    <tr>\n",
       "      <th>7</th>\n",
       "      <td>1002</td>\n",
       "      <td>11</td>\n",
       "      <td>55</td>\n",
       "    </tr>\n",
       "    <tr>\n",
       "      <th>8</th>\n",
       "      <td>1002</td>\n",
       "      <td>12</td>\n",
       "      <td>47</td>\n",
       "    </tr>\n",
       "    <tr>\n",
       "      <th>9</th>\n",
       "      <td>1003</td>\n",
       "      <td>12</td>\n",
       "      <td>149</td>\n",
       "    </tr>\n",
       "  </tbody>\n",
       "</table>\n",
       "</div>"
      ],
      "text/plain": [
       "   user_id  month  calls\n",
       "0     1000     12     16\n",
       "1     1001      8     27\n",
       "2     1001      9     49\n",
       "3     1001     10     65\n",
       "4     1001     11     64\n",
       "5     1001     12     56\n",
       "6     1002     10     11\n",
       "7     1002     11     55\n",
       "8     1002     12     47\n",
       "9     1003     12    149"
      ]
     },
     "execution_count": 27,
     "metadata": {},
     "output_type": "execute_result"
    }
   ],
   "source": [
    "# Calcula el número de llamadas hechas por cada usuario al mes. Guarda el resultado.\n",
    "m_calls[\"month\"] = m_calls[\"call_date\"].dt.month\n",
    "calls_per_user = m_calls.groupby([\"user_id\",\"month\"])[\"id\"].count().reset_index() #Dato extra: 481 usuarios con 137735 llamadas totales totales, \n",
    "calls_per_user.rename(columns={\"id\":\"calls\"},inplace=True)\n",
    "calls_per_user.head(10)\n",
    "\n",
    "# m_calls[m_calls[\"user_id\"]==1000] #Confirmado, comprobamos con uno de los valores / user id= 1000 tiene 16 llamadas\n",
    "# m_calls[m_calls[\"duration\"]==0] #Tenemos 26,834 llamadas que tuvieron una duración de 0 segundos. ¿Deberíamos contarlas como llamadas? (Se consideraron para el analisis)\n",
    "# m_calls[~(m_calls[\"duration\"]==0)][\"duration\"].min() #Según las instrucciones las llamadas de 0.1 segundos deberían ser tomadas como 1 minuto. (Solo informativo)."
   ]
  },
  {
   "cell_type": "markdown",
   "metadata": {},
   "source": [
    "Se calcula en el siguiente bloque la cantidad de minutos usados por cada usuario al mes."
   ]
  },
  {
   "cell_type": "code",
   "execution_count": 28,
   "metadata": {
    "id": "aw2cmuql0q1G"
   },
   "outputs": [
    {
     "data": {
      "text/html": [
       "<div>\n",
       "<style scoped>\n",
       "    .dataframe tbody tr th:only-of-type {\n",
       "        vertical-align: middle;\n",
       "    }\n",
       "\n",
       "    .dataframe tbody tr th {\n",
       "        vertical-align: top;\n",
       "    }\n",
       "\n",
       "    .dataframe thead th {\n",
       "        text-align: right;\n",
       "    }\n",
       "</style>\n",
       "<table border=\"1\" class=\"dataframe\">\n",
       "  <thead>\n",
       "    <tr style=\"text-align: right;\">\n",
       "      <th></th>\n",
       "      <th>user_id</th>\n",
       "      <th>month</th>\n",
       "      <th>duration</th>\n",
       "    </tr>\n",
       "  </thead>\n",
       "  <tbody>\n",
       "    <tr>\n",
       "      <th>0</th>\n",
       "      <td>1000</td>\n",
       "      <td>12</td>\n",
       "      <td>124.0</td>\n",
       "    </tr>\n",
       "    <tr>\n",
       "      <th>1</th>\n",
       "      <td>1001</td>\n",
       "      <td>8</td>\n",
       "      <td>182.0</td>\n",
       "    </tr>\n",
       "    <tr>\n",
       "      <th>2</th>\n",
       "      <td>1001</td>\n",
       "      <td>9</td>\n",
       "      <td>315.0</td>\n",
       "    </tr>\n",
       "    <tr>\n",
       "      <th>3</th>\n",
       "      <td>1001</td>\n",
       "      <td>10</td>\n",
       "      <td>393.0</td>\n",
       "    </tr>\n",
       "    <tr>\n",
       "      <th>4</th>\n",
       "      <td>1001</td>\n",
       "      <td>11</td>\n",
       "      <td>426.0</td>\n",
       "    </tr>\n",
       "  </tbody>\n",
       "</table>\n",
       "</div>"
      ],
      "text/plain": [
       "   user_id  month  duration\n",
       "0     1000     12     124.0\n",
       "1     1001      8     182.0\n",
       "2     1001      9     315.0\n",
       "3     1001     10     393.0\n",
       "4     1001     11     426.0"
      ]
     },
     "execution_count": 28,
     "metadata": {},
     "output_type": "execute_result"
    }
   ],
   "source": [
    "minutes_per_user = m_calls.groupby([\"user_id\",\"month\"])[\"duration\"].sum().reset_index()\n",
    "minutes_per_user.sort_values(by=\"user_id\").head()\n",
    "\n",
    "\n",
    "# m_calls[m_calls[\"user_id\"]==1000] #Verifico que los datos coincidan tomando un usuario como ejemplo"
   ]
  },
  {
   "cell_type": "markdown",
   "metadata": {},
   "source": [
    "Ahora calcularemos el número de mensajes enviados por cada usuario al mes"
   ]
  },
  {
   "cell_type": "code",
   "execution_count": 29,
   "metadata": {
    "id": "CcQvNHn60q1G"
   },
   "outputs": [
    {
     "data": {
      "text/html": [
       "<div>\n",
       "<style scoped>\n",
       "    .dataframe tbody tr th:only-of-type {\n",
       "        vertical-align: middle;\n",
       "    }\n",
       "\n",
       "    .dataframe tbody tr th {\n",
       "        vertical-align: top;\n",
       "    }\n",
       "\n",
       "    .dataframe thead th {\n",
       "        text-align: right;\n",
       "    }\n",
       "</style>\n",
       "<table border=\"1\" class=\"dataframe\">\n",
       "  <thead>\n",
       "    <tr style=\"text-align: right;\">\n",
       "      <th></th>\n",
       "      <th>user_id</th>\n",
       "      <th>month</th>\n",
       "      <th>n_messages</th>\n",
       "    </tr>\n",
       "  </thead>\n",
       "  <tbody>\n",
       "    <tr>\n",
       "      <th>0</th>\n",
       "      <td>1000</td>\n",
       "      <td>12</td>\n",
       "      <td>11</td>\n",
       "    </tr>\n",
       "    <tr>\n",
       "      <th>1</th>\n",
       "      <td>1001</td>\n",
       "      <td>8</td>\n",
       "      <td>30</td>\n",
       "    </tr>\n",
       "    <tr>\n",
       "      <th>2</th>\n",
       "      <td>1001</td>\n",
       "      <td>9</td>\n",
       "      <td>44</td>\n",
       "    </tr>\n",
       "    <tr>\n",
       "      <th>3</th>\n",
       "      <td>1001</td>\n",
       "      <td>10</td>\n",
       "      <td>53</td>\n",
       "    </tr>\n",
       "    <tr>\n",
       "      <th>4</th>\n",
       "      <td>1001</td>\n",
       "      <td>11</td>\n",
       "      <td>36</td>\n",
       "    </tr>\n",
       "  </tbody>\n",
       "</table>\n",
       "</div>"
      ],
      "text/plain": [
       "   user_id  month  n_messages\n",
       "0     1000     12          11\n",
       "1     1001      8          30\n",
       "2     1001      9          44\n",
       "3     1001     10          53\n",
       "4     1001     11          36"
      ]
     },
     "execution_count": 29,
     "metadata": {},
     "output_type": "execute_result"
    }
   ],
   "source": [
    "m_messages[\"month\"]= m_messages[\"message_date\"].dt.month\n",
    "m_messages_per_user = m_messages.groupby([\"user_id\",\"month\"])[\"id\"].count().reset_index()\n",
    "m_messages_per_user.rename(columns={\"id\":\"n_messages\"}, inplace=True)\n",
    "m_messages_per_user.head()\n",
    "\n",
    "# m_messages[m_messages[\"user_id\"]==1000] #confirmando con un usuario que mi código sea coherente"
   ]
  },
  {
   "cell_type": "markdown",
   "metadata": {},
   "source": [
    "Tambíen será necesario calcular los GB consumidos por cada mes para cada usuario."
   ]
  },
  {
   "cell_type": "code",
   "execution_count": 30,
   "metadata": {
    "id": "H1AqN2eG0q1H"
   },
   "outputs": [
    {
     "data": {
      "text/html": [
       "<div>\n",
       "<style scoped>\n",
       "    .dataframe tbody tr th:only-of-type {\n",
       "        vertical-align: middle;\n",
       "    }\n",
       "\n",
       "    .dataframe tbody tr th {\n",
       "        vertical-align: top;\n",
       "    }\n",
       "\n",
       "    .dataframe thead th {\n",
       "        text-align: right;\n",
       "    }\n",
       "</style>\n",
       "<table border=\"1\" class=\"dataframe\">\n",
       "  <thead>\n",
       "    <tr style=\"text-align: right;\">\n",
       "      <th></th>\n",
       "      <th>user_id</th>\n",
       "      <th>month</th>\n",
       "      <th>mb_used</th>\n",
       "    </tr>\n",
       "  </thead>\n",
       "  <tbody>\n",
       "    <tr>\n",
       "      <th>0</th>\n",
       "      <td>1000</td>\n",
       "      <td>12</td>\n",
       "      <td>1901.47</td>\n",
       "    </tr>\n",
       "    <tr>\n",
       "      <th>1</th>\n",
       "      <td>1001</td>\n",
       "      <td>8</td>\n",
       "      <td>6919.15</td>\n",
       "    </tr>\n",
       "    <tr>\n",
       "      <th>2</th>\n",
       "      <td>1001</td>\n",
       "      <td>9</td>\n",
       "      <td>13314.82</td>\n",
       "    </tr>\n",
       "    <tr>\n",
       "      <th>3</th>\n",
       "      <td>1001</td>\n",
       "      <td>10</td>\n",
       "      <td>22330.49</td>\n",
       "    </tr>\n",
       "    <tr>\n",
       "      <th>4</th>\n",
       "      <td>1001</td>\n",
       "      <td>11</td>\n",
       "      <td>18504.30</td>\n",
       "    </tr>\n",
       "  </tbody>\n",
       "</table>\n",
       "</div>"
      ],
      "text/plain": [
       "   user_id  month   mb_used\n",
       "0     1000     12   1901.47\n",
       "1     1001      8   6919.15\n",
       "2     1001      9  13314.82\n",
       "3     1001     10  22330.49\n",
       "4     1001     11  18504.30"
      ]
     },
     "execution_count": 30,
     "metadata": {},
     "output_type": "execute_result"
    }
   ],
   "source": [
    "m_internet[\"month\"]= m_internet[\"session_date\"].dt.month\n",
    "m_internet_per_user = m_internet.groupby([\"user_id\", \"month\"])[\"mb_used\"].sum().reset_index()\n",
    "m_internet_per_user.head()"
   ]
  },
  {
   "cell_type": "markdown",
   "metadata": {},
   "source": [
    "Esta fue mi primera versión para agregar como apply, pero encontre una lódica más facil (la coloco en el siguiente bloque)"
   ]
  },
  {
   "cell_type": "code",
   "execution_count": 31,
   "metadata": {},
   "outputs": [],
   "source": [
    "# def to_megas(x): \n",
    "#     for i in range(0, 1000): #buscar como limitar este numero\n",
    "#         if x > 0 and x < (i+1)*1000:\n",
    "#             return (i+1)\n",
    "\n",
    "# m_internet_per_user[\"megas\"] = m_internet_per_user[\"mb_used\"].apply(to_megas)\n",
    "# m_internet_per_user"
   ]
  },
  {
   "cell_type": "code",
   "execution_count": 32,
   "metadata": {},
   "outputs": [
    {
     "data": {
      "text/html": [
       "<div>\n",
       "<style scoped>\n",
       "    .dataframe tbody tr th:only-of-type {\n",
       "        vertical-align: middle;\n",
       "    }\n",
       "\n",
       "    .dataframe tbody tr th {\n",
       "        vertical-align: top;\n",
       "    }\n",
       "\n",
       "    .dataframe thead th {\n",
       "        text-align: right;\n",
       "    }\n",
       "</style>\n",
       "<table border=\"1\" class=\"dataframe\">\n",
       "  <thead>\n",
       "    <tr style=\"text-align: right;\">\n",
       "      <th></th>\n",
       "      <th>user_id</th>\n",
       "      <th>month</th>\n",
       "      <th>mb_used</th>\n",
       "      <th>megas</th>\n",
       "    </tr>\n",
       "  </thead>\n",
       "  <tbody>\n",
       "    <tr>\n",
       "      <th>0</th>\n",
       "      <td>1000</td>\n",
       "      <td>12</td>\n",
       "      <td>1901.47</td>\n",
       "      <td>2.0</td>\n",
       "    </tr>\n",
       "    <tr>\n",
       "      <th>1</th>\n",
       "      <td>1001</td>\n",
       "      <td>8</td>\n",
       "      <td>6919.15</td>\n",
       "      <td>7.0</td>\n",
       "    </tr>\n",
       "    <tr>\n",
       "      <th>2</th>\n",
       "      <td>1001</td>\n",
       "      <td>9</td>\n",
       "      <td>13314.82</td>\n",
       "      <td>14.0</td>\n",
       "    </tr>\n",
       "    <tr>\n",
       "      <th>3</th>\n",
       "      <td>1001</td>\n",
       "      <td>10</td>\n",
       "      <td>22330.49</td>\n",
       "      <td>22.0</td>\n",
       "    </tr>\n",
       "    <tr>\n",
       "      <th>4</th>\n",
       "      <td>1001</td>\n",
       "      <td>11</td>\n",
       "      <td>18504.30</td>\n",
       "      <td>19.0</td>\n",
       "    </tr>\n",
       "    <tr>\n",
       "      <th>5</th>\n",
       "      <td>1001</td>\n",
       "      <td>12</td>\n",
       "      <td>19369.18</td>\n",
       "      <td>19.0</td>\n",
       "    </tr>\n",
       "    <tr>\n",
       "      <th>6</th>\n",
       "      <td>1002</td>\n",
       "      <td>10</td>\n",
       "      <td>6552.01</td>\n",
       "      <td>7.0</td>\n",
       "    </tr>\n",
       "    <tr>\n",
       "      <th>7</th>\n",
       "      <td>1002</td>\n",
       "      <td>11</td>\n",
       "      <td>19345.08</td>\n",
       "      <td>19.0</td>\n",
       "    </tr>\n",
       "    <tr>\n",
       "      <th>8</th>\n",
       "      <td>1002</td>\n",
       "      <td>12</td>\n",
       "      <td>14396.24</td>\n",
       "      <td>15.0</td>\n",
       "    </tr>\n",
       "    <tr>\n",
       "      <th>9</th>\n",
       "      <td>1003</td>\n",
       "      <td>12</td>\n",
       "      <td>27044.14</td>\n",
       "      <td>27.0</td>\n",
       "    </tr>\n",
       "  </tbody>\n",
       "</table>\n",
       "</div>"
      ],
      "text/plain": [
       "   user_id  month   mb_used  megas\n",
       "0     1000     12   1901.47    2.0\n",
       "1     1001      8   6919.15    7.0\n",
       "2     1001      9  13314.82   14.0\n",
       "3     1001     10  22330.49   22.0\n",
       "4     1001     11  18504.30   19.0\n",
       "5     1001     12  19369.18   19.0\n",
       "6     1002     10   6552.01    7.0\n",
       "7     1002     11  19345.08   19.0\n",
       "8     1002     12  14396.24   15.0\n",
       "9     1003     12  27044.14   27.0"
      ]
     },
     "execution_count": 32,
     "metadata": {},
     "output_type": "execute_result"
    }
   ],
   "source": [
    "m_internet_per_user[\"megas\"] = np.ceil(m_internet_per_user[\"mb_used\"]/1024)\n",
    "m_internet_per_user.head(10)"
   ]
  },
  {
   "cell_type": "markdown",
   "metadata": {},
   "source": [
    "<div class=\"alert alert-block alert-info\">\n",
    "<b>Respuesta del estudiante</b> <a class=\"tocSkip\"></a>\n",
    "Corregido\n",
    "</div>"
   ]
  },
  {
   "cell_type": "markdown",
   "metadata": {},
   "source": [
    "Procedemos a realizar las fusiones de los conjuntos de datos"
   ]
  },
  {
   "cell_type": "markdown",
   "metadata": {},
   "source": [
    "Fusion de conjunto de llamadas y conjunto de minutos"
   ]
  },
  {
   "cell_type": "code",
   "execution_count": 33,
   "metadata": {
    "id": "FW99ykyf0q1H"
   },
   "outputs": [
    {
     "data": {
      "text/html": [
       "<div>\n",
       "<style scoped>\n",
       "    .dataframe tbody tr th:only-of-type {\n",
       "        vertical-align: middle;\n",
       "    }\n",
       "\n",
       "    .dataframe tbody tr th {\n",
       "        vertical-align: top;\n",
       "    }\n",
       "\n",
       "    .dataframe thead th {\n",
       "        text-align: right;\n",
       "    }\n",
       "</style>\n",
       "<table border=\"1\" class=\"dataframe\">\n",
       "  <thead>\n",
       "    <tr style=\"text-align: right;\">\n",
       "      <th></th>\n",
       "      <th>user_id</th>\n",
       "      <th>month</th>\n",
       "      <th>calls</th>\n",
       "      <th>duration</th>\n",
       "    </tr>\n",
       "  </thead>\n",
       "  <tbody>\n",
       "    <tr>\n",
       "      <th>2226</th>\n",
       "      <td>1493</td>\n",
       "      <td>12</td>\n",
       "      <td>65</td>\n",
       "      <td>473.0</td>\n",
       "    </tr>\n",
       "    <tr>\n",
       "      <th>1263</th>\n",
       "      <td>1274</td>\n",
       "      <td>12</td>\n",
       "      <td>45</td>\n",
       "      <td>357.0</td>\n",
       "    </tr>\n",
       "    <tr>\n",
       "      <th>2168</th>\n",
       "      <td>1478</td>\n",
       "      <td>9</td>\n",
       "      <td>61</td>\n",
       "      <td>445.0</td>\n",
       "    </tr>\n",
       "    <tr>\n",
       "      <th>1114</th>\n",
       "      <td>1244</td>\n",
       "      <td>11</td>\n",
       "      <td>17</td>\n",
       "      <td>151.0</td>\n",
       "    </tr>\n",
       "    <tr>\n",
       "      <th>1156</th>\n",
       "      <td>1251</td>\n",
       "      <td>12</td>\n",
       "      <td>82</td>\n",
       "      <td>589.0</td>\n",
       "    </tr>\n",
       "    <tr>\n",
       "      <th>1956</th>\n",
       "      <td>1427</td>\n",
       "      <td>6</td>\n",
       "      <td>40</td>\n",
       "      <td>303.0</td>\n",
       "    </tr>\n",
       "    <tr>\n",
       "      <th>826</th>\n",
       "      <td>1176</td>\n",
       "      <td>11</td>\n",
       "      <td>73</td>\n",
       "      <td>545.0</td>\n",
       "    </tr>\n",
       "    <tr>\n",
       "      <th>1608</th>\n",
       "      <td>1357</td>\n",
       "      <td>5</td>\n",
       "      <td>2</td>\n",
       "      <td>16.0</td>\n",
       "    </tr>\n",
       "    <tr>\n",
       "      <th>2149</th>\n",
       "      <td>1474</td>\n",
       "      <td>11</td>\n",
       "      <td>42</td>\n",
       "      <td>262.0</td>\n",
       "    </tr>\n",
       "    <tr>\n",
       "      <th>1801</th>\n",
       "      <td>1396</td>\n",
       "      <td>8</td>\n",
       "      <td>40</td>\n",
       "      <td>252.0</td>\n",
       "    </tr>\n",
       "  </tbody>\n",
       "</table>\n",
       "</div>"
      ],
      "text/plain": [
       "      user_id  month  calls  duration\n",
       "2226     1493     12     65     473.0\n",
       "1263     1274     12     45     357.0\n",
       "2168     1478      9     61     445.0\n",
       "1114     1244     11     17     151.0\n",
       "1156     1251     12     82     589.0\n",
       "1956     1427      6     40     303.0\n",
       "826      1176     11     73     545.0\n",
       "1608     1357      5      2      16.0\n",
       "2149     1474     11     42     262.0\n",
       "1801     1396      8     40     252.0"
      ]
     },
     "execution_count": 33,
     "metadata": {},
     "output_type": "execute_result"
    }
   ],
   "source": [
    "m_fusion_1 = calls_per_user.merge(minutes_per_user, how='outer', left_on=[\"user_id\", \"month\"], right_on=[\"user_id\", \"month\"])\n",
    "m_fusion_1.sample(10)\n",
    "\n",
    "#Con las siguientes lineas corrobore que el código fuera coherente para la fussion de calls_per_user and minutes_per_user\n",
    "# m_fusion_1[m_fusion[\"month\"]==12]\n",
    "# calls_per_user[calls_per_user[\"month\"]==12]\n",
    "# minutes_per_user[minutes_per_user[\"month\"]==12]"
   ]
  },
  {
   "cell_type": "markdown",
   "metadata": {},
   "source": [
    "Fusion de conjunto de mensajes y conjunto de internet"
   ]
  },
  {
   "cell_type": "code",
   "execution_count": 34,
   "metadata": {},
   "outputs": [
    {
     "name": "stdout",
     "output_type": "stream",
     "text": [
      "<class 'pandas.core.frame.DataFrame'>\n",
      "Int64Index: 2292 entries, 0 to 2291\n",
      "Data columns (total 5 columns):\n",
      " #   Column      Non-Null Count  Dtype  \n",
      "---  ------      --------------  -----  \n",
      " 0   user_id     2292 non-null   int64  \n",
      " 1   month       2292 non-null   int64  \n",
      " 2   n_messages  1806 non-null   float64\n",
      " 3   mb_used     2277 non-null   float64\n",
      " 4   megas       2277 non-null   float64\n",
      "dtypes: float64(3), int64(2)\n",
      "memory usage: 107.4 KB\n"
     ]
    }
   ],
   "source": [
    "m_fusion_2 = m_messages_per_user.merge(m_internet_per_user, how='outer', left_on=[\"user_id\", \"month\"], right_on=[\"user_id\", \"month\"])\n",
    "m_fusion_2.info()"
   ]
  },
  {
   "cell_type": "markdown",
   "metadata": {},
   "source": [
    "Es razonable que tengamos valores nulos al realizar el outer join, ya que no todos los usuarios que enviaron mensajes usaron los megas y visceversa, se utilizarón las siguientes lineas para identificar que la tabla fuera coherente"
   ]
  },
  {
   "cell_type": "code",
   "execution_count": 35,
   "metadata": {},
   "outputs": [],
   "source": [
    "#Con las siguientes lineas corrobore que el código fuera coherente para la fussion de calls_per_user and minutes_per_user,\n",
    "# m_fusion_2[m_fusion2[\"month\"]==12]\n",
    "# m_internet_per_user[m_internet_per_user[\"month\"]==12]\n",
    "# m_messages_per_user[m_messages_per_user[\"month\"]==12] #se obtienen los mismos valores que en la fusion\n",
    "\n",
    "# m_fusion_2[m_fusion_2[\"mb_used\"].isna()] #NaN esperados / Posibles usuarios que usaron mensajes pero no consumieron megas \n",
    "# m_fusion_2[m_fusion_2[\"n_messages\"].isna()] #NaN esperados / Posibles usuarios que consumieron megas pero no mensajes"
   ]
  },
  {
   "cell_type": "markdown",
   "metadata": {},
   "source": [
    "Fusion de conjunto de llamadas, mensajes, minutos e internet."
   ]
  },
  {
   "cell_type": "code",
   "execution_count": 36,
   "metadata": {},
   "outputs": [
    {
     "data": {
      "text/html": [
       "<div>\n",
       "<style scoped>\n",
       "    .dataframe tbody tr th:only-of-type {\n",
       "        vertical-align: middle;\n",
       "    }\n",
       "\n",
       "    .dataframe tbody tr th {\n",
       "        vertical-align: top;\n",
       "    }\n",
       "\n",
       "    .dataframe thead th {\n",
       "        text-align: right;\n",
       "    }\n",
       "</style>\n",
       "<table border=\"1\" class=\"dataframe\">\n",
       "  <thead>\n",
       "    <tr style=\"text-align: right;\">\n",
       "      <th></th>\n",
       "      <th>user_id</th>\n",
       "      <th>month</th>\n",
       "      <th>calls</th>\n",
       "      <th>duration</th>\n",
       "      <th>n_messages</th>\n",
       "      <th>mb_used</th>\n",
       "      <th>megas</th>\n",
       "    </tr>\n",
       "  </thead>\n",
       "  <tbody>\n",
       "    <tr>\n",
       "      <th>0</th>\n",
       "      <td>1000</td>\n",
       "      <td>12</td>\n",
       "      <td>16.0</td>\n",
       "      <td>124.0</td>\n",
       "      <td>11.0</td>\n",
       "      <td>1901.47</td>\n",
       "      <td>2.0</td>\n",
       "    </tr>\n",
       "    <tr>\n",
       "      <th>1</th>\n",
       "      <td>1001</td>\n",
       "      <td>8</td>\n",
       "      <td>27.0</td>\n",
       "      <td>182.0</td>\n",
       "      <td>30.0</td>\n",
       "      <td>6919.15</td>\n",
       "      <td>7.0</td>\n",
       "    </tr>\n",
       "    <tr>\n",
       "      <th>2</th>\n",
       "      <td>1001</td>\n",
       "      <td>9</td>\n",
       "      <td>49.0</td>\n",
       "      <td>315.0</td>\n",
       "      <td>44.0</td>\n",
       "      <td>13314.82</td>\n",
       "      <td>14.0</td>\n",
       "    </tr>\n",
       "    <tr>\n",
       "      <th>3</th>\n",
       "      <td>1001</td>\n",
       "      <td>10</td>\n",
       "      <td>65.0</td>\n",
       "      <td>393.0</td>\n",
       "      <td>53.0</td>\n",
       "      <td>22330.49</td>\n",
       "      <td>22.0</td>\n",
       "    </tr>\n",
       "    <tr>\n",
       "      <th>4</th>\n",
       "      <td>1001</td>\n",
       "      <td>11</td>\n",
       "      <td>64.0</td>\n",
       "      <td>426.0</td>\n",
       "      <td>36.0</td>\n",
       "      <td>18504.30</td>\n",
       "      <td>19.0</td>\n",
       "    </tr>\n",
       "    <tr>\n",
       "      <th>...</th>\n",
       "      <td>...</td>\n",
       "      <td>...</td>\n",
       "      <td>...</td>\n",
       "      <td>...</td>\n",
       "      <td>...</td>\n",
       "      <td>...</td>\n",
       "      <td>...</td>\n",
       "    </tr>\n",
       "    <tr>\n",
       "      <th>2288</th>\n",
       "      <td>1349</td>\n",
       "      <td>12</td>\n",
       "      <td>NaN</td>\n",
       "      <td>NaN</td>\n",
       "      <td>61.0</td>\n",
       "      <td>13039.91</td>\n",
       "      <td>13.0</td>\n",
       "    </tr>\n",
       "    <tr>\n",
       "      <th>2289</th>\n",
       "      <td>1361</td>\n",
       "      <td>5</td>\n",
       "      <td>NaN</td>\n",
       "      <td>NaN</td>\n",
       "      <td>2.0</td>\n",
       "      <td>1519.69</td>\n",
       "      <td>2.0</td>\n",
       "    </tr>\n",
       "    <tr>\n",
       "      <th>2290</th>\n",
       "      <td>1482</td>\n",
       "      <td>10</td>\n",
       "      <td>NaN</td>\n",
       "      <td>NaN</td>\n",
       "      <td>2.0</td>\n",
       "      <td>NaN</td>\n",
       "      <td>NaN</td>\n",
       "    </tr>\n",
       "    <tr>\n",
       "      <th>2291</th>\n",
       "      <td>1108</td>\n",
       "      <td>12</td>\n",
       "      <td>NaN</td>\n",
       "      <td>NaN</td>\n",
       "      <td>NaN</td>\n",
       "      <td>233.17</td>\n",
       "      <td>1.0</td>\n",
       "    </tr>\n",
       "    <tr>\n",
       "      <th>2292</th>\n",
       "      <td>1311</td>\n",
       "      <td>6</td>\n",
       "      <td>NaN</td>\n",
       "      <td>NaN</td>\n",
       "      <td>NaN</td>\n",
       "      <td>1498.83</td>\n",
       "      <td>2.0</td>\n",
       "    </tr>\n",
       "  </tbody>\n",
       "</table>\n",
       "<p>2293 rows × 7 columns</p>\n",
       "</div>"
      ],
      "text/plain": [
       "      user_id  month  calls  duration  n_messages   mb_used  megas\n",
       "0        1000     12   16.0     124.0        11.0   1901.47    2.0\n",
       "1        1001      8   27.0     182.0        30.0   6919.15    7.0\n",
       "2        1001      9   49.0     315.0        44.0  13314.82   14.0\n",
       "3        1001     10   65.0     393.0        53.0  22330.49   22.0\n",
       "4        1001     11   64.0     426.0        36.0  18504.30   19.0\n",
       "...       ...    ...    ...       ...         ...       ...    ...\n",
       "2288     1349     12    NaN       NaN        61.0  13039.91   13.0\n",
       "2289     1361      5    NaN       NaN         2.0   1519.69    2.0\n",
       "2290     1482     10    NaN       NaN         2.0       NaN    NaN\n",
       "2291     1108     12    NaN       NaN         NaN    233.17    1.0\n",
       "2292     1311      6    NaN       NaN         NaN   1498.83    2.0\n",
       "\n",
       "[2293 rows x 7 columns]"
      ]
     },
     "execution_count": 36,
     "metadata": {},
     "output_type": "execute_result"
    }
   ],
   "source": [
    "m_fusion = m_fusion_1.merge(m_fusion_2, how='outer', left_on=[\"user_id\", \"month\"], right_on=[\"user_id\", \"month\"])\n",
    "m_fusion"
   ]
  },
  {
   "cell_type": "markdown",
   "metadata": {},
   "source": [
    "Ahora procedemos a eliminar los valores Nulos y remplacarlos por 0 para las columnas \"calls\", \"duration\", \"n_messages\", \"megas\", descartaremos la columna mb_used"
   ]
  },
  {
   "cell_type": "code",
   "execution_count": 37,
   "metadata": {},
   "outputs": [
    {
     "name": "stdout",
     "output_type": "stream",
     "text": [
      "<class 'pandas.core.frame.DataFrame'>\n",
      "Int64Index: 2293 entries, 0 to 2292\n",
      "Data columns (total 6 columns):\n",
      " #   Column      Non-Null Count  Dtype  \n",
      "---  ------      --------------  -----  \n",
      " 0   user_id     2293 non-null   int64  \n",
      " 1   month       2293 non-null   int64  \n",
      " 2   calls       2293 non-null   float64\n",
      " 3   duration    2293 non-null   float64\n",
      " 4   n_messages  2293 non-null   float64\n",
      " 5   megas       2293 non-null   float64\n",
      "dtypes: float64(4), int64(2)\n",
      "memory usage: 125.4 KB\n"
     ]
    },
    {
     "name": "stderr",
     "output_type": "stream",
     "text": [
      "/opt/conda/lib/python3.9/site-packages/pandas/core/frame.py:4462: SettingWithCopyWarning: \n",
      "A value is trying to be set on a copy of a slice from a DataFrame\n",
      "\n",
      "See the caveats in the documentation: https://pandas.pydata.org/pandas-docs/stable/user_guide/indexing.html#returning-a-view-versus-a-copy\n",
      "  return super().fillna(\n"
     ]
    }
   ],
   "source": [
    "m_fusion= m_fusion[['user_id', 'month', 'calls', 'duration', 'n_messages', 'megas']]\n",
    "m_fusion.fillna(0, inplace=True)\n",
    "m_fusion.info()"
   ]
  },
  {
   "cell_type": "markdown",
   "metadata": {},
   "source": [
    "El valor nulo cambio nuestras columnas a tipo float, procedo a convertirlas en int de nuevo."
   ]
  },
  {
   "cell_type": "code",
   "execution_count": 38,
   "metadata": {},
   "outputs": [
    {
     "name": "stderr",
     "output_type": "stream",
     "text": [
      "/opt/conda/lib/python3.9/site-packages/pandas/core/frame.py:3191: SettingWithCopyWarning: \n",
      "A value is trying to be set on a copy of a slice from a DataFrame.\n",
      "Try using .loc[row_indexer,col_indexer] = value instead\n",
      "\n",
      "See the caveats in the documentation: https://pandas.pydata.org/pandas-docs/stable/user_guide/indexing.html#returning-a-view-versus-a-copy\n",
      "  self[k1] = value[k2]\n"
     ]
    },
    {
     "data": {
      "text/html": [
       "<div>\n",
       "<style scoped>\n",
       "    .dataframe tbody tr th:only-of-type {\n",
       "        vertical-align: middle;\n",
       "    }\n",
       "\n",
       "    .dataframe tbody tr th {\n",
       "        vertical-align: top;\n",
       "    }\n",
       "\n",
       "    .dataframe thead th {\n",
       "        text-align: right;\n",
       "    }\n",
       "</style>\n",
       "<table border=\"1\" class=\"dataframe\">\n",
       "  <thead>\n",
       "    <tr style=\"text-align: right;\">\n",
       "      <th></th>\n",
       "      <th>user_id</th>\n",
       "      <th>month</th>\n",
       "      <th>calls</th>\n",
       "      <th>duration</th>\n",
       "      <th>n_messages</th>\n",
       "      <th>megas</th>\n",
       "    </tr>\n",
       "  </thead>\n",
       "  <tbody>\n",
       "    <tr>\n",
       "      <th>0</th>\n",
       "      <td>1000</td>\n",
       "      <td>12</td>\n",
       "      <td>16</td>\n",
       "      <td>124</td>\n",
       "      <td>11</td>\n",
       "      <td>2</td>\n",
       "    </tr>\n",
       "    <tr>\n",
       "      <th>1</th>\n",
       "      <td>1001</td>\n",
       "      <td>8</td>\n",
       "      <td>27</td>\n",
       "      <td>182</td>\n",
       "      <td>30</td>\n",
       "      <td>7</td>\n",
       "    </tr>\n",
       "    <tr>\n",
       "      <th>2</th>\n",
       "      <td>1001</td>\n",
       "      <td>9</td>\n",
       "      <td>49</td>\n",
       "      <td>315</td>\n",
       "      <td>44</td>\n",
       "      <td>14</td>\n",
       "    </tr>\n",
       "    <tr>\n",
       "      <th>3</th>\n",
       "      <td>1001</td>\n",
       "      <td>10</td>\n",
       "      <td>65</td>\n",
       "      <td>393</td>\n",
       "      <td>53</td>\n",
       "      <td>22</td>\n",
       "    </tr>\n",
       "    <tr>\n",
       "      <th>4</th>\n",
       "      <td>1001</td>\n",
       "      <td>11</td>\n",
       "      <td>64</td>\n",
       "      <td>426</td>\n",
       "      <td>36</td>\n",
       "      <td>19</td>\n",
       "    </tr>\n",
       "    <tr>\n",
       "      <th>...</th>\n",
       "      <td>...</td>\n",
       "      <td>...</td>\n",
       "      <td>...</td>\n",
       "      <td>...</td>\n",
       "      <td>...</td>\n",
       "      <td>...</td>\n",
       "    </tr>\n",
       "    <tr>\n",
       "      <th>2288</th>\n",
       "      <td>1349</td>\n",
       "      <td>12</td>\n",
       "      <td>0</td>\n",
       "      <td>0</td>\n",
       "      <td>61</td>\n",
       "      <td>13</td>\n",
       "    </tr>\n",
       "    <tr>\n",
       "      <th>2289</th>\n",
       "      <td>1361</td>\n",
       "      <td>5</td>\n",
       "      <td>0</td>\n",
       "      <td>0</td>\n",
       "      <td>2</td>\n",
       "      <td>2</td>\n",
       "    </tr>\n",
       "    <tr>\n",
       "      <th>2290</th>\n",
       "      <td>1482</td>\n",
       "      <td>10</td>\n",
       "      <td>0</td>\n",
       "      <td>0</td>\n",
       "      <td>2</td>\n",
       "      <td>0</td>\n",
       "    </tr>\n",
       "    <tr>\n",
       "      <th>2291</th>\n",
       "      <td>1108</td>\n",
       "      <td>12</td>\n",
       "      <td>0</td>\n",
       "      <td>0</td>\n",
       "      <td>0</td>\n",
       "      <td>1</td>\n",
       "    </tr>\n",
       "    <tr>\n",
       "      <th>2292</th>\n",
       "      <td>1311</td>\n",
       "      <td>6</td>\n",
       "      <td>0</td>\n",
       "      <td>0</td>\n",
       "      <td>0</td>\n",
       "      <td>2</td>\n",
       "    </tr>\n",
       "  </tbody>\n",
       "</table>\n",
       "<p>2293 rows × 6 columns</p>\n",
       "</div>"
      ],
      "text/plain": [
       "      user_id  month  calls  duration  n_messages  megas\n",
       "0        1000     12     16       124          11      2\n",
       "1        1001      8     27       182          30      7\n",
       "2        1001      9     49       315          44     14\n",
       "3        1001     10     65       393          53     22\n",
       "4        1001     11     64       426          36     19\n",
       "...       ...    ...    ...       ...         ...    ...\n",
       "2288     1349     12      0         0          61     13\n",
       "2289     1361      5      0         0           2      2\n",
       "2290     1482     10      0         0           2      0\n",
       "2291     1108     12      0         0           0      1\n",
       "2292     1311      6      0         0           0      2\n",
       "\n",
       "[2293 rows x 6 columns]"
      ]
     },
     "execution_count": 38,
     "metadata": {},
     "output_type": "execute_result"
    }
   ],
   "source": [
    "m_fusion[['calls', 'duration', 'n_messages', 'megas']]= m_fusion[['calls', 'duration', 'n_messages', 'megas']].astype(int)\n",
    "m_fusion"
   ]
  },
  {
   "cell_type": "markdown",
   "metadata": {},
   "source": [
    "Comparo con la base de usuarios para comprobar que tengo un registro de todos los usuarios."
   ]
  },
  {
   "cell_type": "code",
   "execution_count": 39,
   "metadata": {},
   "outputs": [
    {
     "name": "stdout",
     "output_type": "stream",
     "text": [
      "tengo 490 usuarios en la base fusionada\n",
      "tengo 500 usuarios en la base de usuarios\n"
     ]
    }
   ],
   "source": [
    "# Definir dos arrays\n",
    "array1 = m_fusion[\"user_id\"].nunique()\n",
    "array2 = m_users[\"user_id\"].nunique()\n",
    "\n",
    "print(f'tengo {array1} usuarios en la base fusionada')\n",
    "print(f'tengo {array2} usuarios en la base de usuarios')"
   ]
  },
  {
   "cell_type": "markdown",
   "metadata": {},
   "source": [
    "**Hay 10 usuarios faltantes** en el conjunto de las bases llamadas,mensajes, minutos e internet, comprobare cuales son exactamente y verificaré si realmente se encontraban en las otras bases."
   ]
  },
  {
   "cell_type": "code",
   "execution_count": 40,
   "metadata": {},
   "outputs": [
    {
     "name": "stdout",
     "output_type": "stream",
     "text": [
      "{1025, 1378, 1463, 1473, 1319, 1129, 1307, 1269, 1143, 1275}\n"
     ]
    }
   ],
   "source": [
    "#Obtengo los valores que no se encuentran en mi dataframe fusionado\n",
    "array1 = m_fusion[\"user_id\"].unique()\n",
    "array2 = m_users[\"user_id\"].unique()\n",
    "list= set(array2)-set(array1)\n",
    "print(list)"
   ]
  },
  {
   "cell_type": "markdown",
   "metadata": {},
   "source": [
    "Procedo a crear un código automatizado para verificar los usuarios faltantes."
   ]
  },
  {
   "cell_type": "code",
   "execution_count": 41,
   "metadata": {},
   "outputs": [
    {
     "name": "stdout",
     "output_type": "stream",
     "text": [
      "1000: si esta\n",
      "1000: si esta\n",
      "1000: si esta\n",
      "1000: si esta\n"
     ]
    }
   ],
   "source": [
    "list = [1025, 1378, 1463, 1473, 1319, 1129, 1307, 1269, 1143, 1275,1000] #Lista de los valores faltantes, el último valor ya existe en la fusión, se usará como filtro para verificar que el código funciona.\n",
    "dframes= [calls_per_user, minutes_per_user ,m_messages_per_user ,m_internet_per_user]\n",
    "name_list = [\"calls_per_user\", \"minutes_per_user\" ,\"m_messages_per_user\" ,\"m_internet_per_user\"]\n",
    "\n",
    "#Se buscará en cada base el id de usuario para verificar su existencia.\n",
    "\n",
    "\n",
    "for conjunto in dframes:\n",
    "        for lost_id in list:\n",
    "            if (not conjunto[conjunto[\"user_id\"]==lost_id].empty) == True:\n",
    "                print(f\"{lost_id}: si esta\")"
   ]
  },
  {
   "cell_type": "markdown",
   "metadata": {},
   "source": [
    "Con esto confirmo que 10 usuarios del conjunto users, no tuvieron actividad en los otros conjuntos de datos."
   ]
  },
  {
   "cell_type": "markdown",
   "metadata": {},
   "source": [
    "Finalmente procedemos a agregar la información de la tarifa"
   ]
  },
  {
   "cell_type": "code",
   "execution_count": 42,
   "metadata": {
    "id": "0dNOXHag0q1H"
   },
   "outputs": [
    {
     "data": {
      "text/html": [
       "<div>\n",
       "<style scoped>\n",
       "    .dataframe tbody tr th:only-of-type {\n",
       "        vertical-align: middle;\n",
       "    }\n",
       "\n",
       "    .dataframe tbody tr th {\n",
       "        vertical-align: top;\n",
       "    }\n",
       "\n",
       "    .dataframe thead th {\n",
       "        text-align: right;\n",
       "    }\n",
       "</style>\n",
       "<table border=\"1\" class=\"dataframe\">\n",
       "  <thead>\n",
       "    <tr style=\"text-align: right;\">\n",
       "      <th></th>\n",
       "      <th>user_id</th>\n",
       "      <th>month</th>\n",
       "      <th>calls</th>\n",
       "      <th>duration</th>\n",
       "      <th>n_messages</th>\n",
       "      <th>megas</th>\n",
       "      <th>plan</th>\n",
       "      <th>churn_date</th>\n",
       "      <th>messages_included</th>\n",
       "      <th>mb_per_month_included</th>\n",
       "      <th>minutes_included</th>\n",
       "      <th>usd_monthly_pay</th>\n",
       "      <th>usd_per_gb</th>\n",
       "      <th>usd_per_message</th>\n",
       "      <th>usd_per_minute</th>\n",
       "      <th>plan_name</th>\n",
       "    </tr>\n",
       "  </thead>\n",
       "  <tbody>\n",
       "    <tr>\n",
       "      <th>1242</th>\n",
       "      <td>1267</td>\n",
       "      <td>12</td>\n",
       "      <td>205</td>\n",
       "      <td>1510</td>\n",
       "      <td>125</td>\n",
       "      <td>37</td>\n",
       "      <td>surf</td>\n",
       "      <td>NaT</td>\n",
       "      <td>50</td>\n",
       "      <td>15</td>\n",
       "      <td>500</td>\n",
       "      <td>20</td>\n",
       "      <td>10</td>\n",
       "      <td>0.03</td>\n",
       "      <td>0.03</td>\n",
       "      <td>surf</td>\n",
       "    </tr>\n",
       "    <tr>\n",
       "      <th>1487</th>\n",
       "      <td>1329</td>\n",
       "      <td>12</td>\n",
       "      <td>191</td>\n",
       "      <td>1369</td>\n",
       "      <td>97</td>\n",
       "      <td>26</td>\n",
       "      <td>ultimate</td>\n",
       "      <td>NaT</td>\n",
       "      <td>1000</td>\n",
       "      <td>30</td>\n",
       "      <td>3000</td>\n",
       "      <td>70</td>\n",
       "      <td>7</td>\n",
       "      <td>0.01</td>\n",
       "      <td>0.01</td>\n",
       "      <td>ultimate</td>\n",
       "    </tr>\n",
       "    <tr>\n",
       "      <th>1669</th>\n",
       "      <td>1365</td>\n",
       "      <td>12</td>\n",
       "      <td>180</td>\n",
       "      <td>1357</td>\n",
       "      <td>45</td>\n",
       "      <td>9</td>\n",
       "      <td>surf</td>\n",
       "      <td>NaT</td>\n",
       "      <td>50</td>\n",
       "      <td>15</td>\n",
       "      <td>500</td>\n",
       "      <td>20</td>\n",
       "      <td>10</td>\n",
       "      <td>0.03</td>\n",
       "      <td>0.03</td>\n",
       "      <td>surf</td>\n",
       "    </tr>\n",
       "    <tr>\n",
       "      <th>1459</th>\n",
       "      <td>1324</td>\n",
       "      <td>11</td>\n",
       "      <td>171</td>\n",
       "      <td>1304</td>\n",
       "      <td>116</td>\n",
       "      <td>18</td>\n",
       "      <td>surf</td>\n",
       "      <td>NaT</td>\n",
       "      <td>50</td>\n",
       "      <td>15</td>\n",
       "      <td>500</td>\n",
       "      <td>20</td>\n",
       "      <td>10</td>\n",
       "      <td>0.03</td>\n",
       "      <td>0.03</td>\n",
       "      <td>surf</td>\n",
       "    </tr>\n",
       "    <tr>\n",
       "      <th>1737</th>\n",
       "      <td>1382</td>\n",
       "      <td>12</td>\n",
       "      <td>170</td>\n",
       "      <td>1295</td>\n",
       "      <td>52</td>\n",
       "      <td>11</td>\n",
       "      <td>ultimate</td>\n",
       "      <td>NaT</td>\n",
       "      <td>1000</td>\n",
       "      <td>30</td>\n",
       "      <td>3000</td>\n",
       "      <td>70</td>\n",
       "      <td>7</td>\n",
       "      <td>0.01</td>\n",
       "      <td>0.01</td>\n",
       "      <td>ultimate</td>\n",
       "    </tr>\n",
       "    <tr>\n",
       "      <th>...</th>\n",
       "      <td>...</td>\n",
       "      <td>...</td>\n",
       "      <td>...</td>\n",
       "      <td>...</td>\n",
       "      <td>...</td>\n",
       "      <td>...</td>\n",
       "      <td>...</td>\n",
       "      <td>...</td>\n",
       "      <td>...</td>\n",
       "      <td>...</td>\n",
       "      <td>...</td>\n",
       "      <td>...</td>\n",
       "      <td>...</td>\n",
       "      <td>...</td>\n",
       "      <td>...</td>\n",
       "      <td>...</td>\n",
       "    </tr>\n",
       "    <tr>\n",
       "      <th>2268</th>\n",
       "      <td>1131</td>\n",
       "      <td>6</td>\n",
       "      <td>0</td>\n",
       "      <td>0</td>\n",
       "      <td>27</td>\n",
       "      <td>15</td>\n",
       "      <td>surf</td>\n",
       "      <td>NaT</td>\n",
       "      <td>50</td>\n",
       "      <td>15</td>\n",
       "      <td>500</td>\n",
       "      <td>20</td>\n",
       "      <td>10</td>\n",
       "      <td>0.03</td>\n",
       "      <td>0.03</td>\n",
       "      <td>surf</td>\n",
       "    </tr>\n",
       "    <tr>\n",
       "      <th>2269</th>\n",
       "      <td>1131</td>\n",
       "      <td>7</td>\n",
       "      <td>0</td>\n",
       "      <td>0</td>\n",
       "      <td>28</td>\n",
       "      <td>17</td>\n",
       "      <td>surf</td>\n",
       "      <td>NaT</td>\n",
       "      <td>50</td>\n",
       "      <td>15</td>\n",
       "      <td>500</td>\n",
       "      <td>20</td>\n",
       "      <td>10</td>\n",
       "      <td>0.03</td>\n",
       "      <td>0.03</td>\n",
       "      <td>surf</td>\n",
       "    </tr>\n",
       "    <tr>\n",
       "      <th>2270</th>\n",
       "      <td>1131</td>\n",
       "      <td>8</td>\n",
       "      <td>0</td>\n",
       "      <td>0</td>\n",
       "      <td>33</td>\n",
       "      <td>12</td>\n",
       "      <td>surf</td>\n",
       "      <td>NaT</td>\n",
       "      <td>50</td>\n",
       "      <td>15</td>\n",
       "      <td>500</td>\n",
       "      <td>20</td>\n",
       "      <td>10</td>\n",
       "      <td>0.03</td>\n",
       "      <td>0.03</td>\n",
       "      <td>surf</td>\n",
       "    </tr>\n",
       "    <tr>\n",
       "      <th>2271</th>\n",
       "      <td>1131</td>\n",
       "      <td>9</td>\n",
       "      <td>0</td>\n",
       "      <td>0</td>\n",
       "      <td>26</td>\n",
       "      <td>16</td>\n",
       "      <td>surf</td>\n",
       "      <td>NaT</td>\n",
       "      <td>50</td>\n",
       "      <td>15</td>\n",
       "      <td>500</td>\n",
       "      <td>20</td>\n",
       "      <td>10</td>\n",
       "      <td>0.03</td>\n",
       "      <td>0.03</td>\n",
       "      <td>surf</td>\n",
       "    </tr>\n",
       "    <tr>\n",
       "      <th>2292</th>\n",
       "      <td>1311</td>\n",
       "      <td>6</td>\n",
       "      <td>0</td>\n",
       "      <td>0</td>\n",
       "      <td>0</td>\n",
       "      <td>2</td>\n",
       "      <td>ultimate</td>\n",
       "      <td>NaT</td>\n",
       "      <td>1000</td>\n",
       "      <td>30</td>\n",
       "      <td>3000</td>\n",
       "      <td>70</td>\n",
       "      <td>7</td>\n",
       "      <td>0.01</td>\n",
       "      <td>0.01</td>\n",
       "      <td>ultimate</td>\n",
       "    </tr>\n",
       "  </tbody>\n",
       "</table>\n",
       "<p>2293 rows × 16 columns</p>\n",
       "</div>"
      ],
      "text/plain": [
       "      user_id  month  calls  duration  n_messages  megas      plan churn_date  \\\n",
       "1242     1267     12    205      1510         125     37      surf        NaT   \n",
       "1487     1329     12    191      1369          97     26  ultimate        NaT   \n",
       "1669     1365     12    180      1357          45      9      surf        NaT   \n",
       "1459     1324     11    171      1304         116     18      surf        NaT   \n",
       "1737     1382     12    170      1295          52     11  ultimate        NaT   \n",
       "...       ...    ...    ...       ...         ...    ...       ...        ...   \n",
       "2268     1131      6      0         0          27     15      surf        NaT   \n",
       "2269     1131      7      0         0          28     17      surf        NaT   \n",
       "2270     1131      8      0         0          33     12      surf        NaT   \n",
       "2271     1131      9      0         0          26     16      surf        NaT   \n",
       "2292     1311      6      0         0           0      2  ultimate        NaT   \n",
       "\n",
       "      messages_included  mb_per_month_included  minutes_included  \\\n",
       "1242                 50                     15               500   \n",
       "1487               1000                     30              3000   \n",
       "1669                 50                     15               500   \n",
       "1459                 50                     15               500   \n",
       "1737               1000                     30              3000   \n",
       "...                 ...                    ...               ...   \n",
       "2268                 50                     15               500   \n",
       "2269                 50                     15               500   \n",
       "2270                 50                     15               500   \n",
       "2271                 50                     15               500   \n",
       "2292               1000                     30              3000   \n",
       "\n",
       "      usd_monthly_pay  usd_per_gb  usd_per_message  usd_per_minute plan_name  \n",
       "1242               20          10             0.03            0.03      surf  \n",
       "1487               70           7             0.01            0.01  ultimate  \n",
       "1669               20          10             0.03            0.03      surf  \n",
       "1459               20          10             0.03            0.03      surf  \n",
       "1737               70           7             0.01            0.01  ultimate  \n",
       "...               ...         ...              ...             ...       ...  \n",
       "2268               20          10             0.03            0.03      surf  \n",
       "2269               20          10             0.03            0.03      surf  \n",
       "2270               20          10             0.03            0.03      surf  \n",
       "2271               20          10             0.03            0.03      surf  \n",
       "2292               70           7             0.01            0.01  ultimate  \n",
       "\n",
       "[2293 rows x 16 columns]"
      ]
     },
     "execution_count": 42,
     "metadata": {},
     "output_type": "execute_result"
    }
   ],
   "source": [
    "# Añade la información de la tarifa\n",
    "m_fusion = m_fusion.merge(m_users[[\"user_id\",\"plan\",\"churn_date\" ]], on=\"user_id\", how=\"left\" )\n",
    "m_fusion = m_fusion.merge(m_plans, how=\"left\", left_on=\"plan\", right_on=\"plan_name\")\n",
    "m_fusion.sort_values(by=\"duration\", ascending=False)"
   ]
  },
  {
   "cell_type": "markdown",
   "metadata": {},
   "source": [
    "Con estas columnas crearé el ingreso mensual para cada usuario. Lo realizare en 3 pasos."
   ]
  },
  {
   "cell_type": "markdown",
   "metadata": {},
   "source": [
    "Se crean tres columnas más donde se colocan los cargos por los minutos excedentes."
   ]
  },
  {
   "cell_type": "code",
   "execution_count": 43,
   "metadata": {
    "id": "5FGCf_c60q1I"
   },
   "outputs": [],
   "source": [
    "m_fusion[\"total_minutes_fee\"] =m_fusion[\"duration\"] - m_fusion[\"minutes_included\"] \n",
    "m_fusion[\"total_message_fee\"] = m_fusion[\"n_messages\"]- m_fusion[\"messages_included\"]\n",
    "m_fusion[\"total_megas_fee\"] = m_fusion[\"megas\"] - m_fusion[\"mb_per_month_included\"]\n",
    "\n",
    "list=[\"total_minutes_fee\" , \"total_message_fee\" ,\"total_megas_fee\"]\n",
    "\n",
    "def total_cost(dframes):\n",
    "    for df in dframes:\n",
    "        m_fusion[df] = m_fusion[df].apply(lambda x: 0 if x<0 else x)  #Si existen usuarios que no lo usaron igual se les cobrará la tarifa inicial\n",
    "\n",
    "total_cost(list)"
   ]
  },
  {
   "cell_type": "markdown",
   "metadata": {},
   "source": [
    "Se añaden las formulas para  el calculo final en la columna total_to pay"
   ]
  },
  {
   "cell_type": "code",
   "execution_count": 44,
   "metadata": {},
   "outputs": [],
   "source": [
    "m_fusion[\"total_minutes_fee\"] = m_fusion[\"total_minutes_fee\"]*m_fusion[\"usd_per_minute\"] \n",
    "m_fusion[\"total_message_fee\"] = m_fusion[\"total_message_fee\"]*m_fusion[\"usd_per_message\"] \n",
    "m_fusion[\"total_megas_fee\"] = m_fusion[\"total_megas_fee\"]*m_fusion[\"usd_per_gb\"] \n",
    "m_fusion[\"total_to_pay\"]= m_fusion[\"total_minutes_fee\"] + m_fusion[\"total_message_fee\"] + m_fusion[\"total_megas_fee\"] + m_fusion[\"usd_monthly_pay\"]"
   ]
  },
  {
   "cell_type": "markdown",
   "metadata": {},
   "source": [
    "Se transforma la columna de churn_date para poder completar el último cálculo"
   ]
  },
  {
   "cell_type": "code",
   "execution_count": 45,
   "metadata": {},
   "outputs": [],
   "source": [
    "m_fusion[\"churn_date\"] = m_fusion[\"churn_date\"].dt.month"
   ]
  },
  {
   "cell_type": "code",
   "execution_count": 46,
   "metadata": {
    "scrolled": false
   },
   "outputs": [
    {
     "data": {
      "text/html": [
       "<div>\n",
       "<style scoped>\n",
       "    .dataframe tbody tr th:only-of-type {\n",
       "        vertical-align: middle;\n",
       "    }\n",
       "\n",
       "    .dataframe tbody tr th {\n",
       "        vertical-align: top;\n",
       "    }\n",
       "\n",
       "    .dataframe thead th {\n",
       "        text-align: right;\n",
       "    }\n",
       "</style>\n",
       "<table border=\"1\" class=\"dataframe\">\n",
       "  <thead>\n",
       "    <tr style=\"text-align: right;\">\n",
       "      <th></th>\n",
       "      <th>user_id</th>\n",
       "      <th>month</th>\n",
       "      <th>calls</th>\n",
       "      <th>duration</th>\n",
       "      <th>n_messages</th>\n",
       "      <th>megas</th>\n",
       "      <th>plan</th>\n",
       "      <th>churn_date</th>\n",
       "      <th>messages_included</th>\n",
       "      <th>mb_per_month_included</th>\n",
       "      <th>minutes_included</th>\n",
       "      <th>usd_monthly_pay</th>\n",
       "      <th>usd_per_gb</th>\n",
       "      <th>usd_per_message</th>\n",
       "      <th>usd_per_minute</th>\n",
       "      <th>plan_name</th>\n",
       "      <th>total_minutes_fee</th>\n",
       "      <th>total_message_fee</th>\n",
       "      <th>total_megas_fee</th>\n",
       "      <th>total_to_pay</th>\n",
       "    </tr>\n",
       "  </thead>\n",
       "  <tbody>\n",
       "    <tr>\n",
       "      <th>54</th>\n",
       "      <td>1012</td>\n",
       "      <td>12</td>\n",
       "      <td>16</td>\n",
       "      <td>78</td>\n",
       "      <td>0</td>\n",
       "      <td>12</td>\n",
       "      <td>surf</td>\n",
       "      <td>11.0</td>\n",
       "      <td>50</td>\n",
       "      <td>15</td>\n",
       "      <td>500</td>\n",
       "      <td>20</td>\n",
       "      <td>10</td>\n",
       "      <td>0.03</td>\n",
       "      <td>0.03</td>\n",
       "      <td>surf</td>\n",
       "      <td>0.00</td>\n",
       "      <td>0.00</td>\n",
       "      <td>0</td>\n",
       "      <td>0.0</td>\n",
       "    </tr>\n",
       "    <tr>\n",
       "      <th>80</th>\n",
       "      <td>1022</td>\n",
       "      <td>10</td>\n",
       "      <td>83</td>\n",
       "      <td>574</td>\n",
       "      <td>0</td>\n",
       "      <td>19</td>\n",
       "      <td>surf</td>\n",
       "      <td>9.0</td>\n",
       "      <td>50</td>\n",
       "      <td>15</td>\n",
       "      <td>500</td>\n",
       "      <td>20</td>\n",
       "      <td>10</td>\n",
       "      <td>0.03</td>\n",
       "      <td>0.03</td>\n",
       "      <td>surf</td>\n",
       "      <td>2.22</td>\n",
       "      <td>0.00</td>\n",
       "      <td>40</td>\n",
       "      <td>0.0</td>\n",
       "    </tr>\n",
       "    <tr>\n",
       "      <th>81</th>\n",
       "      <td>1022</td>\n",
       "      <td>11</td>\n",
       "      <td>72</td>\n",
       "      <td>498</td>\n",
       "      <td>0</td>\n",
       "      <td>22</td>\n",
       "      <td>surf</td>\n",
       "      <td>9.0</td>\n",
       "      <td>50</td>\n",
       "      <td>15</td>\n",
       "      <td>500</td>\n",
       "      <td>20</td>\n",
       "      <td>10</td>\n",
       "      <td>0.03</td>\n",
       "      <td>0.03</td>\n",
       "      <td>surf</td>\n",
       "      <td>0.00</td>\n",
       "      <td>0.00</td>\n",
       "      <td>70</td>\n",
       "      <td>0.0</td>\n",
       "    </tr>\n",
       "    <tr>\n",
       "      <th>82</th>\n",
       "      <td>1022</td>\n",
       "      <td>12</td>\n",
       "      <td>82</td>\n",
       "      <td>585</td>\n",
       "      <td>0</td>\n",
       "      <td>18</td>\n",
       "      <td>surf</td>\n",
       "      <td>9.0</td>\n",
       "      <td>50</td>\n",
       "      <td>15</td>\n",
       "      <td>500</td>\n",
       "      <td>20</td>\n",
       "      <td>10</td>\n",
       "      <td>0.03</td>\n",
       "      <td>0.03</td>\n",
       "      <td>surf</td>\n",
       "      <td>2.55</td>\n",
       "      <td>0.00</td>\n",
       "      <td>30</td>\n",
       "      <td>0.0</td>\n",
       "    </tr>\n",
       "    <tr>\n",
       "      <th>212</th>\n",
       "      <td>1050</td>\n",
       "      <td>11</td>\n",
       "      <td>57</td>\n",
       "      <td>413</td>\n",
       "      <td>0</td>\n",
       "      <td>14</td>\n",
       "      <td>ultimate</td>\n",
       "      <td>10.0</td>\n",
       "      <td>1000</td>\n",
       "      <td>30</td>\n",
       "      <td>3000</td>\n",
       "      <td>70</td>\n",
       "      <td>7</td>\n",
       "      <td>0.01</td>\n",
       "      <td>0.01</td>\n",
       "      <td>ultimate</td>\n",
       "      <td>0.00</td>\n",
       "      <td>0.00</td>\n",
       "      <td>0</td>\n",
       "      <td>0.0</td>\n",
       "    </tr>\n",
       "    <tr>\n",
       "      <th>213</th>\n",
       "      <td>1050</td>\n",
       "      <td>12</td>\n",
       "      <td>52</td>\n",
       "      <td>299</td>\n",
       "      <td>0</td>\n",
       "      <td>17</td>\n",
       "      <td>ultimate</td>\n",
       "      <td>10.0</td>\n",
       "      <td>1000</td>\n",
       "      <td>30</td>\n",
       "      <td>3000</td>\n",
       "      <td>70</td>\n",
       "      <td>7</td>\n",
       "      <td>0.01</td>\n",
       "      <td>0.01</td>\n",
       "      <td>ultimate</td>\n",
       "      <td>0.00</td>\n",
       "      <td>0.00</td>\n",
       "      <td>0</td>\n",
       "      <td>0.0</td>\n",
       "    </tr>\n",
       "    <tr>\n",
       "      <th>311</th>\n",
       "      <td>1067</td>\n",
       "      <td>12</td>\n",
       "      <td>53</td>\n",
       "      <td>344</td>\n",
       "      <td>20</td>\n",
       "      <td>16</td>\n",
       "      <td>surf</td>\n",
       "      <td>11.0</td>\n",
       "      <td>50</td>\n",
       "      <td>15</td>\n",
       "      <td>500</td>\n",
       "      <td>20</td>\n",
       "      <td>10</td>\n",
       "      <td>0.03</td>\n",
       "      <td>0.03</td>\n",
       "      <td>surf</td>\n",
       "      <td>0.00</td>\n",
       "      <td>0.00</td>\n",
       "      <td>10</td>\n",
       "      <td>0.0</td>\n",
       "    </tr>\n",
       "    <tr>\n",
       "      <th>403</th>\n",
       "      <td>1084</td>\n",
       "      <td>12</td>\n",
       "      <td>103</td>\n",
       "      <td>720</td>\n",
       "      <td>81</td>\n",
       "      <td>28</td>\n",
       "      <td>surf</td>\n",
       "      <td>11.0</td>\n",
       "      <td>50</td>\n",
       "      <td>15</td>\n",
       "      <td>500</td>\n",
       "      <td>20</td>\n",
       "      <td>10</td>\n",
       "      <td>0.03</td>\n",
       "      <td>0.03</td>\n",
       "      <td>surf</td>\n",
       "      <td>6.60</td>\n",
       "      <td>0.93</td>\n",
       "      <td>130</td>\n",
       "      <td>0.0</td>\n",
       "    </tr>\n",
       "    <tr>\n",
       "      <th>497</th>\n",
       "      <td>1106</td>\n",
       "      <td>12</td>\n",
       "      <td>67</td>\n",
       "      <td>569</td>\n",
       "      <td>0</td>\n",
       "      <td>22</td>\n",
       "      <td>surf</td>\n",
       "      <td>11.0</td>\n",
       "      <td>50</td>\n",
       "      <td>15</td>\n",
       "      <td>500</td>\n",
       "      <td>20</td>\n",
       "      <td>10</td>\n",
       "      <td>0.03</td>\n",
       "      <td>0.03</td>\n",
       "      <td>surf</td>\n",
       "      <td>2.07</td>\n",
       "      <td>0.00</td>\n",
       "      <td>70</td>\n",
       "      <td>0.0</td>\n",
       "    </tr>\n",
       "    <tr>\n",
       "      <th>809</th>\n",
       "      <td>1172</td>\n",
       "      <td>12</td>\n",
       "      <td>90</td>\n",
       "      <td>711</td>\n",
       "      <td>117</td>\n",
       "      <td>24</td>\n",
       "      <td>surf</td>\n",
       "      <td>11.0</td>\n",
       "      <td>50</td>\n",
       "      <td>15</td>\n",
       "      <td>500</td>\n",
       "      <td>20</td>\n",
       "      <td>10</td>\n",
       "      <td>0.03</td>\n",
       "      <td>0.03</td>\n",
       "      <td>surf</td>\n",
       "      <td>6.33</td>\n",
       "      <td>2.01</td>\n",
       "      <td>90</td>\n",
       "      <td>0.0</td>\n",
       "    </tr>\n",
       "    <tr>\n",
       "      <th>899</th>\n",
       "      <td>1191</td>\n",
       "      <td>12</td>\n",
       "      <td>85</td>\n",
       "      <td>625</td>\n",
       "      <td>10</td>\n",
       "      <td>12</td>\n",
       "      <td>ultimate</td>\n",
       "      <td>11.0</td>\n",
       "      <td>1000</td>\n",
       "      <td>30</td>\n",
       "      <td>3000</td>\n",
       "      <td>70</td>\n",
       "      <td>7</td>\n",
       "      <td>0.01</td>\n",
       "      <td>0.01</td>\n",
       "      <td>ultimate</td>\n",
       "      <td>0.00</td>\n",
       "      <td>0.00</td>\n",
       "      <td>0</td>\n",
       "      <td>0.0</td>\n",
       "    </tr>\n",
       "    <tr>\n",
       "      <th>1024</th>\n",
       "      <td>1220</td>\n",
       "      <td>11</td>\n",
       "      <td>76</td>\n",
       "      <td>487</td>\n",
       "      <td>25</td>\n",
       "      <td>13</td>\n",
       "      <td>surf</td>\n",
       "      <td>10.0</td>\n",
       "      <td>50</td>\n",
       "      <td>15</td>\n",
       "      <td>500</td>\n",
       "      <td>20</td>\n",
       "      <td>10</td>\n",
       "      <td>0.03</td>\n",
       "      <td>0.03</td>\n",
       "      <td>surf</td>\n",
       "      <td>0.00</td>\n",
       "      <td>0.00</td>\n",
       "      <td>0</td>\n",
       "      <td>0.0</td>\n",
       "    </tr>\n",
       "    <tr>\n",
       "      <th>1025</th>\n",
       "      <td>1220</td>\n",
       "      <td>12</td>\n",
       "      <td>88</td>\n",
       "      <td>558</td>\n",
       "      <td>31</td>\n",
       "      <td>19</td>\n",
       "      <td>surf</td>\n",
       "      <td>10.0</td>\n",
       "      <td>50</td>\n",
       "      <td>15</td>\n",
       "      <td>500</td>\n",
       "      <td>20</td>\n",
       "      <td>10</td>\n",
       "      <td>0.03</td>\n",
       "      <td>0.03</td>\n",
       "      <td>surf</td>\n",
       "      <td>1.74</td>\n",
       "      <td>0.00</td>\n",
       "      <td>40</td>\n",
       "      <td>0.0</td>\n",
       "    </tr>\n",
       "    <tr>\n",
       "      <th>1128</th>\n",
       "      <td>1246</td>\n",
       "      <td>8</td>\n",
       "      <td>96</td>\n",
       "      <td>698</td>\n",
       "      <td>15</td>\n",
       "      <td>18</td>\n",
       "      <td>ultimate</td>\n",
       "      <td>7.0</td>\n",
       "      <td>1000</td>\n",
       "      <td>30</td>\n",
       "      <td>3000</td>\n",
       "      <td>70</td>\n",
       "      <td>7</td>\n",
       "      <td>0.01</td>\n",
       "      <td>0.01</td>\n",
       "      <td>ultimate</td>\n",
       "      <td>0.00</td>\n",
       "      <td>0.00</td>\n",
       "      <td>0</td>\n",
       "      <td>0.0</td>\n",
       "    </tr>\n",
       "    <tr>\n",
       "      <th>1129</th>\n",
       "      <td>1246</td>\n",
       "      <td>9</td>\n",
       "      <td>40</td>\n",
       "      <td>321</td>\n",
       "      <td>8</td>\n",
       "      <td>8</td>\n",
       "      <td>ultimate</td>\n",
       "      <td>7.0</td>\n",
       "      <td>1000</td>\n",
       "      <td>30</td>\n",
       "      <td>3000</td>\n",
       "      <td>70</td>\n",
       "      <td>7</td>\n",
       "      <td>0.01</td>\n",
       "      <td>0.01</td>\n",
       "      <td>ultimate</td>\n",
       "      <td>0.00</td>\n",
       "      <td>0.00</td>\n",
       "      <td>0</td>\n",
       "      <td>0.0</td>\n",
       "    </tr>\n",
       "    <tr>\n",
       "      <th>1294</th>\n",
       "      <td>1281</td>\n",
       "      <td>12</td>\n",
       "      <td>88</td>\n",
       "      <td>645</td>\n",
       "      <td>38</td>\n",
       "      <td>8</td>\n",
       "      <td>surf</td>\n",
       "      <td>11.0</td>\n",
       "      <td>50</td>\n",
       "      <td>15</td>\n",
       "      <td>500</td>\n",
       "      <td>20</td>\n",
       "      <td>10</td>\n",
       "      <td>0.03</td>\n",
       "      <td>0.03</td>\n",
       "      <td>surf</td>\n",
       "      <td>4.35</td>\n",
       "      <td>0.00</td>\n",
       "      <td>0</td>\n",
       "      <td>0.0</td>\n",
       "    </tr>\n",
       "    <tr>\n",
       "      <th>1414</th>\n",
       "      <td>1315</td>\n",
       "      <td>11</td>\n",
       "      <td>33</td>\n",
       "      <td>282</td>\n",
       "      <td>21</td>\n",
       "      <td>8</td>\n",
       "      <td>surf</td>\n",
       "      <td>10.0</td>\n",
       "      <td>50</td>\n",
       "      <td>15</td>\n",
       "      <td>500</td>\n",
       "      <td>20</td>\n",
       "      <td>10</td>\n",
       "      <td>0.03</td>\n",
       "      <td>0.03</td>\n",
       "      <td>surf</td>\n",
       "      <td>0.00</td>\n",
       "      <td>0.00</td>\n",
       "      <td>0</td>\n",
       "      <td>0.0</td>\n",
       "    </tr>\n",
       "    <tr>\n",
       "      <th>1415</th>\n",
       "      <td>1315</td>\n",
       "      <td>12</td>\n",
       "      <td>43</td>\n",
       "      <td>350</td>\n",
       "      <td>35</td>\n",
       "      <td>6</td>\n",
       "      <td>surf</td>\n",
       "      <td>10.0</td>\n",
       "      <td>50</td>\n",
       "      <td>15</td>\n",
       "      <td>500</td>\n",
       "      <td>20</td>\n",
       "      <td>10</td>\n",
       "      <td>0.03</td>\n",
       "      <td>0.03</td>\n",
       "      <td>surf</td>\n",
       "      <td>0.00</td>\n",
       "      <td>0.00</td>\n",
       "      <td>0</td>\n",
       "      <td>0.0</td>\n",
       "    </tr>\n",
       "    <tr>\n",
       "      <th>1621</th>\n",
       "      <td>1358</td>\n",
       "      <td>11</td>\n",
       "      <td>58</td>\n",
       "      <td>445</td>\n",
       "      <td>4</td>\n",
       "      <td>17</td>\n",
       "      <td>surf</td>\n",
       "      <td>10.0</td>\n",
       "      <td>50</td>\n",
       "      <td>15</td>\n",
       "      <td>500</td>\n",
       "      <td>20</td>\n",
       "      <td>10</td>\n",
       "      <td>0.03</td>\n",
       "      <td>0.03</td>\n",
       "      <td>surf</td>\n",
       "      <td>0.00</td>\n",
       "      <td>0.00</td>\n",
       "      <td>20</td>\n",
       "      <td>0.0</td>\n",
       "    </tr>\n",
       "    <tr>\n",
       "      <th>1622</th>\n",
       "      <td>1358</td>\n",
       "      <td>12</td>\n",
       "      <td>4</td>\n",
       "      <td>18</td>\n",
       "      <td>0</td>\n",
       "      <td>4</td>\n",
       "      <td>surf</td>\n",
       "      <td>10.0</td>\n",
       "      <td>50</td>\n",
       "      <td>15</td>\n",
       "      <td>500</td>\n",
       "      <td>20</td>\n",
       "      <td>10</td>\n",
       "      <td>0.03</td>\n",
       "      <td>0.03</td>\n",
       "      <td>surf</td>\n",
       "      <td>0.00</td>\n",
       "      <td>0.00</td>\n",
       "      <td>0</td>\n",
       "      <td>0.0</td>\n",
       "    </tr>\n",
       "    <tr>\n",
       "      <th>1654</th>\n",
       "      <td>1363</td>\n",
       "      <td>9</td>\n",
       "      <td>36</td>\n",
       "      <td>301</td>\n",
       "      <td>27</td>\n",
       "      <td>11</td>\n",
       "      <td>ultimate</td>\n",
       "      <td>8.0</td>\n",
       "      <td>1000</td>\n",
       "      <td>30</td>\n",
       "      <td>3000</td>\n",
       "      <td>70</td>\n",
       "      <td>7</td>\n",
       "      <td>0.01</td>\n",
       "      <td>0.01</td>\n",
       "      <td>ultimate</td>\n",
       "      <td>0.00</td>\n",
       "      <td>0.00</td>\n",
       "      <td>0</td>\n",
       "      <td>0.0</td>\n",
       "    </tr>\n",
       "    <tr>\n",
       "      <th>1655</th>\n",
       "      <td>1363</td>\n",
       "      <td>10</td>\n",
       "      <td>49</td>\n",
       "      <td>385</td>\n",
       "      <td>41</td>\n",
       "      <td>17</td>\n",
       "      <td>ultimate</td>\n",
       "      <td>8.0</td>\n",
       "      <td>1000</td>\n",
       "      <td>30</td>\n",
       "      <td>3000</td>\n",
       "      <td>70</td>\n",
       "      <td>7</td>\n",
       "      <td>0.01</td>\n",
       "      <td>0.01</td>\n",
       "      <td>ultimate</td>\n",
       "      <td>0.00</td>\n",
       "      <td>0.00</td>\n",
       "      <td>0</td>\n",
       "      <td>0.0</td>\n",
       "    </tr>\n",
       "    <tr>\n",
       "      <th>1656</th>\n",
       "      <td>1363</td>\n",
       "      <td>11</td>\n",
       "      <td>39</td>\n",
       "      <td>258</td>\n",
       "      <td>34</td>\n",
       "      <td>17</td>\n",
       "      <td>ultimate</td>\n",
       "      <td>8.0</td>\n",
       "      <td>1000</td>\n",
       "      <td>30</td>\n",
       "      <td>3000</td>\n",
       "      <td>70</td>\n",
       "      <td>7</td>\n",
       "      <td>0.01</td>\n",
       "      <td>0.01</td>\n",
       "      <td>ultimate</td>\n",
       "      <td>0.00</td>\n",
       "      <td>0.00</td>\n",
       "      <td>0</td>\n",
       "      <td>0.0</td>\n",
       "    </tr>\n",
       "    <tr>\n",
       "      <th>1657</th>\n",
       "      <td>1363</td>\n",
       "      <td>12</td>\n",
       "      <td>40</td>\n",
       "      <td>262</td>\n",
       "      <td>42</td>\n",
       "      <td>18</td>\n",
       "      <td>ultimate</td>\n",
       "      <td>8.0</td>\n",
       "      <td>1000</td>\n",
       "      <td>30</td>\n",
       "      <td>3000</td>\n",
       "      <td>70</td>\n",
       "      <td>7</td>\n",
       "      <td>0.01</td>\n",
       "      <td>0.01</td>\n",
       "      <td>ultimate</td>\n",
       "      <td>0.00</td>\n",
       "      <td>0.00</td>\n",
       "      <td>0</td>\n",
       "      <td>0.0</td>\n",
       "    </tr>\n",
       "    <tr>\n",
       "      <th>1907</th>\n",
       "      <td>1414</td>\n",
       "      <td>10</td>\n",
       "      <td>67</td>\n",
       "      <td>546</td>\n",
       "      <td>70</td>\n",
       "      <td>25</td>\n",
       "      <td>surf</td>\n",
       "      <td>9.0</td>\n",
       "      <td>50</td>\n",
       "      <td>15</td>\n",
       "      <td>500</td>\n",
       "      <td>20</td>\n",
       "      <td>10</td>\n",
       "      <td>0.03</td>\n",
       "      <td>0.03</td>\n",
       "      <td>surf</td>\n",
       "      <td>1.38</td>\n",
       "      <td>0.60</td>\n",
       "      <td>100</td>\n",
       "      <td>0.0</td>\n",
       "    </tr>\n",
       "    <tr>\n",
       "      <th>1908</th>\n",
       "      <td>1414</td>\n",
       "      <td>11</td>\n",
       "      <td>57</td>\n",
       "      <td>288</td>\n",
       "      <td>38</td>\n",
       "      <td>27</td>\n",
       "      <td>surf</td>\n",
       "      <td>9.0</td>\n",
       "      <td>50</td>\n",
       "      <td>15</td>\n",
       "      <td>500</td>\n",
       "      <td>20</td>\n",
       "      <td>10</td>\n",
       "      <td>0.03</td>\n",
       "      <td>0.03</td>\n",
       "      <td>surf</td>\n",
       "      <td>0.00</td>\n",
       "      <td>0.00</td>\n",
       "      <td>120</td>\n",
       "      <td>0.0</td>\n",
       "    </tr>\n",
       "    <tr>\n",
       "      <th>1909</th>\n",
       "      <td>1414</td>\n",
       "      <td>12</td>\n",
       "      <td>65</td>\n",
       "      <td>451</td>\n",
       "      <td>54</td>\n",
       "      <td>30</td>\n",
       "      <td>surf</td>\n",
       "      <td>9.0</td>\n",
       "      <td>50</td>\n",
       "      <td>15</td>\n",
       "      <td>500</td>\n",
       "      <td>20</td>\n",
       "      <td>10</td>\n",
       "      <td>0.03</td>\n",
       "      <td>0.03</td>\n",
       "      <td>surf</td>\n",
       "      <td>0.00</td>\n",
       "      <td>0.12</td>\n",
       "      <td>150</td>\n",
       "      <td>0.0</td>\n",
       "    </tr>\n",
       "    <tr>\n",
       "      <th>1918</th>\n",
       "      <td>1416</td>\n",
       "      <td>12</td>\n",
       "      <td>49</td>\n",
       "      <td>398</td>\n",
       "      <td>49</td>\n",
       "      <td>35</td>\n",
       "      <td>surf</td>\n",
       "      <td>11.0</td>\n",
       "      <td>50</td>\n",
       "      <td>15</td>\n",
       "      <td>500</td>\n",
       "      <td>20</td>\n",
       "      <td>10</td>\n",
       "      <td>0.03</td>\n",
       "      <td>0.03</td>\n",
       "      <td>surf</td>\n",
       "      <td>0.00</td>\n",
       "      <td>0.00</td>\n",
       "      <td>200</td>\n",
       "      <td>0.0</td>\n",
       "    </tr>\n",
       "    <tr>\n",
       "      <th>2019</th>\n",
       "      <td>1441</td>\n",
       "      <td>11</td>\n",
       "      <td>43</td>\n",
       "      <td>345</td>\n",
       "      <td>7</td>\n",
       "      <td>9</td>\n",
       "      <td>ultimate</td>\n",
       "      <td>8.0</td>\n",
       "      <td>1000</td>\n",
       "      <td>30</td>\n",
       "      <td>3000</td>\n",
       "      <td>70</td>\n",
       "      <td>7</td>\n",
       "      <td>0.01</td>\n",
       "      <td>0.01</td>\n",
       "      <td>ultimate</td>\n",
       "      <td>0.00</td>\n",
       "      <td>0.00</td>\n",
       "      <td>0</td>\n",
       "      <td>0.0</td>\n",
       "    </tr>\n",
       "    <tr>\n",
       "      <th>2020</th>\n",
       "      <td>1441</td>\n",
       "      <td>12</td>\n",
       "      <td>139</td>\n",
       "      <td>987</td>\n",
       "      <td>15</td>\n",
       "      <td>29</td>\n",
       "      <td>ultimate</td>\n",
       "      <td>8.0</td>\n",
       "      <td>1000</td>\n",
       "      <td>30</td>\n",
       "      <td>3000</td>\n",
       "      <td>70</td>\n",
       "      <td>7</td>\n",
       "      <td>0.01</td>\n",
       "      <td>0.01</td>\n",
       "      <td>ultimate</td>\n",
       "      <td>0.00</td>\n",
       "      <td>0.00</td>\n",
       "      <td>0</td>\n",
       "      <td>0.0</td>\n",
       "    </tr>\n",
       "    <tr>\n",
       "      <th>2111</th>\n",
       "      <td>1466</td>\n",
       "      <td>10</td>\n",
       "      <td>33</td>\n",
       "      <td>238</td>\n",
       "      <td>51</td>\n",
       "      <td>15</td>\n",
       "      <td>surf</td>\n",
       "      <td>9.0</td>\n",
       "      <td>50</td>\n",
       "      <td>15</td>\n",
       "      <td>500</td>\n",
       "      <td>20</td>\n",
       "      <td>10</td>\n",
       "      <td>0.03</td>\n",
       "      <td>0.03</td>\n",
       "      <td>surf</td>\n",
       "      <td>0.00</td>\n",
       "      <td>0.03</td>\n",
       "      <td>0</td>\n",
       "      <td>0.0</td>\n",
       "    </tr>\n",
       "    <tr>\n",
       "      <th>2112</th>\n",
       "      <td>1466</td>\n",
       "      <td>11</td>\n",
       "      <td>28</td>\n",
       "      <td>202</td>\n",
       "      <td>38</td>\n",
       "      <td>13</td>\n",
       "      <td>surf</td>\n",
       "      <td>9.0</td>\n",
       "      <td>50</td>\n",
       "      <td>15</td>\n",
       "      <td>500</td>\n",
       "      <td>20</td>\n",
       "      <td>10</td>\n",
       "      <td>0.03</td>\n",
       "      <td>0.03</td>\n",
       "      <td>surf</td>\n",
       "      <td>0.00</td>\n",
       "      <td>0.00</td>\n",
       "      <td>0</td>\n",
       "      <td>0.0</td>\n",
       "    </tr>\n",
       "    <tr>\n",
       "      <th>2113</th>\n",
       "      <td>1466</td>\n",
       "      <td>12</td>\n",
       "      <td>32</td>\n",
       "      <td>254</td>\n",
       "      <td>41</td>\n",
       "      <td>12</td>\n",
       "      <td>surf</td>\n",
       "      <td>9.0</td>\n",
       "      <td>50</td>\n",
       "      <td>15</td>\n",
       "      <td>500</td>\n",
       "      <td>20</td>\n",
       "      <td>10</td>\n",
       "      <td>0.03</td>\n",
       "      <td>0.03</td>\n",
       "      <td>surf</td>\n",
       "      <td>0.00</td>\n",
       "      <td>0.00</td>\n",
       "      <td>0</td>\n",
       "      <td>0.0</td>\n",
       "    </tr>\n",
       "    <tr>\n",
       "      <th>2122</th>\n",
       "      <td>1467</td>\n",
       "      <td>12</td>\n",
       "      <td>66</td>\n",
       "      <td>483</td>\n",
       "      <td>77</td>\n",
       "      <td>18</td>\n",
       "      <td>ultimate</td>\n",
       "      <td>11.0</td>\n",
       "      <td>1000</td>\n",
       "      <td>30</td>\n",
       "      <td>3000</td>\n",
       "      <td>70</td>\n",
       "      <td>7</td>\n",
       "      <td>0.01</td>\n",
       "      <td>0.01</td>\n",
       "      <td>ultimate</td>\n",
       "      <td>0.00</td>\n",
       "      <td>0.00</td>\n",
       "      <td>0</td>\n",
       "      <td>0.0</td>\n",
       "    </tr>\n",
       "    <tr>\n",
       "      <th>2215</th>\n",
       "      <td>1491</td>\n",
       "      <td>10</td>\n",
       "      <td>75</td>\n",
       "      <td>585</td>\n",
       "      <td>51</td>\n",
       "      <td>9</td>\n",
       "      <td>surf</td>\n",
       "      <td>9.0</td>\n",
       "      <td>50</td>\n",
       "      <td>15</td>\n",
       "      <td>500</td>\n",
       "      <td>20</td>\n",
       "      <td>10</td>\n",
       "      <td>0.03</td>\n",
       "      <td>0.03</td>\n",
       "      <td>surf</td>\n",
       "      <td>2.55</td>\n",
       "      <td>0.03</td>\n",
       "      <td>0</td>\n",
       "      <td>0.0</td>\n",
       "    </tr>\n",
       "    <tr>\n",
       "      <th>2216</th>\n",
       "      <td>1491</td>\n",
       "      <td>11</td>\n",
       "      <td>46</td>\n",
       "      <td>409</td>\n",
       "      <td>46</td>\n",
       "      <td>6</td>\n",
       "      <td>surf</td>\n",
       "      <td>9.0</td>\n",
       "      <td>50</td>\n",
       "      <td>15</td>\n",
       "      <td>500</td>\n",
       "      <td>20</td>\n",
       "      <td>10</td>\n",
       "      <td>0.03</td>\n",
       "      <td>0.03</td>\n",
       "      <td>surf</td>\n",
       "      <td>0.00</td>\n",
       "      <td>0.00</td>\n",
       "      <td>0</td>\n",
       "      <td>0.0</td>\n",
       "    </tr>\n",
       "    <tr>\n",
       "      <th>2217</th>\n",
       "      <td>1491</td>\n",
       "      <td>12</td>\n",
       "      <td>55</td>\n",
       "      <td>399</td>\n",
       "      <td>43</td>\n",
       "      <td>7</td>\n",
       "      <td>surf</td>\n",
       "      <td>9.0</td>\n",
       "      <td>50</td>\n",
       "      <td>15</td>\n",
       "      <td>500</td>\n",
       "      <td>20</td>\n",
       "      <td>10</td>\n",
       "      <td>0.03</td>\n",
       "      <td>0.03</td>\n",
       "      <td>surf</td>\n",
       "      <td>0.00</td>\n",
       "      <td>0.00</td>\n",
       "      <td>0</td>\n",
       "      <td>0.0</td>\n",
       "    </tr>\n",
       "  </tbody>\n",
       "</table>\n",
       "</div>"
      ],
      "text/plain": [
       "      user_id  month  calls  duration  n_messages  megas      plan  \\\n",
       "54       1012     12     16        78           0     12      surf   \n",
       "80       1022     10     83       574           0     19      surf   \n",
       "81       1022     11     72       498           0     22      surf   \n",
       "82       1022     12     82       585           0     18      surf   \n",
       "212      1050     11     57       413           0     14  ultimate   \n",
       "213      1050     12     52       299           0     17  ultimate   \n",
       "311      1067     12     53       344          20     16      surf   \n",
       "403      1084     12    103       720          81     28      surf   \n",
       "497      1106     12     67       569           0     22      surf   \n",
       "809      1172     12     90       711         117     24      surf   \n",
       "899      1191     12     85       625          10     12  ultimate   \n",
       "1024     1220     11     76       487          25     13      surf   \n",
       "1025     1220     12     88       558          31     19      surf   \n",
       "1128     1246      8     96       698          15     18  ultimate   \n",
       "1129     1246      9     40       321           8      8  ultimate   \n",
       "1294     1281     12     88       645          38      8      surf   \n",
       "1414     1315     11     33       282          21      8      surf   \n",
       "1415     1315     12     43       350          35      6      surf   \n",
       "1621     1358     11     58       445           4     17      surf   \n",
       "1622     1358     12      4        18           0      4      surf   \n",
       "1654     1363      9     36       301          27     11  ultimate   \n",
       "1655     1363     10     49       385          41     17  ultimate   \n",
       "1656     1363     11     39       258          34     17  ultimate   \n",
       "1657     1363     12     40       262          42     18  ultimate   \n",
       "1907     1414     10     67       546          70     25      surf   \n",
       "1908     1414     11     57       288          38     27      surf   \n",
       "1909     1414     12     65       451          54     30      surf   \n",
       "1918     1416     12     49       398          49     35      surf   \n",
       "2019     1441     11     43       345           7      9  ultimate   \n",
       "2020     1441     12    139       987          15     29  ultimate   \n",
       "2111     1466     10     33       238          51     15      surf   \n",
       "2112     1466     11     28       202          38     13      surf   \n",
       "2113     1466     12     32       254          41     12      surf   \n",
       "2122     1467     12     66       483          77     18  ultimate   \n",
       "2215     1491     10     75       585          51      9      surf   \n",
       "2216     1491     11     46       409          46      6      surf   \n",
       "2217     1491     12     55       399          43      7      surf   \n",
       "\n",
       "      churn_date  messages_included  mb_per_month_included  minutes_included  \\\n",
       "54          11.0                 50                     15               500   \n",
       "80           9.0                 50                     15               500   \n",
       "81           9.0                 50                     15               500   \n",
       "82           9.0                 50                     15               500   \n",
       "212         10.0               1000                     30              3000   \n",
       "213         10.0               1000                     30              3000   \n",
       "311         11.0                 50                     15               500   \n",
       "403         11.0                 50                     15               500   \n",
       "497         11.0                 50                     15               500   \n",
       "809         11.0                 50                     15               500   \n",
       "899         11.0               1000                     30              3000   \n",
       "1024        10.0                 50                     15               500   \n",
       "1025        10.0                 50                     15               500   \n",
       "1128         7.0               1000                     30              3000   \n",
       "1129         7.0               1000                     30              3000   \n",
       "1294        11.0                 50                     15               500   \n",
       "1414        10.0                 50                     15               500   \n",
       "1415        10.0                 50                     15               500   \n",
       "1621        10.0                 50                     15               500   \n",
       "1622        10.0                 50                     15               500   \n",
       "1654         8.0               1000                     30              3000   \n",
       "1655         8.0               1000                     30              3000   \n",
       "1656         8.0               1000                     30              3000   \n",
       "1657         8.0               1000                     30              3000   \n",
       "1907         9.0                 50                     15               500   \n",
       "1908         9.0                 50                     15               500   \n",
       "1909         9.0                 50                     15               500   \n",
       "1918        11.0                 50                     15               500   \n",
       "2019         8.0               1000                     30              3000   \n",
       "2020         8.0               1000                     30              3000   \n",
       "2111         9.0                 50                     15               500   \n",
       "2112         9.0                 50                     15               500   \n",
       "2113         9.0                 50                     15               500   \n",
       "2122        11.0               1000                     30              3000   \n",
       "2215         9.0                 50                     15               500   \n",
       "2216         9.0                 50                     15               500   \n",
       "2217         9.0                 50                     15               500   \n",
       "\n",
       "      usd_monthly_pay  usd_per_gb  usd_per_message  usd_per_minute plan_name  \\\n",
       "54                 20          10             0.03            0.03      surf   \n",
       "80                 20          10             0.03            0.03      surf   \n",
       "81                 20          10             0.03            0.03      surf   \n",
       "82                 20          10             0.03            0.03      surf   \n",
       "212                70           7             0.01            0.01  ultimate   \n",
       "213                70           7             0.01            0.01  ultimate   \n",
       "311                20          10             0.03            0.03      surf   \n",
       "403                20          10             0.03            0.03      surf   \n",
       "497                20          10             0.03            0.03      surf   \n",
       "809                20          10             0.03            0.03      surf   \n",
       "899                70           7             0.01            0.01  ultimate   \n",
       "1024               20          10             0.03            0.03      surf   \n",
       "1025               20          10             0.03            0.03      surf   \n",
       "1128               70           7             0.01            0.01  ultimate   \n",
       "1129               70           7             0.01            0.01  ultimate   \n",
       "1294               20          10             0.03            0.03      surf   \n",
       "1414               20          10             0.03            0.03      surf   \n",
       "1415               20          10             0.03            0.03      surf   \n",
       "1621               20          10             0.03            0.03      surf   \n",
       "1622               20          10             0.03            0.03      surf   \n",
       "1654               70           7             0.01            0.01  ultimate   \n",
       "1655               70           7             0.01            0.01  ultimate   \n",
       "1656               70           7             0.01            0.01  ultimate   \n",
       "1657               70           7             0.01            0.01  ultimate   \n",
       "1907               20          10             0.03            0.03      surf   \n",
       "1908               20          10             0.03            0.03      surf   \n",
       "1909               20          10             0.03            0.03      surf   \n",
       "1918               20          10             0.03            0.03      surf   \n",
       "2019               70           7             0.01            0.01  ultimate   \n",
       "2020               70           7             0.01            0.01  ultimate   \n",
       "2111               20          10             0.03            0.03      surf   \n",
       "2112               20          10             0.03            0.03      surf   \n",
       "2113               20          10             0.03            0.03      surf   \n",
       "2122               70           7             0.01            0.01  ultimate   \n",
       "2215               20          10             0.03            0.03      surf   \n",
       "2216               20          10             0.03            0.03      surf   \n",
       "2217               20          10             0.03            0.03      surf   \n",
       "\n",
       "      total_minutes_fee  total_message_fee  total_megas_fee  total_to_pay  \n",
       "54                 0.00               0.00                0           0.0  \n",
       "80                 2.22               0.00               40           0.0  \n",
       "81                 0.00               0.00               70           0.0  \n",
       "82                 2.55               0.00               30           0.0  \n",
       "212                0.00               0.00                0           0.0  \n",
       "213                0.00               0.00                0           0.0  \n",
       "311                0.00               0.00               10           0.0  \n",
       "403                6.60               0.93              130           0.0  \n",
       "497                2.07               0.00               70           0.0  \n",
       "809                6.33               2.01               90           0.0  \n",
       "899                0.00               0.00                0           0.0  \n",
       "1024               0.00               0.00                0           0.0  \n",
       "1025               1.74               0.00               40           0.0  \n",
       "1128               0.00               0.00                0           0.0  \n",
       "1129               0.00               0.00                0           0.0  \n",
       "1294               4.35               0.00                0           0.0  \n",
       "1414               0.00               0.00                0           0.0  \n",
       "1415               0.00               0.00                0           0.0  \n",
       "1621               0.00               0.00               20           0.0  \n",
       "1622               0.00               0.00                0           0.0  \n",
       "1654               0.00               0.00                0           0.0  \n",
       "1655               0.00               0.00                0           0.0  \n",
       "1656               0.00               0.00                0           0.0  \n",
       "1657               0.00               0.00                0           0.0  \n",
       "1907               1.38               0.60              100           0.0  \n",
       "1908               0.00               0.00              120           0.0  \n",
       "1909               0.00               0.12              150           0.0  \n",
       "1918               0.00               0.00              200           0.0  \n",
       "2019               0.00               0.00                0           0.0  \n",
       "2020               0.00               0.00                0           0.0  \n",
       "2111               0.00               0.03                0           0.0  \n",
       "2112               0.00               0.00                0           0.0  \n",
       "2113               0.00               0.00                0           0.0  \n",
       "2122               0.00               0.00                0           0.0  \n",
       "2215               2.55               0.03                0           0.0  \n",
       "2216               0.00               0.00                0           0.0  \n",
       "2217               0.00               0.00                0           0.0  "
      ]
     },
     "execution_count": 46,
     "metadata": {},
     "output_type": "execute_result"
    }
   ],
   "source": [
    "lst = m_fusion.query(\"churn_date.notnull() & churn_date < month\")[\"total_to_pay\"].index\n",
    "m_fusion.loc[m_fusion.index.isin(lst),\"total_to_pay\"] = 0\n",
    "m_fusion[m_fusion[\"total_to_pay\"]==0]"
   ]
  },
  {
   "cell_type": "markdown",
   "metadata": {},
   "source": [
    "<div class=\"alert alert-block alert-info\">\n",
    "<b>Respuesta del estudiante</b> <a class=\"tocSkip\"></a>\n",
    "Corregido\n",
    "</div>"
   ]
  },
  {
   "cell_type": "markdown",
   "metadata": {},
   "source": [
    "Dentro de este apartado pude notar una irregularidad, veo que existen usuarios, que generaron cargos y se supone que ya no tenían contrato, tomo uno como ejemplo y veo si consumio datos"
   ]
  },
  {
   "cell_type": "code",
   "execution_count": 47,
   "metadata": {},
   "outputs": [
    {
     "data": {
      "text/html": [
       "<div>\n",
       "<style scoped>\n",
       "    .dataframe tbody tr th:only-of-type {\n",
       "        vertical-align: middle;\n",
       "    }\n",
       "\n",
       "    .dataframe tbody tr th {\n",
       "        vertical-align: top;\n",
       "    }\n",
       "\n",
       "    .dataframe thead th {\n",
       "        text-align: right;\n",
       "    }\n",
       "</style>\n",
       "<table border=\"1\" class=\"dataframe\">\n",
       "  <thead>\n",
       "    <tr style=\"text-align: right;\">\n",
       "      <th></th>\n",
       "      <th>user_id</th>\n",
       "      <th>first_name</th>\n",
       "      <th>last_name</th>\n",
       "      <th>age</th>\n",
       "      <th>city</th>\n",
       "      <th>reg_date</th>\n",
       "      <th>plan</th>\n",
       "      <th>churn_date</th>\n",
       "    </tr>\n",
       "  </thead>\n",
       "  <tbody>\n",
       "    <tr>\n",
       "      <th>12</th>\n",
       "      <td>1012</td>\n",
       "      <td>Jonelle</td>\n",
       "      <td>Mcbride</td>\n",
       "      <td>59</td>\n",
       "      <td>Chicago-Naperville-Elgin, IL-IN-WI MSA</td>\n",
       "      <td>2018-06-28</td>\n",
       "      <td>surf</td>\n",
       "      <td>2018-11-16</td>\n",
       "    </tr>\n",
       "  </tbody>\n",
       "</table>\n",
       "</div>"
      ],
      "text/plain": [
       "    user_id first_name last_name  age                                    city  \\\n",
       "12     1012    Jonelle   Mcbride   59  Chicago-Naperville-Elgin, IL-IN-WI MSA   \n",
       "\n",
       "     reg_date  plan churn_date  \n",
       "12 2018-06-28  surf 2018-11-16  "
      ]
     },
     "execution_count": 47,
     "metadata": {},
     "output_type": "execute_result"
    }
   ],
   "source": [
    "m_calls[m_calls[\"user_id\"]==1012].sort_values(by=\"month\")\n",
    "verification_df = m_users[~m_users[\"churn_date\"].isna()]\n",
    "verification_df[verification_df[\"user_id\"]==1012]"
   ]
  },
  {
   "cell_type": "markdown",
   "metadata": {},
   "source": [
    "El usuario 1012 se salio a mediados de noviembre, pero según la base, genero cargos en diciembre. Hay algo mal aquí que no parece provenir de mi código. Por temas del proyecto, continuaré con la información recibida. Procedo a crear un nuevo dataframe con la información relevante para su análisis "
   ]
  },
  {
   "cell_type": "code",
   "execution_count": 48,
   "metadata": {},
   "outputs": [
    {
     "data": {
      "text/html": [
       "<div>\n",
       "<style scoped>\n",
       "    .dataframe tbody tr th:only-of-type {\n",
       "        vertical-align: middle;\n",
       "    }\n",
       "\n",
       "    .dataframe tbody tr th {\n",
       "        vertical-align: top;\n",
       "    }\n",
       "\n",
       "    .dataframe thead th {\n",
       "        text-align: right;\n",
       "    }\n",
       "</style>\n",
       "<table border=\"1\" class=\"dataframe\">\n",
       "  <thead>\n",
       "    <tr style=\"text-align: right;\">\n",
       "      <th></th>\n",
       "      <th>user_id</th>\n",
       "      <th>calls</th>\n",
       "      <th>month</th>\n",
       "      <th>duration</th>\n",
       "      <th>n_messages</th>\n",
       "      <th>megas</th>\n",
       "      <th>plan_name</th>\n",
       "      <th>total_minutes_fee</th>\n",
       "      <th>total_message_fee</th>\n",
       "      <th>total_megas_fee</th>\n",
       "      <th>total_to_pay</th>\n",
       "    </tr>\n",
       "  </thead>\n",
       "  <tbody>\n",
       "    <tr>\n",
       "      <th>0</th>\n",
       "      <td>1000</td>\n",
       "      <td>16</td>\n",
       "      <td>12</td>\n",
       "      <td>124</td>\n",
       "      <td>11</td>\n",
       "      <td>2</td>\n",
       "      <td>ultimate</td>\n",
       "      <td>0.0</td>\n",
       "      <td>0.00</td>\n",
       "      <td>0</td>\n",
       "      <td>70.00</td>\n",
       "    </tr>\n",
       "    <tr>\n",
       "      <th>1</th>\n",
       "      <td>1001</td>\n",
       "      <td>27</td>\n",
       "      <td>8</td>\n",
       "      <td>182</td>\n",
       "      <td>30</td>\n",
       "      <td>7</td>\n",
       "      <td>surf</td>\n",
       "      <td>0.0</td>\n",
       "      <td>0.00</td>\n",
       "      <td>0</td>\n",
       "      <td>20.00</td>\n",
       "    </tr>\n",
       "    <tr>\n",
       "      <th>2</th>\n",
       "      <td>1001</td>\n",
       "      <td>49</td>\n",
       "      <td>9</td>\n",
       "      <td>315</td>\n",
       "      <td>44</td>\n",
       "      <td>14</td>\n",
       "      <td>surf</td>\n",
       "      <td>0.0</td>\n",
       "      <td>0.00</td>\n",
       "      <td>0</td>\n",
       "      <td>20.00</td>\n",
       "    </tr>\n",
       "    <tr>\n",
       "      <th>3</th>\n",
       "      <td>1001</td>\n",
       "      <td>65</td>\n",
       "      <td>10</td>\n",
       "      <td>393</td>\n",
       "      <td>53</td>\n",
       "      <td>22</td>\n",
       "      <td>surf</td>\n",
       "      <td>0.0</td>\n",
       "      <td>0.09</td>\n",
       "      <td>70</td>\n",
       "      <td>90.09</td>\n",
       "    </tr>\n",
       "    <tr>\n",
       "      <th>4</th>\n",
       "      <td>1001</td>\n",
       "      <td>64</td>\n",
       "      <td>11</td>\n",
       "      <td>426</td>\n",
       "      <td>36</td>\n",
       "      <td>19</td>\n",
       "      <td>surf</td>\n",
       "      <td>0.0</td>\n",
       "      <td>0.00</td>\n",
       "      <td>40</td>\n",
       "      <td>60.00</td>\n",
       "    </tr>\n",
       "    <tr>\n",
       "      <th>...</th>\n",
       "      <td>...</td>\n",
       "      <td>...</td>\n",
       "      <td>...</td>\n",
       "      <td>...</td>\n",
       "      <td>...</td>\n",
       "      <td>...</td>\n",
       "      <td>...</td>\n",
       "      <td>...</td>\n",
       "      <td>...</td>\n",
       "      <td>...</td>\n",
       "      <td>...</td>\n",
       "    </tr>\n",
       "    <tr>\n",
       "      <th>2288</th>\n",
       "      <td>1349</td>\n",
       "      <td>0</td>\n",
       "      <td>12</td>\n",
       "      <td>0</td>\n",
       "      <td>61</td>\n",
       "      <td>13</td>\n",
       "      <td>surf</td>\n",
       "      <td>0.0</td>\n",
       "      <td>0.33</td>\n",
       "      <td>0</td>\n",
       "      <td>20.33</td>\n",
       "    </tr>\n",
       "    <tr>\n",
       "      <th>2289</th>\n",
       "      <td>1361</td>\n",
       "      <td>0</td>\n",
       "      <td>5</td>\n",
       "      <td>0</td>\n",
       "      <td>2</td>\n",
       "      <td>2</td>\n",
       "      <td>surf</td>\n",
       "      <td>0.0</td>\n",
       "      <td>0.00</td>\n",
       "      <td>0</td>\n",
       "      <td>20.00</td>\n",
       "    </tr>\n",
       "    <tr>\n",
       "      <th>2290</th>\n",
       "      <td>1482</td>\n",
       "      <td>0</td>\n",
       "      <td>10</td>\n",
       "      <td>0</td>\n",
       "      <td>2</td>\n",
       "      <td>0</td>\n",
       "      <td>ultimate</td>\n",
       "      <td>0.0</td>\n",
       "      <td>0.00</td>\n",
       "      <td>0</td>\n",
       "      <td>70.00</td>\n",
       "    </tr>\n",
       "    <tr>\n",
       "      <th>2291</th>\n",
       "      <td>1108</td>\n",
       "      <td>0</td>\n",
       "      <td>12</td>\n",
       "      <td>0</td>\n",
       "      <td>0</td>\n",
       "      <td>1</td>\n",
       "      <td>ultimate</td>\n",
       "      <td>0.0</td>\n",
       "      <td>0.00</td>\n",
       "      <td>0</td>\n",
       "      <td>70.00</td>\n",
       "    </tr>\n",
       "    <tr>\n",
       "      <th>2292</th>\n",
       "      <td>1311</td>\n",
       "      <td>0</td>\n",
       "      <td>6</td>\n",
       "      <td>0</td>\n",
       "      <td>0</td>\n",
       "      <td>2</td>\n",
       "      <td>ultimate</td>\n",
       "      <td>0.0</td>\n",
       "      <td>0.00</td>\n",
       "      <td>0</td>\n",
       "      <td>70.00</td>\n",
       "    </tr>\n",
       "  </tbody>\n",
       "</table>\n",
       "<p>2293 rows × 11 columns</p>\n",
       "</div>"
      ],
      "text/plain": [
       "      user_id  calls  month  duration  n_messages  megas plan_name  \\\n",
       "0        1000     16     12       124          11      2  ultimate   \n",
       "1        1001     27      8       182          30      7      surf   \n",
       "2        1001     49      9       315          44     14      surf   \n",
       "3        1001     65     10       393          53     22      surf   \n",
       "4        1001     64     11       426          36     19      surf   \n",
       "...       ...    ...    ...       ...         ...    ...       ...   \n",
       "2288     1349      0     12         0          61     13      surf   \n",
       "2289     1361      0      5         0           2      2      surf   \n",
       "2290     1482      0     10         0           2      0  ultimate   \n",
       "2291     1108      0     12         0           0      1  ultimate   \n",
       "2292     1311      0      6         0           0      2  ultimate   \n",
       "\n",
       "      total_minutes_fee  total_message_fee  total_megas_fee  total_to_pay  \n",
       "0                   0.0               0.00                0         70.00  \n",
       "1                   0.0               0.00                0         20.00  \n",
       "2                   0.0               0.00                0         20.00  \n",
       "3                   0.0               0.09               70         90.09  \n",
       "4                   0.0               0.00               40         60.00  \n",
       "...                 ...                ...              ...           ...  \n",
       "2288                0.0               0.33                0         20.33  \n",
       "2289                0.0               0.00                0         20.00  \n",
       "2290                0.0               0.00                0         70.00  \n",
       "2291                0.0               0.00                0         70.00  \n",
       "2292                0.0               0.00                0         70.00  \n",
       "\n",
       "[2293 rows x 11 columns]"
      ]
     },
     "execution_count": 48,
     "metadata": {},
     "output_type": "execute_result"
    }
   ],
   "source": [
    "m_total_charges = m_fusion[['user_id', \"calls\" ,'month','duration', 'n_messages', 'megas',\n",
    "       'plan_name', 'total_minutes_fee', 'total_message_fee',\n",
    "       'total_megas_fee', 'total_to_pay']]\n",
    "m_total_charges\n"
   ]
  },
  {
   "cell_type": "markdown",
   "metadata": {},
   "source": [
    "<div class=\"alert alert-block alert-info\">\n",
    "<b>Respuesta del estudiante</b> <a class=\"tocSkip\"></a>\n",
    "Corregido\n",
    "</div>"
   ]
  },
  {
   "cell_type": "markdown",
   "metadata": {
    "id": "-jtyHzJb0q1I"
   },
   "source": [
    "## Estudia el comportamiento de usuario"
   ]
  },
  {
   "cell_type": "markdown",
   "metadata": {
    "id": "AxU3Y0N70q1J"
   },
   "source": [
    "Ahora procederé a crear graficos que nos permitan entender un poco más el comportamiento de los usuarios para los paquetes Surface y Últimate"
   ]
  },
  {
   "cell_type": "markdown",
   "metadata": {
    "id": "vtW4CJEe0q1J"
   },
   "source": [
    "### Llamadas"
   ]
  },
  {
   "cell_type": "markdown",
   "metadata": {},
   "source": [
    "Compararemos la duración promedio de llamadas por cada plan y por cada mes\n"
   ]
  },
  {
   "cell_type": "code",
   "execution_count": 49,
   "metadata": {},
   "outputs": [
    {
     "data": {
      "image/png": "[encoded data removed]",
      "text/plain": [
       "<Figure size 1080x360 with 1 Axes>"
      ]
     },
     "metadata": {
      "needs_background": "light"
     },
     "output_type": "display_data"
    }
   ],
   "source": [
    "average_calls_pm = m_total_charges.pivot_table(index= \"month\", values=\"duration\", columns=\"plan_name\")\n",
    "average_calls_pm.plot(kind=\"bar\", figsize=[15,5], color=[\"lightblue\",\"#71D037\"], title= \"Duración promedio de llamadas por mes\", xlabel=\"Mes\", ylabel=\"Minutos\")\n",
    "plt.legend([\"Surf\",\"Ultimate\"])\n",
    "plt.show()"
   ]
  },
  {
   "cell_type": "markdown",
   "metadata": {},
   "source": [
    "En esta grafica podemos observar un incremento en la duración promedio de las llamadas de los usuarios para ambos planes, teniendo un comportamiento similar en consumo. El promedio mensual de consumo de minutos rebasa los 400 minutos sin llegar a los 500 minutos (limite de consumo para el paquete Surf)."
   ]
  },
  {
   "cell_type": "code",
   "execution_count": 50,
   "metadata": {
    "id": "QoLqW1S_0q1J"
   },
   "outputs": [
    {
     "data": {
      "image/png": "[encoded data removed]",
      "text/plain": [
       "<Figure size 437.75x360 with 1 Axes>"
      ]
     },
     "metadata": {
      "needs_background": "light"
     },
     "output_type": "display_data"
    },
    {
     "data": {
      "text/html": [
       "<div>\n",
       "<style scoped>\n",
       "    .dataframe tbody tr th:only-of-type {\n",
       "        vertical-align: middle;\n",
       "    }\n",
       "\n",
       "    .dataframe tbody tr th {\n",
       "        vertical-align: top;\n",
       "    }\n",
       "\n",
       "    .dataframe thead th {\n",
       "        text-align: right;\n",
       "    }\n",
       "</style>\n",
       "<table border=\"1\" class=\"dataframe\">\n",
       "  <thead>\n",
       "    <tr style=\"text-align: right;\">\n",
       "      <th></th>\n",
       "      <th>plan_name</th>\n",
       "      <th>user_id</th>\n",
       "    </tr>\n",
       "  </thead>\n",
       "  <tbody>\n",
       "    <tr>\n",
       "      <th>0</th>\n",
       "      <td>surf</td>\n",
       "      <td>1573</td>\n",
       "    </tr>\n",
       "    <tr>\n",
       "      <th>1</th>\n",
       "      <td>ultimate</td>\n",
       "      <td>720</td>\n",
       "    </tr>\n",
       "  </tbody>\n",
       "</table>\n",
       "</div>"
      ],
      "text/plain": [
       "  plan_name  user_id\n",
       "0      surf     1573\n",
       "1  ultimate      720"
      ]
     },
     "execution_count": 50,
     "metadata": {},
     "output_type": "execute_result"
    }
   ],
   "source": [
    "# m_total_charges.hist(column=\"duration\", by=\"plan_name\", sharey=True, sharex=True)\n",
    "sns.displot(data=m_total_charges, x=\"duration\", hue=\"plan_name\" , palette={\"surf\": \"lightblue\", \"ultimate\": \"#71D037\"})\n",
    "plt.title(\"Distribución de duración de llamada\")\n",
    "plt.xlabel(\"Minutos\")\n",
    "plt.ylabel(\"Conteo\")\n",
    "plt.show()\n",
    "m_total_charges.groupby(\"plan_name\",observed=False)[\"user_id\"].count().reset_index()"
   ]
  },
  {
   "cell_type": "markdown",
   "metadata": {},
   "source": [
    "En cuanto a la distribución podemos ver una similitud entre los planes, sin embargo, es notorio que el consumo del plan surf es mucho mayor, esto se debe los usuarios que contrataron este plan superan el número de usuarios únicos del plan últimate (en un 54.22%)\n",
    "\n",
    "Es importante mencionar que dentro de los consumos mensuales podemos ver dos picos muy significantes, uno en los primeros 20 minutos de consumo y otro dentro del rango de 400 a 420 minutos de consumo\n",
    "\n",
    "Mientras que podemos ver que una parte de usuarios del plan **Surf** rebasa el límite que cubre su tarifa (500 minutos) , los usuarios del plan **Ultimate** quedan muy por debajo de los 3,000 minutos al mes que pueden consumir."
   ]
  },
  {
   "cell_type": "code",
   "execution_count": 51,
   "metadata": {
    "id": "oSndbAnt0q1K"
   },
   "outputs": [
    {
     "name": "stdout",
     "output_type": "stream",
     "text": [
      "promedio=428.7495232040687 , varianza= 54968.27946065038  , variacion_std= 234.4531498202794, max= 1510, min= 0\n",
      "promedio=430.45 , varianza= 57844.46481223922  , variacion_std= 240.50876244378128, max= 1369, min= 0\n"
     ]
    }
   ],
   "source": [
    "#bases de cada plan\n",
    "surf_user_per_month = m_total_charges[m_total_charges[\"plan_name\"]==\"surf\"]\n",
    "ultimate_user_per_month = m_total_charges[m_total_charges[\"plan_name\"]==\"ultimate\"]\n",
    "\n",
    "# Calcula la media y la varianza de la duración mensual de llamadas.\n",
    "def estadisticos (df, column_name):\n",
    "    mean = np.mean(df[column_name])\n",
    "    var = np.var(df[column_name],ddof=1)\n",
    "    std= np.std(df[column_name],ddof=1)\n",
    "    max= df[column_name].max()\n",
    "    min= df[column_name].min()\n",
    "\n",
    "    print(f\"promedio={mean} , varianza= {var}  , variacion_std= {std}, max= {max}, min= {min}\", end=\"\\n\")\n",
    "\n",
    "estadisticos(surf_user_per_month, \"duration\")\n",
    "estadisticos(ultimate_user_per_month,\"duration\")\n"
   ]
  },
  {
   "cell_type": "markdown",
   "metadata": {},
   "source": [
    "Tenemos los siguientes datos:\n",
    "\n",
    "- El promedio de duracíon de llamadas por mes para el plan de surf fue de 428.8 minutos, mientras que para el plan últimate fue de 430.45\n",
    "- La varianza del plan surf fue de 54,968, frente a los 57,844 del plan últimate\n",
    "- La variacion standard del plan surf fue de 234.3 frente a los 240.5 del plan últimate"
   ]
  },
  {
   "cell_type": "code",
   "execution_count": 52,
   "metadata": {
    "id": "nZzoRUKc0q1K"
   },
   "outputs": [
    {
     "data": {
      "image/png": "[encoded data removed]",
      "text/plain": [
       "<Figure size 432x288 with 1 Axes>"
      ]
     },
     "metadata": {
      "needs_background": "light"
     },
     "output_type": "display_data"
    }
   ],
   "source": [
    "# Boxplot por plan por mes\n",
    "# box_df= m_total_charges.pivot_table(index=\"month\",values=\"duration\",columns=\"plan_name\", aggfunc=\"mean\")\n",
    "# sns.boxplot(box_df, legend=[\"surf\",\"ultimate\"] )\n",
    "\n",
    "# # Boxplot por plan\n",
    "sns.boxplot(data=m_total_charges, y=\"duration\", x=\"plan_name\", palette={\"surf\": \"lightblue\", \"ultimate\": \"#71D037\"})\n",
    "plt.title(\"Comparación de distribuciones de llamadas\")\n",
    "plt.show()\n"
   ]
  },
  {
   "cell_type": "markdown",
   "metadata": {
    "id": "r627zBO50q1K"
   },
   "source": [
    "Tal como lo habiamos observado, en el histograma, existen valores atípicos para ambos gráficos, a su vez podemos observar que su media y sus quartiles son muy similares entre ambos paquetes.\n",
    "\n",
    "En conclusion parece que los comportamientos son muy similares y presentan una difrencia poco significativa. Sin embargo el plan Surf podría no estar satisfaciendo las necesidades de la mayoría de los usuarios."
   ]
  },
  {
   "cell_type": "markdown",
   "metadata": {
    "id": "8idKy8Wh0q1L"
   },
   "source": [
    "### Mensajes"
   ]
  },
  {
   "cell_type": "markdown",
   "metadata": {},
   "source": [
    "Ahora compararemos el número de mensajes que tienden a enviar cada mes los usuarios de cada plan."
   ]
  },
  {
   "cell_type": "code",
   "execution_count": 53,
   "metadata": {
    "id": "NXLxiTit0q1L"
   },
   "outputs": [
    {
     "data": {
      "image/png": "[encoded data removed]",
      "text/plain": [
       "<Figure size 1080x360 with 1 Axes>"
      ]
     },
     "metadata": {
      "needs_background": "light"
     },
     "output_type": "display_data"
    }
   ],
   "source": [
    "average_message_pm = m_total_charges.pivot_table(index=\"month\",values=\"n_messages\",columns=\"plan_name\")\n",
    "average_message_pm.plot(kind=\"bar\", figsize=[15,5], color=[\"lightblue\",\"#71D037\"], title= \"Mensajes promedio por mes\", xlabel=\"Mes\", ylabel=\"Mensajes\")\n",
    "plt.show()"
   ]
  },
  {
   "cell_type": "markdown",
   "metadata": {},
   "source": [
    "En el siguiente gráfico podemos ver un incremento en el número de mensajes enviados mes con mes para cada plan, sin embargo ningúno de los dos grupos sobrepasa los 50 sms(límite para el plan Surf). Podemos ver una tendencia que muestra que los usuarios últimate tienen a enviar mas mensajes en promedio que los usuarios dueños del plan surf."
   ]
  },
  {
   "cell_type": "code",
   "execution_count": 54,
   "metadata": {},
   "outputs": [
    {
     "data": {
      "image/png": "[encoded data removed]",
      "text/plain": [
       "<Figure size 437.75x360 with 1 Axes>"
      ]
     },
     "metadata": {
      "needs_background": "light"
     },
     "output_type": "display_data"
    }
   ],
   "source": [
    "sns.displot(data=m_total_charges, x=\"n_messages\", hue=\"plan_name\" , palette={\"surf\": \"lightblue\", \"ultimate\": \"#71D037\"})\n",
    "plt.title(\"Distribución de mensajes\")\n",
    "plt.xlabel(\"Numero de mensajes\")\n",
    "plt.ylabel(\"Conteo\")\n",
    "plt.show()\n",
    "\n",
    "\n",
    "# m_total_charges.hist(column=\"n_messages\" ,by=\"plan_name\", bins=10)\n",
    "# plt.xticks([0,50,100,150])\n",
    "# plt.show()"
   ]
  },
  {
   "cell_type": "markdown",
   "metadata": {},
   "source": [
    "De la misma manera que el hisograma anterior, las distribuciones son similares entre los planes. Aquí podemos observar una distribución asimétrica positiva, en el que el rango de 0 a 50 concentra la mayoría de los resultados.\n",
    "\n",
    "También podemos ver un comoportamiento similar a las llamadas, un porcentaje representativo de los usuarios del plan surf tienen a enviar más mensajes que los establecidos en su tarifa inicial (50 sms)"
   ]
  },
  {
   "cell_type": "code",
   "execution_count": 55,
   "metadata": {},
   "outputs": [
    {
     "name": "stdout",
     "output_type": "stream",
     "text": [
      "promedio=31.15956770502225 , varianza= 1126.7245219504066  , variacion_std= 33.566717473569064, max= 266, min= 0\n",
      "promedio=37.55138888888889 , varianza= 1208.756743548138  , variacion_std= 34.76717911404574, max= 166, min= 0\n"
     ]
    }
   ],
   "source": [
    "#Calculando Varianza, Mediana y Desviación Estandard\n",
    "estadisticos(surf_user_per_month, \"n_messages\")\n",
    "estadisticos(ultimate_user_per_month,\"n_messages\")"
   ]
  },
  {
   "cell_type": "markdown",
   "metadata": {},
   "source": [
    "Podemos notar una diferencia poco significativa para los valores promedio, varianza y variación std en los datos"
   ]
  },
  {
   "cell_type": "code",
   "execution_count": 56,
   "metadata": {},
   "outputs": [
    {
     "data": {
      "image/png": "[encoded data removed]",
      "text/plain": [
       "<Figure size 432x288 with 1 Axes>"
      ]
     },
     "metadata": {
      "needs_background": "light"
     },
     "output_type": "display_data"
    }
   ],
   "source": [
    "# Boxplot por plan por mes\n",
    "# sns.boxplot(average_message_pm, legend=[\"surf\",\"ultimate\"] )\n",
    "\n",
    "# Boxplot por plan\n",
    "sns.boxplot(data= m_total_charges, y=\"n_messages\", x=\"plan_name\"  ,palette={\"surf\": \"lightblue\", \"ultimate\": \"#71D037\"})\n",
    "plt.title(\"Comparación de distribuciones de mensajes\")\n",
    "plt.show()"
   ]
  },
  {
   "cell_type": "markdown",
   "metadata": {},
   "source": [
    "El siguiente boxplot nos muestra que a pesar de la similitud de los planes, el paquete surf presenta una gran cantidad de valores atípicos que superan los 100 mensajes, mientras que para el paquete últimate los valores se encuentran por encima de los 120 mensajes\n",
    "\n",
    "Esta gráfica refuerza el histograma anterior, una parte representativa de usuarios del plan surf, tiende a enviar más de 50 mensajes, lo cúal causará un aumento en su tarifa inicial"
   ]
  },
  {
   "cell_type": "markdown",
   "metadata": {},
   "source": [
    "### Internet"
   ]
  },
  {
   "cell_type": "code",
   "execution_count": 57,
   "metadata": {
    "id": "GRI_R7xF0q1L"
   },
   "outputs": [
    {
     "data": {
      "image/png": "[encoded data removed]",
      "text/plain": [
       "<Figure size 1080x360 with 1 Axes>"
      ]
     },
     "metadata": {
      "needs_background": "light"
     },
     "output_type": "display_data"
    }
   ],
   "source": [
    "# Compara la cantidad de tráfico de Internet consumido por usuarios por plan\n",
    "average_megas_pm =  m_total_charges.pivot_table(index=\"month\",columns=\"plan_name\",values=\"megas\")\n",
    "average_megas_pm.plot(kind=\"bar\", figsize=[15,5], color=[\"lightblue\",\"#71D037\"], title= \"Internet consumido por mes\", xlabel=\"Mes\", ylabel=\"Megas\")\n",
    "plt.legend([\"Surf\", \"Ultimate\"])\n",
    "plt.show()"
   ]
  },
  {
   "cell_type": "markdown",
   "metadata": {},
   "source": [
    "El consumo de internet de los usuarios para ambos planes es muy parecido, sin embargo, a partir del segundo semestre los usuarios del plan Surf empiezan a reflejar un consumo promedio mayor al que contrataron (15 Megas). "
   ]
  },
  {
   "cell_type": "code",
   "execution_count": 58,
   "metadata": {},
   "outputs": [
    {
     "data": {
      "image/png": "[encoded data removed]",
      "text/plain": [
       "<Figure size 437.75x360 with 1 Axes>"
      ]
     },
     "metadata": {
      "needs_background": "light"
     },
     "output_type": "display_data"
    }
   ],
   "source": [
    "sns.displot(data=m_total_charges, x=\"megas\", hue=\"plan_name\", palette={\"surf\": \"lightblue\", \"ultimate\": \"#71D037\"})\n",
    "plt.title(\"Comparación de distribuciones de Internet\")\n",
    "plt.xlabel(\"Gigas\")\n",
    "plt.ylabel(\"Conteo\")\n",
    "plt.show()"
   ]
  },
  {
   "cell_type": "markdown",
   "metadata": {},
   "source": [
    "La distribución resulta muy similar en ambos casos, podemos observar valores atipicos para ambos planes.\n",
    "\n",
    "Para el plan de surf nos encontramos con un límite de 15gb de datos los cuales se superan facilmente en es histograma. Para el caso de el Plan Últimate, al presentar un plan de 30gb de datos, son pocos los usuarios que podemos ver superando este límite."
   ]
  },
  {
   "cell_type": "code",
   "execution_count": 59,
   "metadata": {},
   "outputs": [
    {
     "name": "stdout",
     "output_type": "stream",
     "text": [
      "promedio=16.670692943420217 , varianza= 61.58359983759012  , variacion_std= 7.847521891501171, max= 70, min= 0\n",
      "promedio=17.306944444444444 , varianza= 58.830549760469786  , variacion_std= 7.670107545560869, max= 46, min= 0\n"
     ]
    }
   ],
   "source": [
    "#Calculando Varianza, Mediana y Desviación Estandard\n",
    "estadisticos(surf_user_per_month, \"megas\")\n",
    "estadisticos(ultimate_user_per_month,\"megas\")"
   ]
  },
  {
   "cell_type": "code",
   "execution_count": 60,
   "metadata": {},
   "outputs": [
    {
     "data": {
      "image/png": "[encoded data removed]",
      "text/plain": [
       "<Figure size 432x288 with 1 Axes>"
      ]
     },
     "metadata": {
      "needs_background": "light"
     },
     "output_type": "display_data"
    }
   ],
   "source": [
    "sns.boxplot(data=m_total_charges, y=\"megas\",x=\"plan_name\", palette={\"surf\": \"lightblue\", \"ultimate\": \"#71D037\"})\n",
    "plt.title(\"Comparación de distribuciones de Internet\")\n",
    "plt.show()"
   ]
  },
  {
   "cell_type": "markdown",
   "metadata": {},
   "source": [
    "Para motivos de un mejor detalle detallare cada plan por separado:\n",
    "\n",
    "- Para el plan Surf: Podemos observar un gran número de valores muy atípicos para este paquete, excediendo los 15 megas y llegando incluso a los 70 para algunos casos. \n",
    "\n",
    "- Para el plan Últimate: Podemos observar valores atípicos que llegan hasta los 46 megas.\n",
    "\n",
    "Es importante revaluar si el plan adquirido cumple con sus necesidades, de lo contrario se podría iniciar un porcentaje de abandono. Analizar a la competencia y los paquetes que ofrecen al mercado nos ayudará a establecer los límites correctos del plan."
   ]
  },
  {
   "cell_type": "markdown",
   "metadata": {
    "id": "tCijq3260q1N"
   },
   "source": [
    "## Ingreso"
   ]
  },
  {
   "cell_type": "code",
   "execution_count": 61,
   "metadata": {
    "id": "tz-dq_V00q1O"
   },
   "outputs": [
    {
     "data": {
      "image/png": "[encoded data removed]",
      "text/plain": [
       "<Figure size 720x360 with 1 Axes>"
      ]
     },
     "metadata": {
      "needs_background": "light"
     },
     "output_type": "display_data"
    }
   ],
   "source": [
    "income_per_user_pm= m_total_charges.pivot_table(values=\"total_to_pay\", columns=\"plan_name\", index=\"month\")\n",
    "\n",
    "income_per_user_pm.plot(kind=\"bar\", figsize=[10,5], color=[\"lightblue\",\"#71D037\"], title= \"Ingreso por mes\", xlabel=\"Mes\", ylabel=\"Ingreso\" )\n",
    "plt.yticks(range(0, int(income_per_user_pm[\"ultimate\"].max()) + 1, 20))  # Reemplaza max_y_value con el valor máximo de tu eje y\n",
    "plt.show()\n"
   ]
  },
  {
   "cell_type": "markdown",
   "metadata": {},
   "source": [
    "A pesar de tener la mitad de usuarios que el plan Surf, el plan últimate generó una mayor derrama economica para la companía. Se puede observar una tendencia continua desde el primer mes hasta el último del periodo 2018. \n",
    "\n",
    "Por otra parte, se observa un incremento constante en los ingresos del plan surf, llegando así, a tener una diferencia poco significativa en ingresos para el periodo de diciembre\n"
   ]
  },
  {
   "cell_type": "code",
   "execution_count": 62,
   "metadata": {
    "id": "0Y1v8ZUz0q1P"
   },
   "outputs": [
    {
     "data": {
      "image/png": "[encoded data removed]",
      "text/plain": [
       "<Figure size 437.75x360 with 1 Axes>"
      ]
     },
     "metadata": {
      "needs_background": "light"
     },
     "output_type": "display_data"
    }
   ],
   "source": [
    "sns.displot(data=m_total_charges, hue=\"plan_name\" , x=\"total_to_pay\", palette={\"surf\": \"lightblue\", \"ultimate\": \"#71D037\"})\n",
    "plt.title(\"Comparación de distribuciones de Ingresos\")\n",
    "plt.xlabel(\"Ingresos\")\n",
    "plt.ylabel(\"Conteo\")\n",
    "plt.show()"
   ]
  },
  {
   "cell_type": "markdown",
   "metadata": {},
   "source": [
    "El grafico mostrado anteriormente nos muestra que los valores para el plan últimate se encuentran concentrados en su mayoría en el valor $70 (valor del pago mensual de datos). Se pueden observar pocos valores atipicos para ese plan, los cúales consumen un poco más de la tarifa (pagando una comisión mayor).\n",
    "\n",
    "Para el plan Surf, podemos observar una distribución un poco diferente, si bien la mayoría de sus datos se encuentran en el pago mensual de $20 (valor del plan), es notorio que otra parte de ellos no logran satisfacer su consumo por lo cúal adquieren más datos y terminan recibiendo una tarifa mayor."
   ]
  },
  {
   "cell_type": "code",
   "execution_count": 63,
   "metadata": {
    "id": "bYmwxyVh0q1P"
   },
   "outputs": [
    {
     "name": "stdout",
     "output_type": "stream",
     "text": [
      "promedio=59.68701207883026 , varianza= 3072.78842121932  , variacion_std= 55.43273781096618, max= 590.37, min= 0.0\n",
      "promedio=71.14722222222223 , varianza= 215.6723149435945  , variacion_std= 14.685786153406786, max= 182.0, min= 0.0\n"
     ]
    }
   ],
   "source": [
    "#Calculando Varianza, Mediana y Desviación Estandard\n",
    "estadisticos(surf_user_per_month, \"total_to_pay\")\n",
    "estadisticos(ultimate_user_per_month,\"total_to_pay\")"
   ]
  },
  {
   "cell_type": "code",
   "execution_count": 64,
   "metadata": {},
   "outputs": [
    {
     "data": {
      "image/png": "[encoded data removed]",
      "text/plain": [
       "<Figure size 432x288 with 1 Axes>"
      ]
     },
     "metadata": {
      "needs_background": "light"
     },
     "output_type": "display_data"
    }
   ],
   "source": [
    "sns.boxplot(data=m_total_charges, x=\"plan_name\" , y=\"total_to_pay\", palette={\"surf\": \"lightblue\", \"ultimate\": \"#71D037\"} )\n",
    "plt.title(\"Comparación de distribuciones de Internet\")\n",
    "plt.show()"
   ]
  },
  {
   "cell_type": "markdown",
   "metadata": {
    "id": "KAFidcXZ0q1P"
   },
   "source": [
    "Tal como lo muestra el histograma, la concentracion de valores para el plan últimate se concentra en el valor 70, así como el valor 20 para el plan surf, sin embargo los valores atípicos para el valor surf son demasiados, debe analizarse detalladamente si la cobertura de este plan es funcional para los usuarios."
   ]
  },
  {
   "cell_type": "markdown",
   "metadata": {},
   "source": [
    "<div class=\"alert alert-block alert-info\">\n",
    "<b>Respuesta del estudiante</b> <a class=\"tocSkip\"></a>\n",
    "Corregido\n",
    "</div>"
   ]
  },
  {
   "cell_type": "markdown",
   "metadata": {},
   "source": [
    "<div class=\"alert alert-block alert-success\">\n",
    "<b>Comentario del revisor</b> <a class=\"tocSkip\"></a>\n",
    "    \n",
    "Muy buen trabajo hasta este punto.\n",
    "</div>"
   ]
  },
  {
   "cell_type": "markdown",
   "metadata": {
    "id": "ajJ7VKeI0q1Q"
   },
   "source": [
    "## Prueba las hipótesis estadísticas"
   ]
  },
  {
   "cell_type": "markdown",
   "metadata": {},
   "source": [
    "Primera Hipotesis\n",
    "\n",
    "- Hipotesis Nula: Los ingresos procedentes de los usuarios son iguales para los planes Ultimate y Surf\n",
    "- Hipotesis Alernativa : Los ingresos procedentes de los usuarios son diferentes para los planes Ultimate y Surf"
   ]
  },
  {
   "cell_type": "code",
   "execution_count": 65,
   "metadata": {
    "id": "nFoPNlPq0q1R"
   },
   "outputs": [],
   "source": [
    "# - Hipotesis Nula: Los ingresos procedentes de los usuarios son iguales para los planes Ultimate y Surf\n",
    "# - Hipotesis Alernativa : Los ingresos procedentes de los usuarios son diferentes para los planes Ultimate y Surf\n",
    "\n",
    "alpha= 0.05\n",
    "\n",
    "# income_per_month_sum = m_total_charges.pivot_table(index=\"month\", values=\"total_to_pay\", columns=\"plan_name\", aggfunc=\"sum\")\n",
    "# a= income_per_month_sum[\"surf\"]\n",
    "# b= income_per_month_sum[\"ultimate\"]\n",
    "\n",
    "a= m_total_charges[m_total_charges[\"plan_name\"]==\"surf\"][\"total_to_pay\"]\n",
    "b= m_total_charges[m_total_charges[\"plan_name\"]==\"ultimate\"][\"total_to_pay\"]\n",
    "\n",
    "results = st.ttest_ind(a,b, equal_var=False)"
   ]
  },
  {
   "cell_type": "code",
   "execution_count": 66,
   "metadata": {},
   "outputs": [],
   "source": [
    "def final_result(pvalue, alpha):\n",
    "    if pvalue < alpha:\n",
    "        print(\"Se rechaza la hipotesis\")\n",
    "    else: \n",
    "        print(\"No se puede rechazar la teoría\")"
   ]
  },
  {
   "cell_type": "code",
   "execution_count": 67,
   "metadata": {},
   "outputs": [
    {
     "name": "stdout",
     "output_type": "stream",
     "text": [
      "Se rechaza la hipotesis\n",
      "valor p : Ttest_indResult(statistic=-7.635047964509144, pvalue=3.481713312440982e-14)\n"
     ]
    }
   ],
   "source": [
    "final_result(results.pvalue, alpha)\n",
    "print(\"valor p :\", results)"
   ]
  },
  {
   "cell_type": "markdown",
   "metadata": {},
   "source": [
    "<div class=\"alert alert-block alert-info\">\n",
    "<b>Respuesta del estudiante</b> <a class=\"tocSkip\"></a>\n",
    "Corregido\n",
    "</div>"
   ]
  },
  {
   "cell_type": "markdown",
   "metadata": {},
   "source": [
    "<div class=\"alert alert-block alert-info\">\n",
    "<b>Respuesta del estudiante</b> <a class=\"tocSkip\"></a>\n",
    "Entendido, ahora que he hecho 3 veces este ejercicio entiendo la importancia de usar todos los datos completos, al utilizar mi hipotesis por mes (por promedio, por suma y luego individual), el resultado era totalmente diferente\n",
    "</div>"
   ]
  },
  {
   "cell_type": "markdown",
   "metadata": {},
   "source": [
    "Como podemos observar en el codigo del bloque anterior,Se rechaza la hipótesis ya que el p-value se encuentra por debajo de nuestro umbral de aceptación, por lo que **Los ingresos promedio procedentes de los usuarios son diferentes para los planes Ultimate y Surf**"
   ]
  },
  {
   "cell_type": "markdown",
   "metadata": {
    "id": "tCcAruM60q1R"
   },
   "source": [
    "Segunda Hipotesis\n",
    "\n",
    "- Hipotesis Nula: El ingreso de los usuarios del área NY-NJ es igual al de los usuarios de otras regiones\n",
    "- Hipotesis Alernativa : El ingreso de los usuarios del área NY-NJ es diferente al de los usuarios de otras regiones"
   ]
  },
  {
   "cell_type": "markdown",
   "metadata": {},
   "source": [
    "Creamos una base incluyendo las ciudades\n"
   ]
  },
  {
   "cell_type": "code",
   "execution_count": 68,
   "metadata": {},
   "outputs": [
    {
     "data": {
      "text/html": [
       "<div>\n",
       "<style scoped>\n",
       "    .dataframe tbody tr th:only-of-type {\n",
       "        vertical-align: middle;\n",
       "    }\n",
       "\n",
       "    .dataframe tbody tr th {\n",
       "        vertical-align: top;\n",
       "    }\n",
       "\n",
       "    .dataframe thead th {\n",
       "        text-align: right;\n",
       "    }\n",
       "</style>\n",
       "<table border=\"1\" class=\"dataframe\">\n",
       "  <thead>\n",
       "    <tr style=\"text-align: right;\">\n",
       "      <th></th>\n",
       "      <th>user_id</th>\n",
       "      <th>city</th>\n",
       "      <th>calls</th>\n",
       "      <th>month</th>\n",
       "      <th>duration</th>\n",
       "      <th>n_messages</th>\n",
       "      <th>megas</th>\n",
       "      <th>plan_name</th>\n",
       "      <th>total_minutes_fee</th>\n",
       "      <th>total_message_fee</th>\n",
       "      <th>total_megas_fee</th>\n",
       "      <th>total_to_pay</th>\n",
       "    </tr>\n",
       "  </thead>\n",
       "  <tbody>\n",
       "    <tr>\n",
       "      <th>1275</th>\n",
       "      <td>1277</td>\n",
       "      <td>New York-Newark-Jersey City, NY-NJ-PA MSA</td>\n",
       "      <td>93</td>\n",
       "      <td>11</td>\n",
       "      <td>740</td>\n",
       "      <td>0</td>\n",
       "      <td>25</td>\n",
       "      <td>surf</td>\n",
       "      <td>7.20</td>\n",
       "      <td>0.00</td>\n",
       "      <td>100</td>\n",
       "      <td>127.20</td>\n",
       "    </tr>\n",
       "    <tr>\n",
       "      <th>1511</th>\n",
       "      <td>1334</td>\n",
       "      <td>Seattle-Tacoma-Bellevue, WA MSA</td>\n",
       "      <td>141</td>\n",
       "      <td>12</td>\n",
       "      <td>1066</td>\n",
       "      <td>17</td>\n",
       "      <td>15</td>\n",
       "      <td>surf</td>\n",
       "      <td>16.98</td>\n",
       "      <td>0.00</td>\n",
       "      <td>0</td>\n",
       "      <td>36.98</td>\n",
       "    </tr>\n",
       "    <tr>\n",
       "      <th>2164</th>\n",
       "      <td>1477</td>\n",
       "      <td>Riverside-San Bernardino-Ontario, CA MSA</td>\n",
       "      <td>13</td>\n",
       "      <td>10</td>\n",
       "      <td>49</td>\n",
       "      <td>0</td>\n",
       "      <td>9</td>\n",
       "      <td>ultimate</td>\n",
       "      <td>0.00</td>\n",
       "      <td>0.00</td>\n",
       "      <td>0</td>\n",
       "      <td>70.00</td>\n",
       "    </tr>\n",
       "    <tr>\n",
       "      <th>578</th>\n",
       "      <td>1124</td>\n",
       "      <td>New Haven-Milford, CT MSA</td>\n",
       "      <td>63</td>\n",
       "      <td>12</td>\n",
       "      <td>447</td>\n",
       "      <td>93</td>\n",
       "      <td>7</td>\n",
       "      <td>ultimate</td>\n",
       "      <td>0.00</td>\n",
       "      <td>0.00</td>\n",
       "      <td>0</td>\n",
       "      <td>70.00</td>\n",
       "    </tr>\n",
       "    <tr>\n",
       "      <th>1432</th>\n",
       "      <td>1320</td>\n",
       "      <td>Los Angeles-Long Beach-Anaheim, CA MSA</td>\n",
       "      <td>132</td>\n",
       "      <td>6</td>\n",
       "      <td>868</td>\n",
       "      <td>52</td>\n",
       "      <td>14</td>\n",
       "      <td>surf</td>\n",
       "      <td>11.04</td>\n",
       "      <td>0.06</td>\n",
       "      <td>0</td>\n",
       "      <td>31.10</td>\n",
       "    </tr>\n",
       "    <tr>\n",
       "      <th>1331</th>\n",
       "      <td>1292</td>\n",
       "      <td>Dallas-Fort Worth-Arlington, TX MSA</td>\n",
       "      <td>42</td>\n",
       "      <td>11</td>\n",
       "      <td>273</td>\n",
       "      <td>0</td>\n",
       "      <td>34</td>\n",
       "      <td>surf</td>\n",
       "      <td>0.00</td>\n",
       "      <td>0.00</td>\n",
       "      <td>190</td>\n",
       "      <td>210.00</td>\n",
       "    </tr>\n",
       "    <tr>\n",
       "      <th>1314</th>\n",
       "      <td>1289</td>\n",
       "      <td>Detroit-Warren-Dearborn, MI MSA</td>\n",
       "      <td>66</td>\n",
       "      <td>11</td>\n",
       "      <td>439</td>\n",
       "      <td>29</td>\n",
       "      <td>13</td>\n",
       "      <td>ultimate</td>\n",
       "      <td>0.00</td>\n",
       "      <td>0.00</td>\n",
       "      <td>0</td>\n",
       "      <td>70.00</td>\n",
       "    </tr>\n",
       "    <tr>\n",
       "      <th>78</th>\n",
       "      <td>1022</td>\n",
       "      <td>New York-Newark-Jersey City, NY-NJ-PA MSA</td>\n",
       "      <td>80</td>\n",
       "      <td>8</td>\n",
       "      <td>631</td>\n",
       "      <td>0</td>\n",
       "      <td>21</td>\n",
       "      <td>surf</td>\n",
       "      <td>3.93</td>\n",
       "      <td>0.00</td>\n",
       "      <td>60</td>\n",
       "      <td>83.93</td>\n",
       "    </tr>\n",
       "    <tr>\n",
       "      <th>944</th>\n",
       "      <td>1201</td>\n",
       "      <td>Bridgeport-Stamford-Norwalk, CT MSA</td>\n",
       "      <td>60</td>\n",
       "      <td>12</td>\n",
       "      <td>374</td>\n",
       "      <td>10</td>\n",
       "      <td>27</td>\n",
       "      <td>surf</td>\n",
       "      <td>0.00</td>\n",
       "      <td>0.00</td>\n",
       "      <td>120</td>\n",
       "      <td>140.00</td>\n",
       "    </tr>\n",
       "    <tr>\n",
       "      <th>2226</th>\n",
       "      <td>1493</td>\n",
       "      <td>Boston-Cambridge-Newton, MA-NH MSA</td>\n",
       "      <td>65</td>\n",
       "      <td>12</td>\n",
       "      <td>473</td>\n",
       "      <td>0</td>\n",
       "      <td>15</td>\n",
       "      <td>ultimate</td>\n",
       "      <td>0.00</td>\n",
       "      <td>0.00</td>\n",
       "      <td>0</td>\n",
       "      <td>70.00</td>\n",
       "    </tr>\n",
       "  </tbody>\n",
       "</table>\n",
       "</div>"
      ],
      "text/plain": [
       "      user_id                                       city  calls  month  \\\n",
       "1275     1277  New York-Newark-Jersey City, NY-NJ-PA MSA     93     11   \n",
       "1511     1334            Seattle-Tacoma-Bellevue, WA MSA    141     12   \n",
       "2164     1477   Riverside-San Bernardino-Ontario, CA MSA     13     10   \n",
       "578      1124                  New Haven-Milford, CT MSA     63     12   \n",
       "1432     1320     Los Angeles-Long Beach-Anaheim, CA MSA    132      6   \n",
       "1331     1292        Dallas-Fort Worth-Arlington, TX MSA     42     11   \n",
       "1314     1289            Detroit-Warren-Dearborn, MI MSA     66     11   \n",
       "78       1022  New York-Newark-Jersey City, NY-NJ-PA MSA     80      8   \n",
       "944      1201        Bridgeport-Stamford-Norwalk, CT MSA     60     12   \n",
       "2226     1493         Boston-Cambridge-Newton, MA-NH MSA     65     12   \n",
       "\n",
       "      duration  n_messages  megas plan_name  total_minutes_fee  \\\n",
       "1275       740           0     25      surf               7.20   \n",
       "1511      1066          17     15      surf              16.98   \n",
       "2164        49           0      9  ultimate               0.00   \n",
       "578        447          93      7  ultimate               0.00   \n",
       "1432       868          52     14      surf              11.04   \n",
       "1331       273           0     34      surf               0.00   \n",
       "1314       439          29     13  ultimate               0.00   \n",
       "78         631           0     21      surf               3.93   \n",
       "944        374          10     27      surf               0.00   \n",
       "2226       473           0     15  ultimate               0.00   \n",
       "\n",
       "      total_message_fee  total_megas_fee  total_to_pay  \n",
       "1275               0.00              100        127.20  \n",
       "1511               0.00                0         36.98  \n",
       "2164               0.00                0         70.00  \n",
       "578                0.00                0         70.00  \n",
       "1432               0.06                0         31.10  \n",
       "1331               0.00              190        210.00  \n",
       "1314               0.00                0         70.00  \n",
       "78                 0.00               60         83.93  \n",
       "944                0.00              120        140.00  \n",
       "2226               0.00                0         70.00  "
      ]
     },
     "execution_count": 68,
     "metadata": {},
     "output_type": "execute_result"
    }
   ],
   "source": [
    "city_users_df = m_users[[\"user_id\",\"city\"]].merge(m_total_charges,how=\"right\", on=\"user_id\")\n",
    "city_users_df.sample(10)"
   ]
  },
  {
   "cell_type": "markdown",
   "metadata": {},
   "source": [
    "Asignamos una conjunto para la ciudad de ny-nj y otro para las demas ciudades\n"
   ]
  },
  {
   "cell_type": "code",
   "execution_count": 69,
   "metadata": {},
   "outputs": [],
   "source": [
    "# Evaluamos la hipotesis\n",
    "\n",
    "alpha = .05\n",
    "\n",
    "ny_nj_df = city_users_df[city_users_df[\"city\"].str.contains(\"NY-NJ\")][\"total_to_pay\"]\n",
    "rest_cities_df = city_users_df[~city_users_df[\"city\"].str.contains(\"NY-NJ\")][\"total_to_pay\"]\n",
    "results= st.ttest_ind(ny_nj_df,rest_cities_df,equal_var=False)"
   ]
  },
  {
   "cell_type": "code",
   "execution_count": 70,
   "metadata": {},
   "outputs": [
    {
     "name": "stdout",
     "output_type": "stream",
     "text": [
      "0.040697959408849356\n",
      "Se rechaza la hipotesis\n"
     ]
    }
   ],
   "source": [
    "print(results.pvalue)\n",
    "final_result(results.pvalue, alpha)"
   ]
  },
  {
   "cell_type": "markdown",
   "metadata": {},
   "source": [
    "Tomando en cuenta un umbral del 5% (alpha), Se rechazar la hipotesis nula que dice que **\"El ingreso de los usuarios del área NY-NJ es igual al de la suma de los usuarios de otras regiones\"**"
   ]
  },
  {
   "cell_type": "markdown",
   "metadata": {},
   "source": [
    "<div class=\"alert alert-block alert-info\">\n",
    "<b>Respuesta del estudiante</b> <a class=\"tocSkip\"></a>\n",
    "Corregido\n",
    "</div>"
   ]
  },
  {
   "cell_type": "markdown",
   "metadata": {},
   "source": [
    "<div class=\"alert alert-block alert-info\">\n",
    "<b>Respuesta del estudiante</b> <a class=\"tocSkip\"></a>\n",
    "Corregido a totales\n",
    "</div>"
   ]
  },
  {
   "cell_type": "markdown",
   "metadata": {},
   "source": [
    "Hipotesis extras\n",
    "- Hipotesis Nula: El ingreso de los usuarios del área NY-NJ para cada plan es igual al de los usuarios de otras regiones\n",
    "- Hipotesis Alernativa : El ingreso de los usuarios del área NY-NJ para cada plan es diferente al de los usuarios de otras regiones"
   ]
  },
  {
   "cell_type": "code",
   "execution_count": 71,
   "metadata": {},
   "outputs": [],
   "source": [
    "ny_nj_df = city_users_df[city_users_df[\"city\"].str.contains(\"NY-NJ\")]\n",
    "rest_cities_df = city_users_df[~city_users_df[\"city\"].str.contains(\"NY-NJ\")]\n",
    "\n",
    "alpha = .05\n",
    "\n",
    "#Surf y ultimate para la ciudad de Newyork\n",
    "surf_nj = ny_nj_df[ny_nj_df[\"plan_name\"]==\"surf\"][\"total_to_pay\"]\n",
    "ultimate_nj = ny_nj_df[ny_nj_df[\"plan_name\"]==\"ultimate\"][\"total_to_pay\"]\n",
    "\n",
    "#Surf y ultimate para otras ciudades\n",
    "surf_other = rest_cities_df[rest_cities_df[\"plan_name\"]==\"surf\"][\"total_to_pay\"]\n",
    "ultimate_other = rest_cities_df[rest_cities_df[\"plan_name\"]==\"ultimate\"][\"total_to_pay\"]"
   ]
  },
  {
   "cell_type": "code",
   "execution_count": 72,
   "metadata": {},
   "outputs": [
    {
     "name": "stdout",
     "output_type": "stream",
     "text": [
      "pvalue para hipotesis Surf 0.10751477757026569, pvalue para hipotesis Ultimate 0.027713932381135436\n",
      "No se puede rechazar la teoría\n",
      "Se rechaza la hipotesis\n"
     ]
    }
   ],
   "source": [
    "result_surf = st.ttest_ind(surf_nj,surf_other, equal_var=False)\n",
    "result_ultimate = st.ttest_ind(ultimate_nj,ultimate_other, equal_var=False)\n",
    "print(f\"pvalue para hipotesis Surf {result_surf.pvalue}, pvalue para hipotesis Ultimate {result_ultimate.pvalue}\")\n",
    "\n",
    "final_result(result_surf.pvalue, alpha)\n",
    "final_result(result_ultimate.pvalue, alpha)"
   ]
  },
  {
   "cell_type": "markdown",
   "metadata": {},
   "source": [
    "Tomando en cuenta un umbral del 5% (alpha) podemos mencionar que:\n",
    "\n",
    "- No podemos rechazar la hipotesis nula que dice que **El ingreso promedio de los usuarios del área NY-NJ  (para el plan surf) es igual al de los usuarios de otras regiones**\n",
    "- Se rechaza la hipotesis nula que dice que **El ingreso promedio de los usuarios del área NY-NJ (para el plan últimate) es igual al de los usuarios de otras regiones**\n"
   ]
  },
  {
   "cell_type": "markdown",
   "metadata": {
    "id": "bbTR8UQO0q1T"
   },
   "source": [
    "## Conclusión general\n",
    "\n",
    "- Es importante revaluar si el plan **Surf** cumple con las necesidades del cliente, los gráficos muestran una tendencia a rebasar los limites de la cobertura del plan en mensajes, internet, llamadas y duración, esta tendencia pude llevar a iniciar un porcentaje de abandono o en el mejor de los causos un cambio de plan. Esuchar a los usuarios, analizar a la competencia y los paquetes que ofrecen al mercado nos ayudará a establecer los límites correctos.\n",
    "\n",
    "- Considerar que existen usuarios que a pesar de su terminación de contrato, continuaron generando costos, valdría la pena preguntar al equipo encargado cuál pudo ser el problema (una mala captura de su salida, o posibles errores en el sistema)."
   ]
  },
  {
   "cell_type": "markdown",
   "metadata": {},
   "source": [
    "<div class=\"alert alert-block alert-danger\">\n",
    "    \n",
    "# Comentarios generales\n",
    "<b>Comentario del revisor</b> <a class=\"tocSkip\"></a>\n",
    "    \n",
    "Buen trabajo, Juan Manuel. Nos quedan unos pocos detalles pendientes por resolver antes de poder aprobar tu proyecto. He dejado comentarios a lo largo del documento para ello.\n",
    "</div>"
   ]
  },
  {
   "cell_type": "markdown",
   "metadata": {},
   "source": [
    "<div class=\"alert alert-block alert-danger\">\n",
    "    \n",
    "# Comentarios generales\n",
    "<b>Comentario del revisor</b> <a class=\"tocSkip\"></a>\n",
    "    \n",
    "Buen trabajo con las correcciones, Juan Manuel. Nos queda únicamente corregir la sección de las pruebas de hipótesis.\n",
    "</div>"
   ]
  },
  {
   "cell_type": "markdown",
   "metadata": {},
   "source": [
    "<div class=\"alert alert-block alert-info\">\n",
    "<b>Respuesta del estudiante</b> <a class=\"tocSkip\"></a>\n",
    "Muchas gracias por todos los comentarios realizados, me motivan a concentrarme y enfocarme en dar mejores soluciones</div>"
   ]
  },
  {
   "cell_type": "markdown",
   "metadata": {},
   "source": [
    "<div class=\"alert alert-block alert-success\">\n",
    "    \n",
    "# Comentarios generales\n",
    "<b>Comentario del revisor</b> <a class=\"tocSkip\"></a>\n",
    "    \n",
    "Todo corregido, Juan Manuel. Has aprobado un nuevo proyecto. ¡Felicitaciones!\n",
    "</div>"
   ]
  }
 ],
 "metadata": {
  "ExecuteTimeLog": [
   {
    "duration": 828,
    "start_time": "2021-11-16T09:21:11.304Z"
   },
   {
    "duration": 893,
    "start_time": "2021-11-16T09:21:17.728Z"
   },
   {
    "duration": 1150,
    "start_time": "2021-11-16T09:21:29.568Z"
   },
   {
    "duration": 3,
    "start_time": "2021-11-16T09:24:14.495Z"
   },
   {
    "duration": 120,
    "start_time": "2021-11-16T09:24:46.630Z"
   },
   {
    "duration": 3,
    "start_time": "2021-11-16T09:28:27.882Z"
   },
   {
    "duration": 4,
    "start_time": "2021-11-16T09:29:54.281Z"
   },
   {
    "duration": 3,
    "start_time": "2021-11-16T09:30:45.936Z"
   },
   {
    "duration": 4,
    "start_time": "2021-11-16T09:31:06.300Z"
   },
   {
    "duration": 113,
    "start_time": "2021-11-16T09:31:37.208Z"
   },
   {
    "duration": 143,
    "start_time": "2021-11-16T09:31:48.656Z"
   },
   {
    "duration": 98,
    "start_time": "2021-11-16T09:31:55.678Z"
   },
   {
    "duration": 3,
    "start_time": "2021-11-16T09:32:08.535Z"
   },
   {
    "duration": 111,
    "start_time": "2021-11-16T09:32:10.120Z"
   },
   {
    "duration": 3,
    "start_time": "2021-11-16T09:32:15.732Z"
   },
   {
    "duration": 4,
    "start_time": "2021-11-16T09:32:29.423Z"
   },
   {
    "duration": 3,
    "start_time": "2021-11-16T10:03:03.074Z"
   },
   {
    "duration": 3,
    "start_time": "2021-11-16T10:10:01.288Z"
   },
   {
    "duration": 3,
    "start_time": "2021-11-16T10:10:46.923Z"
   },
   {
    "duration": 121,
    "start_time": "2021-11-16T10:37:46.494Z"
   },
   {
    "duration": 125,
    "start_time": "2021-11-16T10:38:20.632Z"
   },
   {
    "duration": 112,
    "start_time": "2021-11-16T10:46:53.001Z"
   },
   {
    "duration": 110,
    "start_time": "2021-11-16T10:48:25.775Z"
   },
   {
    "duration": 3,
    "start_time": "2021-11-16T10:50:18.720Z"
   },
   {
    "duration": 4,
    "start_time": "2021-11-16T10:50:37.649Z"
   },
   {
    "duration": 2,
    "start_time": "2021-11-16T10:50:51.884Z"
   },
   {
    "duration": 3,
    "start_time": "2021-11-16T10:51:56.237Z"
   },
   {
    "duration": 101,
    "start_time": "2021-11-16T10:53:13.791Z"
   },
   {
    "duration": 3,
    "start_time": "2021-11-16T10:55:59.186Z"
   },
   {
    "duration": 3,
    "start_time": "2021-11-16T10:56:10.751Z"
   },
   {
    "duration": 3,
    "start_time": "2021-11-16T10:56:49.038Z"
   },
   {
    "duration": 3,
    "start_time": "2021-11-16T10:56:49.174Z"
   },
   {
    "duration": 4,
    "start_time": "2021-11-16T10:56:49.414Z"
   },
   {
    "duration": 3,
    "start_time": "2021-11-16T10:56:49.680Z"
   },
   {
    "duration": 3,
    "start_time": "2021-11-16T10:56:50.370Z"
   },
   {
    "duration": 114,
    "start_time": "2021-11-16T10:59:34.518Z"
   },
   {
    "duration": 3,
    "start_time": "2021-11-16T11:01:41.201Z"
   },
   {
    "duration": 116,
    "start_time": "2021-11-16T11:01:48.754Z"
   },
   {
    "duration": 3,
    "start_time": "2021-11-16T11:02:16.685Z"
   },
   {
    "duration": 3,
    "start_time": "2021-11-16T11:02:19.479Z"
   },
   {
    "duration": 3,
    "start_time": "2021-11-16T11:02:47.067Z"
   },
   {
    "duration": 3,
    "start_time": "2021-11-16T11:02:49.353Z"
   },
   {
    "duration": 3,
    "start_time": "2021-11-16T11:03:07.835Z"
   },
   {
    "duration": 3,
    "start_time": "2021-11-16T11:03:07.953Z"
   },
   {
    "duration": 112,
    "start_time": "2021-11-16T11:07:52.072Z"
   },
   {
    "duration": 187,
    "start_time": "2021-11-16T11:09:23.468Z"
   },
   {
    "duration": 4,
    "start_time": "2021-11-16T11:10:01.455Z"
   },
   {
    "duration": 3,
    "start_time": "2021-11-16T11:10:05.069Z"
   },
   {
    "duration": 4,
    "start_time": "2021-11-16T11:10:13.376Z"
   },
   {
    "duration": 3,
    "start_time": "2021-11-16T11:10:14.434Z"
   },
   {
    "duration": 3,
    "start_time": "2021-11-16T11:10:22.853Z"
   },
   {
    "duration": 4,
    "start_time": "2021-11-16T11:27:29.279Z"
   },
   {
    "duration": 4,
    "start_time": "2021-11-16T11:29:08.919Z"
   },
   {
    "duration": 118,
    "start_time": "2021-11-16T11:29:46.703Z"
   },
   {
    "duration": 437,
    "start_time": "2021-11-16T11:36:02.181Z"
   },
   {
    "duration": 157,
    "start_time": "2021-11-16T11:36:14.388Z"
   },
   {
    "duration": 207,
    "start_time": "2021-11-16T11:47:15.898Z"
   },
   {
    "duration": 3,
    "start_time": "2021-11-16T11:53:52.092Z"
   },
   {
    "duration": 3,
    "start_time": "2021-11-16T11:53:52.236Z"
   },
   {
    "duration": 3,
    "start_time": "2021-11-16T11:59:12.005Z"
   },
   {
    "duration": 112,
    "start_time": "2021-11-16T12:00:33.446Z"
   },
   {
    "duration": 3,
    "start_time": "2021-11-16T12:02:14.453Z"
   },
   {
    "duration": 3,
    "start_time": "2021-11-16T12:02:39.512Z"
   },
   {
    "duration": 106,
    "start_time": "2021-11-16T12:03:03.460Z"
   },
   {
    "duration": 3,
    "start_time": "2021-11-17T20:37:21.139Z"
   },
   {
    "duration": 3,
    "start_time": "2021-11-17T20:37:22.229Z"
   },
   {
    "duration": 3,
    "start_time": "2021-11-17T20:38:38.806Z"
   },
   {
    "duration": 3,
    "start_time": "2021-11-17T20:38:41.958Z"
   },
   {
    "duration": 3,
    "start_time": "2021-11-17T20:43:46.551Z"
   },
   {
    "duration": 4,
    "start_time": "2021-11-17T20:58:21.835Z"
   },
   {
    "duration": 3,
    "start_time": "2021-11-17T20:59:21.872Z"
   },
   {
    "duration": 4,
    "start_time": "2021-11-17T20:59:45.352Z"
   },
   {
    "duration": 4,
    "start_time": "2021-11-17T20:59:49.646Z"
   },
   {
    "duration": 159,
    "start_time": "2021-11-17T21:02:26.949Z"
   },
   {
    "duration": 3,
    "start_time": "2021-11-17T21:03:53.461Z"
   },
   {
    "duration": 3,
    "start_time": "2021-11-17T21:03:53.694Z"
   },
   {
    "duration": 3,
    "start_time": "2021-11-17T21:05:28.145Z"
   },
   {
    "duration": 116,
    "start_time": "2021-11-17T21:05:57.787Z"
   },
   {
    "duration": 3,
    "start_time": "2021-11-17T21:06:37.993Z"
   },
   {
    "duration": 3,
    "start_time": "2021-11-17T21:06:38.261Z"
   },
   {
    "duration": 3,
    "start_time": "2021-11-17T21:11:54.358Z"
   },
   {
    "duration": 3,
    "start_time": "2021-11-17T21:12:43.846Z"
   },
   {
    "duration": 4,
    "start_time": "2021-11-17T21:13:08.773Z"
   },
   {
    "duration": 3,
    "start_time": "2021-11-17T21:14:44.441Z"
   },
   {
    "duration": 3,
    "start_time": "2021-11-17T21:15:42.059Z"
   },
   {
    "duration": 4,
    "start_time": "2021-11-17T21:15:51.995Z"
   },
   {
    "duration": 3,
    "start_time": "2021-11-17T21:15:53.923Z"
   },
   {
    "duration": 3,
    "start_time": "2021-11-17T21:15:55.282Z"
   },
   {
    "duration": 3,
    "start_time": "2021-11-17T21:16:28.492Z"
   },
   {
    "duration": 3,
    "start_time": "2021-11-17T21:16:32.603Z"
   },
   {
    "duration": 3,
    "start_time": "2021-11-17T21:17:06.941Z"
   },
   {
    "duration": 98,
    "start_time": "2021-11-17T21:18:05.733Z"
   },
   {
    "duration": 4,
    "start_time": "2021-11-17T21:21:35.255Z"
   },
   {
    "duration": 3,
    "start_time": "2021-11-17T21:21:37.804Z"
   },
   {
    "duration": 4,
    "start_time": "2021-11-17T21:23:06.071Z"
   },
   {
    "duration": 3,
    "start_time": "2021-11-17T21:23:24.799Z"
   },
   {
    "duration": 3,
    "start_time": "2021-11-17T21:23:32.591Z"
   },
   {
    "duration": 98,
    "start_time": "2021-11-17T21:28:31.559Z"
   },
   {
    "duration": 3,
    "start_time": "2021-11-17T21:28:45.448Z"
   },
   {
    "duration": 3,
    "start_time": "2021-11-17T21:29:17.303Z"
   },
   {
    "duration": 3,
    "start_time": "2021-11-17T21:29:29.617Z"
   },
   {
    "duration": 3,
    "start_time": "2021-11-17T21:29:32.681Z"
   },
   {
    "duration": 3,
    "start_time": "2021-11-17T21:36:11.474Z"
   },
   {
    "duration": 3,
    "start_time": "2021-11-17T21:36:14.791Z"
   },
   {
    "duration": 3,
    "start_time": "2021-11-17T21:36:53.943Z"
   },
   {
    "duration": 3,
    "start_time": "2021-11-17T21:36:56.165Z"
   },
   {
    "duration": 4,
    "start_time": "2021-11-17T21:37:16.590Z"
   },
   {
    "duration": 3,
    "start_time": "2021-11-17T21:37:22.702Z"
   },
   {
    "duration": 4,
    "start_time": "2021-11-17T21:38:03.479Z"
   },
   {
    "duration": 3,
    "start_time": "2021-11-17T21:38:08.601Z"
   },
   {
    "duration": 3,
    "start_time": "2021-11-17T21:38:12.928Z"
   },
   {
    "duration": 3,
    "start_time": "2021-11-17T21:38:48.896Z"
   },
   {
    "duration": 2,
    "start_time": "2021-11-17T21:38:49.171Z"
   },
   {
    "duration": 4,
    "start_time": "2021-11-17T21:39:57.889Z"
   },
   {
    "duration": 3,
    "start_time": "2021-11-17T21:39:58.057Z"
   },
   {
    "duration": 3,
    "start_time": "2021-11-17T21:41:20.108Z"
   },
   {
    "duration": 3,
    "start_time": "2021-11-17T21:41:20.629Z"
   },
   {
    "duration": 3,
    "start_time": "2021-11-17T21:42:49.136Z"
   },
   {
    "duration": 3,
    "start_time": "2021-11-17T21:43:15.137Z"
   },
   {
    "duration": 4,
    "start_time": "2021-11-17T21:43:16.766Z"
   },
   {
    "duration": 4,
    "start_time": "2021-11-17T21:43:31.711Z"
   },
   {
    "duration": 3,
    "start_time": "2021-11-17T21:43:36.312Z"
   },
   {
    "duration": 4,
    "start_time": "2021-11-17T21:45:08.825Z"
   },
   {
    "duration": 4,
    "start_time": "2021-11-17T21:45:10.119Z"
   },
   {
    "duration": 4,
    "start_time": "2021-11-17T21:45:13.748Z"
   },
   {
    "duration": 3,
    "start_time": "2021-11-17T21:45:22.219Z"
   },
   {
    "duration": 3,
    "start_time": "2021-11-17T21:45:33.412Z"
   },
   {
    "duration": 2,
    "start_time": "2021-11-17T21:46:01.885Z"
   },
   {
    "duration": 3,
    "start_time": "2021-11-17T21:46:03.628Z"
   },
   {
    "duration": 107,
    "start_time": "2021-11-17T21:47:32.512Z"
   },
   {
    "duration": 103,
    "start_time": "2021-11-17T21:50:36.243Z"
   },
   {
    "duration": 3,
    "start_time": "2021-11-18T06:28:31.440Z"
   },
   {
    "duration": 3,
    "start_time": "2021-11-18T06:29:00.168Z"
   },
   {
    "duration": 3,
    "start_time": "2021-11-18T06:31:27.008Z"
   },
   {
    "duration": 2,
    "start_time": "2021-11-18T06:35:34.288Z"
   },
   {
    "duration": 2,
    "start_time": "2021-11-18T06:38:04.527Z"
   }
  ],
  "colab": {
   "provenance": []
  },
  "kernelspec": {
   "display_name": "Python 3 (ipykernel)",
   "language": "python",
   "name": "python3"
  },
  "language_info": {
   "codemirror_mode": {
    "name": "ipython",
    "version": 3
   },
   "file_extension": ".py",
   "mimetype": "text/x-python",
   "name": "python",
   "nbconvert_exporter": "python",
   "pygments_lexer": "ipython3",
   "version": "3.9.5"
  },
  "toc": {
   "base_numbering": 1,
   "nav_menu": {},
   "number_sections": true,
   "sideBar": true,
   "skip_h1_title": false,
   "title_cell": "Table of Contents",
   "title_sidebar": "Contents",
   "toc_cell": false,
   "toc_position": {},
   "toc_section_display": true,
   "toc_window_display": false
  }
 },
 "nbformat": 4,
 "nbformat_minor": 1
}
